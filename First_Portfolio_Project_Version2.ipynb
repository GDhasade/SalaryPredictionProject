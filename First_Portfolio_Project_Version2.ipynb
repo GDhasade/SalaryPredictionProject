{
 "cells": [
  {
   "cell_type": "markdown",
   "metadata": {},
   "source": [
    "# Salary Predictions Based on Job Descriptions"
   ]
  },
  {
   "cell_type": "markdown",
   "metadata": {},
   "source": [
    "# Part 1 - DEFINE"
   ]
  },
  {
   "cell_type": "markdown",
   "metadata": {},
   "source": [
    "### ---- 1 Define the problem ----"
   ]
  },
  {
   "cell_type": "markdown",
   "metadata": {},
   "source": [
    "##### Project Goal:\n",
    "\n",
    "The goal of this project is to examine the dataset of job postings, and predict salaries for a new set of postings. - This will involve building a model to predict the salaries given in the test dataset.\n",
    "\n",
    "##### Practical use:\n",
    "HR Department of a large company or a Consulting groups that needs real-time solutions in order to make effective employment offers to potential hires.\n",
    "\n",
    "It also finds use in getting to understand current realities in the job market and how businesses can leverage this in order to secure high quality talent, while keeping recuritment cost low.\n",
    "\n",
    "The primary tool used for this project is Python 3, along with an extensive array of libraries and packages available for the manipulation of data,and development of predictive modeling algorithms.\n",
    "\n",
    "##### Project Structure:\n",
    "\n",
    "###### Defining the Problem: \n",
    "Creating \"Data\" and \"Plots\" classes and objects to aid us in extracting, manipulating the given data Exploratory Data Analysis This involves looking at the Data Summaries and Visualizations in order to:\n",
    "\n",
    "Examine the Data Discover patterns and relationships between the features Identify the types of data Clean up the Data Creating classes and objects for Feature Engineering, and Model Selection This will help us preprocess and create new features from existing ones. Here we shall also select the best model for prediction. The algorithms chosen for this are:\n",
    "\n",
    "Linear Regression Random Forest Regressor Gradient Boosting Regressor The Evaluation metric used for these models is the Mean Squared Error.\n",
    "\n",
    "Also we shall look at the Feature Importances, and how each feature performs with the best model selected in making predictions.\n",
    "\n",
    "Saving the results for Deployment Defining the problem Our twofold goal in this project is to:\n",
    "\n",
    "Load and Explore Data Develop and train a suitable prediction model"
   ]
  },
  {
   "cell_type": "markdown",
   "metadata": {},
   "source": [
    "Write the problem in your own words here"
   ]
  },
  {
   "cell_type": "code",
   "execution_count": 1,
   "metadata": {},
   "outputs": [],
   "source": [
    "#import necessary required libraries\n",
    "import numpy as np\n",
    "import pandas as pd\n",
    "import matplotlib.pyplot as plt\n",
    "%matplotlib inline\n",
    "import seaborn as sns\n",
    "\n",
    "import warnings\n",
    "warnings.filterwarnings('ignore')\n",
    "#etc\n",
    "\n",
    "#Author info\n",
    "__author__ = \"Ganesh Dnyaneshwar Dhasade\"\n",
    "__email__ = \"g.dhasade16@gmail.com\""
   ]
  },
  {
   "cell_type": "markdown",
   "metadata": {},
   "source": [
    "## Part 2 - DISCOVER"
   ]
  },
  {
   "cell_type": "markdown",
   "metadata": {},
   "source": [
    "### ---- 2 Load the data ----\n",
    "\n",
    "- Received data having 2 files \n",
    "    1. Contains job features \n",
    "    2. Contains salaries for each job.\n",
    "- In both sheets, JobID is common column\n",
    "- First we import both files and merge them into one single dataframe with reference to jobID"
   ]
  },
  {
   "cell_type": "code",
   "execution_count": 2,
   "metadata": {},
   "outputs": [],
   "source": [
    "#load the data into a Pandas dataframe\n",
    "DataFrame1 = pd.read_csv(\"/Users/ganesh_dhasade/Documents/DSDJ/Salary_Prediction_Project/SalaryPredictionProject/data/train_features.csv\")\n",
    "DataFrame2 = pd.read_csv(\"/Users/ganesh_dhasade/Documents/DSDJ/Salary_Prediction_Project/SalaryPredictionProject/data/train_salaries.csv\")\n",
    "TestData = pd.read_csv(\"/Users/ganesh_dhasade/Documents/DSDJ/Salary_Prediction_Project/SalaryPredictionProject/data/test_features.csv\")\n",
    "#Megre both dataframe into one\n",
    "CompleteDataFrame = DataFrame1.merge(DataFrame2, on='jobId')"
   ]
  },
  {
   "cell_type": "markdown",
   "metadata": {},
   "source": [
    "### ---- 3 Clean the data ----"
   ]
  },
  {
   "cell_type": "markdown",
   "metadata": {},
   "source": [
    "### ---- Train Dataset -----"
   ]
  },
  {
   "cell_type": "code",
   "execution_count": 4,
   "metadata": {},
   "outputs": [],
   "source": [
    "#look for duplicate data, invalid data (e.g. salaries <=0), or corrupt data and remove it\n",
    "#Create copy of clean dataset for cleaning\n",
    "CleanDataFrame = CompleteDataFrame.copy()"
   ]
  },
  {
   "cell_type": "code",
   "execution_count": 5,
   "metadata": {},
   "outputs": [
    {
     "data": {
      "text/plain": [
       "jobId                  object\n",
       "companyId              object\n",
       "jobType                object\n",
       "degree                 object\n",
       "major                  object\n",
       "industry               object\n",
       "yearsExperience         int64\n",
       "milesFromMetropolis     int64\n",
       "salary                  int64\n",
       "dtype: object"
      ]
     },
     "execution_count": 5,
     "metadata": {},
     "output_type": "execute_result"
    }
   ],
   "source": [
    "CleanDataFrame.dtypes"
   ]
  },
  {
   "cell_type": "code",
   "execution_count": 6,
   "metadata": {},
   "outputs": [
    {
     "data": {
      "text/plain": [
       "0"
      ]
     },
     "execution_count": 6,
     "metadata": {},
     "output_type": "execute_result"
    }
   ],
   "source": [
    "#Check duplicate rows\n",
    "CleanDataFrame.duplicated().sum()"
   ]
  },
  {
   "cell_type": "markdown",
   "metadata": {},
   "source": [
    "There are zero duplicate rows in dataset"
   ]
  },
  {
   "cell_type": "code",
   "execution_count": 7,
   "metadata": {},
   "outputs": [
    {
     "name": "stdout",
     "output_type": "stream",
     "text": [
      "0\n",
      "0\n",
      "0\n",
      "0\n",
      "0\n",
      "There are 5 invalid salaries i.e contains 0\n"
     ]
    }
   ],
   "source": [
    "# Check invalid data\n",
    "InvCount = 0\n",
    "for i in CleanDataFrame['salary']:\n",
    "    if(i <= 0 ):\n",
    "        print(i)\n",
    "        InvCount = InvCount + 1\n",
    "        \n",
    "print(\"There are {} invalid salaries i.e contains 0\".format(InvCount))"
   ]
  },
  {
   "cell_type": "markdown",
   "metadata": {},
   "source": [
    "There are 5 invalid entries in salary column and all having value 0,\n",
    "Hence need to handle those 5 values"
   ]
  },
  {
   "cell_type": "code",
   "execution_count": 8,
   "metadata": {},
   "outputs": [
    {
     "data": {
      "text/plain": [
       "jobId                  0\n",
       "companyId              0\n",
       "jobType                0\n",
       "degree                 0\n",
       "major                  0\n",
       "industry               0\n",
       "yearsExperience        0\n",
       "milesFromMetropolis    0\n",
       "salary                 0\n",
       "dtype: int64"
      ]
     },
     "execution_count": 8,
     "metadata": {},
     "output_type": "execute_result"
    }
   ],
   "source": [
    "# Now, check how may null values in dataframe\n",
    "CleanDataFrame.isnull().sum()"
   ]
  },
  {
   "cell_type": "markdown",
   "metadata": {},
   "source": [
    "The dataset is clean and don't have any null values"
   ]
  },
  {
   "cell_type": "code",
   "execution_count": 9,
   "metadata": {},
   "outputs": [
    {
     "data": {
      "text/plain": [
       "(1000000, 9)"
      ]
     },
     "execution_count": 9,
     "metadata": {},
     "output_type": "execute_result"
    }
   ],
   "source": [
    "CleanDataFrame.shape"
   ]
  },
  {
   "cell_type": "code",
   "execution_count": 10,
   "metadata": {},
   "outputs": [
    {
     "name": "stdout",
     "output_type": "stream",
     "text": [
      "<class 'pandas.core.frame.DataFrame'>\n",
      "Int64Index: 1000000 entries, 0 to 999999\n",
      "Data columns (total 9 columns):\n",
      " #   Column               Non-Null Count    Dtype \n",
      "---  ------               --------------    ----- \n",
      " 0   jobId                1000000 non-null  object\n",
      " 1   companyId            1000000 non-null  object\n",
      " 2   jobType              1000000 non-null  object\n",
      " 3   degree               1000000 non-null  object\n",
      " 4   major                1000000 non-null  object\n",
      " 5   industry             1000000 non-null  object\n",
      " 6   yearsExperience      1000000 non-null  int64 \n",
      " 7   milesFromMetropolis  1000000 non-null  int64 \n",
      " 8   salary               1000000 non-null  int64 \n",
      "dtypes: int64(3), object(6)\n",
      "memory usage: 76.3+ MB\n"
     ]
    }
   ],
   "source": [
    "# check datatype of each features\n",
    "CleanDataFrame.info()"
   ]
  },
  {
   "cell_type": "markdown",
   "metadata": {},
   "source": [
    "There are 3 numerical columns </n>\n",
    "and 6 categorical columns & doesn't have any null value"
   ]
  },
  {
   "cell_type": "markdown",
   "metadata": {},
   "source": [
    "### ---- 4 Explore the data (EDA) ----"
   ]
  },
  {
   "cell_type": "code",
   "execution_count": 11,
   "metadata": {},
   "outputs": [],
   "source": [
    "#summarize each feature variable\n",
    "#summarize the target variable\n",
    "#look for correlation between each feature and the target\n",
    "#look for correlation between features"
   ]
  },
  {
   "cell_type": "code",
   "execution_count": 12,
   "metadata": {},
   "outputs": [],
   "source": [
    "EDATrain = CleanDataFrame.copy()"
   ]
  },
  {
   "cell_type": "code",
   "execution_count": 13,
   "metadata": {},
   "outputs": [
    {
     "data": {
      "text/html": [
       "<div>\n",
       "<style scoped>\n",
       "    .dataframe tbody tr th:only-of-type {\n",
       "        vertical-align: middle;\n",
       "    }\n",
       "\n",
       "    .dataframe tbody tr th {\n",
       "        vertical-align: top;\n",
       "    }\n",
       "\n",
       "    .dataframe thead th {\n",
       "        text-align: right;\n",
       "    }\n",
       "</style>\n",
       "<table border=\"1\" class=\"dataframe\">\n",
       "  <thead>\n",
       "    <tr style=\"text-align: right;\">\n",
       "      <th></th>\n",
       "      <th>yearsExperience</th>\n",
       "      <th>milesFromMetropolis</th>\n",
       "      <th>salary</th>\n",
       "    </tr>\n",
       "  </thead>\n",
       "  <tbody>\n",
       "    <tr>\n",
       "      <th>count</th>\n",
       "      <td>1000000.000000</td>\n",
       "      <td>1000000.000000</td>\n",
       "      <td>1000000.000000</td>\n",
       "    </tr>\n",
       "    <tr>\n",
       "      <th>mean</th>\n",
       "      <td>11.992386</td>\n",
       "      <td>49.529260</td>\n",
       "      <td>116.061818</td>\n",
       "    </tr>\n",
       "    <tr>\n",
       "      <th>std</th>\n",
       "      <td>7.212391</td>\n",
       "      <td>28.877733</td>\n",
       "      <td>38.717936</td>\n",
       "    </tr>\n",
       "    <tr>\n",
       "      <th>min</th>\n",
       "      <td>0.000000</td>\n",
       "      <td>0.000000</td>\n",
       "      <td>0.000000</td>\n",
       "    </tr>\n",
       "    <tr>\n",
       "      <th>25%</th>\n",
       "      <td>6.000000</td>\n",
       "      <td>25.000000</td>\n",
       "      <td>88.000000</td>\n",
       "    </tr>\n",
       "    <tr>\n",
       "      <th>50%</th>\n",
       "      <td>12.000000</td>\n",
       "      <td>50.000000</td>\n",
       "      <td>114.000000</td>\n",
       "    </tr>\n",
       "    <tr>\n",
       "      <th>75%</th>\n",
       "      <td>18.000000</td>\n",
       "      <td>75.000000</td>\n",
       "      <td>141.000000</td>\n",
       "    </tr>\n",
       "    <tr>\n",
       "      <th>max</th>\n",
       "      <td>24.000000</td>\n",
       "      <td>99.000000</td>\n",
       "      <td>301.000000</td>\n",
       "    </tr>\n",
       "  </tbody>\n",
       "</table>\n",
       "</div>"
      ],
      "text/plain": [
       "       yearsExperience  milesFromMetropolis          salary\n",
       "count   1000000.000000       1000000.000000  1000000.000000\n",
       "mean         11.992386            49.529260      116.061818\n",
       "std           7.212391            28.877733       38.717936\n",
       "min           0.000000             0.000000        0.000000\n",
       "25%           6.000000            25.000000       88.000000\n",
       "50%          12.000000            50.000000      114.000000\n",
       "75%          18.000000            75.000000      141.000000\n",
       "max          24.000000            99.000000      301.000000"
      ]
     },
     "execution_count": 13,
     "metadata": {},
     "output_type": "execute_result"
    }
   ],
   "source": [
    "EDATrain.describe()"
   ]
  },
  {
   "cell_type": "markdown",
   "metadata": {},
   "source": [
    "### Observation:\n",
    "- Except salary colum other two features having median and mean close to each other\n",
    "- Salary: \n",
    "    Mean is greater than median shows its right skewed/ positive sekwed and contains outliers\n",
    " "
   ]
  },
  {
   "cell_type": "code",
   "execution_count": 14,
   "metadata": {},
   "outputs": [
    {
     "data": {
      "text/plain": [
       "<AxesSubplot:xlabel='yearsExperience'>"
      ]
     },
     "execution_count": 14,
     "metadata": {},
     "output_type": "execute_result"
    },
    {
     "data": {
      "image/png": "[encoded data removed]",
      "text/plain": [
       "<Figure size 432x288 with 1 Axes>"
      ]
     },
     "metadata": {
      "needs_background": "light"
     },
     "output_type": "display_data"
    }
   ],
   "source": [
    "# Visualize box plot for all 3 numerical columns\n",
    "sns.boxplot(x=EDATrain[\"yearsExperience\"])"
   ]
  },
  {
   "cell_type": "code",
   "execution_count": 15,
   "metadata": {},
   "outputs": [
    {
     "data": {
      "text/plain": [
       "<AxesSubplot:xlabel='milesFromMetropolis'>"
      ]
     },
     "execution_count": 15,
     "metadata": {},
     "output_type": "execute_result"
    },
    {
     "data": {
      "image/png": "[encoded data removed]",
      "text/plain": [
       "<Figure size 432x288 with 1 Axes>"
      ]
     },
     "metadata": {
      "needs_background": "light"
     },
     "output_type": "display_data"
    }
   ],
   "source": [
    "sns.boxplot(x=EDATrain[\"milesFromMetropolis\"])"
   ]
  },
  {
   "cell_type": "code",
   "execution_count": 16,
   "metadata": {},
   "outputs": [
    {
     "data": {
      "text/plain": [
       "<AxesSubplot:xlabel='salary'>"
      ]
     },
     "execution_count": 16,
     "metadata": {},
     "output_type": "execute_result"
    },
    {
     "data": {
      "image/png": "[encoded data removed]",
      "text/plain": [
       "<Figure size 432x288 with 1 Axes>"
      ]
     },
     "metadata": {
      "needs_background": "light"
     },
     "output_type": "display_data"
    }
   ],
   "source": [
    "sns.boxplot(x=EDATrain[\"salary\"])"
   ]
  },
  {
   "cell_type": "markdown",
   "metadata": {},
   "source": [
    "### Remove outlier we use box plot outlier calculation formula\n",
    "- As we can see above 3 visualizations in box plot salary having outliers\n",
    "- Remove the outliers rows from the dataset\n",
    "- As there are only 5 rows out of 1million datarows we can delete\n",
    "- refer to get more about formula: https://www.simplypsychology.org/boxplots.html#:~:text=When%20reviewing%20a%20box%20plot,whiskers%20of%20the%20box%20plot.&text=For%20example%2C%20outside%201.5%20times,Q3%20%2B%201.5%20*%20IQR).\n",
    "- So basically use formula:\n",
    "     - outside 1.5 times the interquartile range above the upper quartile and \n",
    "     - below the lower quartile (Q1 - 1.5 * IQR or Q3 + 1.5 * IQR)."
   ]
  },
  {
   "cell_type": "code",
   "execution_count": 17,
   "metadata": {},
   "outputs": [
    {
     "name": "stdout",
     "output_type": "stream",
     "text": [
      "count    1000000.000000\n",
      "mean         116.061818\n",
      "std           38.717936\n",
      "min            0.000000\n",
      "25%           88.000000\n",
      "50%          114.000000\n",
      "75%          141.000000\n",
      "max          301.000000\n",
      "Name: salary, dtype: float64\n",
      "The upper and lower bounds for suspected outliers are 220.5 and 8.5.\n"
     ]
    }
   ],
   "source": [
    "DescriptiveStatsSalary = EDATrain.salary.describe()\n",
    "\n",
    "print(DescriptiveStatsSalary)\n",
    "\n",
    "IQR = DescriptiveStatsSalary['75%'] - DescriptiveStatsSalary['25%']\n",
    "\n",
    "upper = DescriptiveStatsSalary['75%'] + 1.5 * IQR\n",
    "\n",
    "lower = DescriptiveStatsSalary['25%'] - 1.5 * IQR\n",
    "\n",
    "print('The upper and lower bounds for suspected outliers are {} and {}.'.format(upper, lower))"
   ]
  },
  {
   "cell_type": "code",
   "execution_count": 18,
   "metadata": {},
   "outputs": [
    {
     "data": {
      "text/html": [
       "<div>\n",
       "<style scoped>\n",
       "    .dataframe tbody tr th:only-of-type {\n",
       "        vertical-align: middle;\n",
       "    }\n",
       "\n",
       "    .dataframe tbody tr th {\n",
       "        vertical-align: top;\n",
       "    }\n",
       "\n",
       "    .dataframe thead th {\n",
       "        text-align: right;\n",
       "    }\n",
       "</style>\n",
       "<table border=\"1\" class=\"dataframe\">\n",
       "  <thead>\n",
       "    <tr style=\"text-align: right;\">\n",
       "      <th></th>\n",
       "      <th>jobId</th>\n",
       "      <th>companyId</th>\n",
       "      <th>jobType</th>\n",
       "      <th>degree</th>\n",
       "      <th>major</th>\n",
       "      <th>industry</th>\n",
       "      <th>yearsExperience</th>\n",
       "      <th>milesFromMetropolis</th>\n",
       "      <th>salary</th>\n",
       "    </tr>\n",
       "  </thead>\n",
       "  <tbody>\n",
       "    <tr>\n",
       "      <th>30559</th>\n",
       "      <td>JOB1362684438246</td>\n",
       "      <td>COMP44</td>\n",
       "      <td>JUNIOR</td>\n",
       "      <td>DOCTORAL</td>\n",
       "      <td>MATH</td>\n",
       "      <td>AUTO</td>\n",
       "      <td>11</td>\n",
       "      <td>7</td>\n",
       "      <td>0</td>\n",
       "    </tr>\n",
       "    <tr>\n",
       "      <th>495984</th>\n",
       "      <td>JOB1362684903671</td>\n",
       "      <td>COMP34</td>\n",
       "      <td>JUNIOR</td>\n",
       "      <td>NONE</td>\n",
       "      <td>NONE</td>\n",
       "      <td>OIL</td>\n",
       "      <td>1</td>\n",
       "      <td>25</td>\n",
       "      <td>0</td>\n",
       "    </tr>\n",
       "    <tr>\n",
       "      <th>652076</th>\n",
       "      <td>JOB1362685059763</td>\n",
       "      <td>COMP25</td>\n",
       "      <td>CTO</td>\n",
       "      <td>HIGH_SCHOOL</td>\n",
       "      <td>NONE</td>\n",
       "      <td>AUTO</td>\n",
       "      <td>6</td>\n",
       "      <td>60</td>\n",
       "      <td>0</td>\n",
       "    </tr>\n",
       "    <tr>\n",
       "      <th>816129</th>\n",
       "      <td>JOB1362685223816</td>\n",
       "      <td>COMP42</td>\n",
       "      <td>MANAGER</td>\n",
       "      <td>DOCTORAL</td>\n",
       "      <td>ENGINEERING</td>\n",
       "      <td>FINANCE</td>\n",
       "      <td>18</td>\n",
       "      <td>6</td>\n",
       "      <td>0</td>\n",
       "    </tr>\n",
       "    <tr>\n",
       "      <th>828156</th>\n",
       "      <td>JOB1362685235843</td>\n",
       "      <td>COMP40</td>\n",
       "      <td>VICE_PRESIDENT</td>\n",
       "      <td>MASTERS</td>\n",
       "      <td>ENGINEERING</td>\n",
       "      <td>WEB</td>\n",
       "      <td>3</td>\n",
       "      <td>29</td>\n",
       "      <td>0</td>\n",
       "    </tr>\n",
       "  </tbody>\n",
       "</table>\n",
       "</div>"
      ],
      "text/plain": [
       "                   jobId companyId         jobType       degree        major  \\\n",
       "30559   JOB1362684438246    COMP44          JUNIOR     DOCTORAL         MATH   \n",
       "495984  JOB1362684903671    COMP34          JUNIOR         NONE         NONE   \n",
       "652076  JOB1362685059763    COMP25             CTO  HIGH_SCHOOL         NONE   \n",
       "816129  JOB1362685223816    COMP42         MANAGER     DOCTORAL  ENGINEERING   \n",
       "828156  JOB1362685235843    COMP40  VICE_PRESIDENT      MASTERS  ENGINEERING   \n",
       "\n",
       "       industry  yearsExperience  milesFromMetropolis  salary  \n",
       "30559      AUTO               11                    7       0  \n",
       "495984      OIL                1                   25       0  \n",
       "652076     AUTO                6                   60       0  \n",
       "816129  FINANCE               18                    6       0  \n",
       "828156      WEB                3                   29       0  "
      ]
     },
     "execution_count": 18,
     "metadata": {},
     "output_type": "execute_result"
    }
   ],
   "source": [
    "# Lets check values of those rows whose salary is less than 8.5 (lower bound)\n",
    "EDATrain[EDATrain.salary < 8.5]\n"
   ]
  },
  {
   "cell_type": "code",
   "execution_count": 19,
   "metadata": {},
   "outputs": [
    {
     "data": {
      "text/plain": [
       "(999995, 9)"
      ]
     },
     "execution_count": 19,
     "metadata": {},
     "output_type": "execute_result"
    }
   ],
   "source": [
    "# So we have 5 rows whose salary is 0 and yeah those are outliers lets remove those rows\n",
    "EDATrain = EDATrain[EDATrain.salary > 8.5]\n",
    "EDATrain.shape"
   ]
  },
  {
   "cell_type": "code",
   "execution_count": 20,
   "metadata": {},
   "outputs": [
    {
     "data": {
      "text/html": [
       "<div>\n",
       "<style scoped>\n",
       "    .dataframe tbody tr th:only-of-type {\n",
       "        vertical-align: middle;\n",
       "    }\n",
       "\n",
       "    .dataframe tbody tr th {\n",
       "        vertical-align: top;\n",
       "    }\n",
       "\n",
       "    .dataframe thead th {\n",
       "        text-align: right;\n",
       "    }\n",
       "</style>\n",
       "<table border=\"1\" class=\"dataframe\">\n",
       "  <thead>\n",
       "    <tr style=\"text-align: right;\">\n",
       "      <th></th>\n",
       "      <th>jobId</th>\n",
       "      <th>companyId</th>\n",
       "      <th>jobType</th>\n",
       "      <th>degree</th>\n",
       "      <th>major</th>\n",
       "      <th>industry</th>\n",
       "      <th>yearsExperience</th>\n",
       "      <th>milesFromMetropolis</th>\n",
       "      <th>salary</th>\n",
       "    </tr>\n",
       "  </thead>\n",
       "  <tbody>\n",
       "    <tr>\n",
       "      <th>266</th>\n",
       "      <td>JOB1362684407953</td>\n",
       "      <td>COMP30</td>\n",
       "      <td>CEO</td>\n",
       "      <td>MASTERS</td>\n",
       "      <td>BIOLOGY</td>\n",
       "      <td>OIL</td>\n",
       "      <td>23</td>\n",
       "      <td>60</td>\n",
       "      <td>223</td>\n",
       "    </tr>\n",
       "    <tr>\n",
       "      <th>362</th>\n",
       "      <td>JOB1362684408049</td>\n",
       "      <td>COMP38</td>\n",
       "      <td>CTO</td>\n",
       "      <td>MASTERS</td>\n",
       "      <td>NONE</td>\n",
       "      <td>HEALTH</td>\n",
       "      <td>24</td>\n",
       "      <td>3</td>\n",
       "      <td>223</td>\n",
       "    </tr>\n",
       "    <tr>\n",
       "      <th>560</th>\n",
       "      <td>JOB1362684408247</td>\n",
       "      <td>COMP53</td>\n",
       "      <td>CEO</td>\n",
       "      <td>MASTERS</td>\n",
       "      <td>BIOLOGY</td>\n",
       "      <td>WEB</td>\n",
       "      <td>22</td>\n",
       "      <td>7</td>\n",
       "      <td>248</td>\n",
       "    </tr>\n",
       "    <tr>\n",
       "      <th>670</th>\n",
       "      <td>JOB1362684408357</td>\n",
       "      <td>COMP26</td>\n",
       "      <td>CEO</td>\n",
       "      <td>MASTERS</td>\n",
       "      <td>MATH</td>\n",
       "      <td>AUTO</td>\n",
       "      <td>23</td>\n",
       "      <td>9</td>\n",
       "      <td>240</td>\n",
       "    </tr>\n",
       "    <tr>\n",
       "      <th>719</th>\n",
       "      <td>JOB1362684408406</td>\n",
       "      <td>COMP54</td>\n",
       "      <td>VICE_PRESIDENT</td>\n",
       "      <td>DOCTORAL</td>\n",
       "      <td>BIOLOGY</td>\n",
       "      <td>OIL</td>\n",
       "      <td>21</td>\n",
       "      <td>14</td>\n",
       "      <td>225</td>\n",
       "    </tr>\n",
       "    <tr>\n",
       "      <th>...</th>\n",
       "      <td>...</td>\n",
       "      <td>...</td>\n",
       "      <td>...</td>\n",
       "      <td>...</td>\n",
       "      <td>...</td>\n",
       "      <td>...</td>\n",
       "      <td>...</td>\n",
       "      <td>...</td>\n",
       "      <td>...</td>\n",
       "    </tr>\n",
       "    <tr>\n",
       "      <th>998516</th>\n",
       "      <td>JOB1362685406203</td>\n",
       "      <td>COMP29</td>\n",
       "      <td>CFO</td>\n",
       "      <td>MASTERS</td>\n",
       "      <td>ENGINEERING</td>\n",
       "      <td>WEB</td>\n",
       "      <td>14</td>\n",
       "      <td>46</td>\n",
       "      <td>227</td>\n",
       "    </tr>\n",
       "    <tr>\n",
       "      <th>999249</th>\n",
       "      <td>JOB1362685406936</td>\n",
       "      <td>COMP30</td>\n",
       "      <td>CEO</td>\n",
       "      <td>NONE</td>\n",
       "      <td>NONE</td>\n",
       "      <td>OIL</td>\n",
       "      <td>17</td>\n",
       "      <td>10</td>\n",
       "      <td>223</td>\n",
       "    </tr>\n",
       "    <tr>\n",
       "      <th>999280</th>\n",
       "      <td>JOB1362685406967</td>\n",
       "      <td>COMP2</td>\n",
       "      <td>CFO</td>\n",
       "      <td>BACHELORS</td>\n",
       "      <td>BUSINESS</td>\n",
       "      <td>SERVICE</td>\n",
       "      <td>21</td>\n",
       "      <td>0</td>\n",
       "      <td>228</td>\n",
       "    </tr>\n",
       "    <tr>\n",
       "      <th>999670</th>\n",
       "      <td>JOB1362685407357</td>\n",
       "      <td>COMP20</td>\n",
       "      <td>CEO</td>\n",
       "      <td>DOCTORAL</td>\n",
       "      <td>LITERATURE</td>\n",
       "      <td>SERVICE</td>\n",
       "      <td>24</td>\n",
       "      <td>14</td>\n",
       "      <td>233</td>\n",
       "    </tr>\n",
       "    <tr>\n",
       "      <th>999893</th>\n",
       "      <td>JOB1362685407580</td>\n",
       "      <td>COMP9</td>\n",
       "      <td>CEO</td>\n",
       "      <td>DOCTORAL</td>\n",
       "      <td>ENGINEERING</td>\n",
       "      <td>FINANCE</td>\n",
       "      <td>17</td>\n",
       "      <td>33</td>\n",
       "      <td>237</td>\n",
       "    </tr>\n",
       "  </tbody>\n",
       "</table>\n",
       "<p>7117 rows × 9 columns</p>\n",
       "</div>"
      ],
      "text/plain": [
       "                   jobId companyId         jobType     degree        major  \\\n",
       "266     JOB1362684407953    COMP30             CEO    MASTERS      BIOLOGY   \n",
       "362     JOB1362684408049    COMP38             CTO    MASTERS         NONE   \n",
       "560     JOB1362684408247    COMP53             CEO    MASTERS      BIOLOGY   \n",
       "670     JOB1362684408357    COMP26             CEO    MASTERS         MATH   \n",
       "719     JOB1362684408406    COMP54  VICE_PRESIDENT   DOCTORAL      BIOLOGY   \n",
       "...                  ...       ...             ...        ...          ...   \n",
       "998516  JOB1362685406203    COMP29             CFO    MASTERS  ENGINEERING   \n",
       "999249  JOB1362685406936    COMP30             CEO       NONE         NONE   \n",
       "999280  JOB1362685406967     COMP2             CFO  BACHELORS     BUSINESS   \n",
       "999670  JOB1362685407357    COMP20             CEO   DOCTORAL   LITERATURE   \n",
       "999893  JOB1362685407580     COMP9             CEO   DOCTORAL  ENGINEERING   \n",
       "\n",
       "       industry  yearsExperience  milesFromMetropolis  salary  \n",
       "266         OIL               23                   60     223  \n",
       "362      HEALTH               24                    3     223  \n",
       "560         WEB               22                    7     248  \n",
       "670        AUTO               23                    9     240  \n",
       "719         OIL               21                   14     225  \n",
       "...         ...              ...                  ...     ...  \n",
       "998516      WEB               14                   46     227  \n",
       "999249      OIL               17                   10     223  \n",
       "999280  SERVICE               21                    0     228  \n",
       "999670  SERVICE               24                   14     233  \n",
       "999893  FINANCE               17                   33     237  \n",
       "\n",
       "[7117 rows x 9 columns]"
      ]
     },
     "execution_count": 20,
     "metadata": {},
     "output_type": "execute_result"
    }
   ],
   "source": [
    "# Lets check the rows and its value of outliers whose value is more than upper boud i.e 220.5\n",
    "EDATrain[EDATrain.salary > 220.5]"
   ]
  },
  {
   "cell_type": "code",
   "execution_count": 21,
   "metadata": {},
   "outputs": [
    {
     "data": {
      "text/plain": [
       "CEO               2893\n",
       "CFO               1308\n",
       "CTO               1298\n",
       "VICE_PRESIDENT     520\n",
       "MANAGER            188\n",
       "SENIOR              50\n",
       "JUNIOR              16\n",
       "Name: jobType, dtype: int64"
      ]
     },
     "execution_count": 21,
     "metadata": {},
     "output_type": "execute_result"
    }
   ],
   "source": [
    "#check potential outlier above upper bound\n",
    "EDATrain.loc[EDATrain.salary > 222.5, 'jobType'].value_counts()\n"
   ]
  },
  {
   "cell_type": "markdown",
   "metadata": {},
   "source": [
    "### Inference\n",
    "- As there are 7117 rows so need to go deep and check those rows\n",
    "- In any organisation, top most positions are less as compare to low positons\n",
    "- Hence, as we see most of top most position (like CEO, CTO, CFO etc.) salary are more as compare to low positon (Jr., associates etc)\n",
    "- Hence, we will not remove those rows as they play an important role in dataset.\n",
    "- But, as in above results shows 16 juniors also crossing the upperbond, hence lets check the salary of juinors"
   ]
  },
  {
   "cell_type": "code",
   "execution_count": 22,
   "metadata": {},
   "outputs": [
    {
     "data": {
      "text/html": [
       "<div>\n",
       "<style scoped>\n",
       "    .dataframe tbody tr th:only-of-type {\n",
       "        vertical-align: middle;\n",
       "    }\n",
       "\n",
       "    .dataframe tbody tr th {\n",
       "        vertical-align: top;\n",
       "    }\n",
       "\n",
       "    .dataframe thead th {\n",
       "        text-align: right;\n",
       "    }\n",
       "</style>\n",
       "<table border=\"1\" class=\"dataframe\">\n",
       "  <thead>\n",
       "    <tr style=\"text-align: right;\">\n",
       "      <th></th>\n",
       "      <th>jobId</th>\n",
       "      <th>companyId</th>\n",
       "      <th>jobType</th>\n",
       "      <th>degree</th>\n",
       "      <th>major</th>\n",
       "      <th>industry</th>\n",
       "      <th>yearsExperience</th>\n",
       "      <th>milesFromMetropolis</th>\n",
       "      <th>salary</th>\n",
       "    </tr>\n",
       "  </thead>\n",
       "  <tbody>\n",
       "    <tr>\n",
       "      <th>1222</th>\n",
       "      <td>JOB1362684408909</td>\n",
       "      <td>COMP40</td>\n",
       "      <td>JUNIOR</td>\n",
       "      <td>MASTERS</td>\n",
       "      <td>COMPSCI</td>\n",
       "      <td>OIL</td>\n",
       "      <td>24</td>\n",
       "      <td>5</td>\n",
       "      <td>225</td>\n",
       "    </tr>\n",
       "    <tr>\n",
       "      <th>27710</th>\n",
       "      <td>JOB1362684435397</td>\n",
       "      <td>COMP21</td>\n",
       "      <td>JUNIOR</td>\n",
       "      <td>DOCTORAL</td>\n",
       "      <td>ENGINEERING</td>\n",
       "      <td>OIL</td>\n",
       "      <td>24</td>\n",
       "      <td>3</td>\n",
       "      <td>246</td>\n",
       "    </tr>\n",
       "    <tr>\n",
       "      <th>31355</th>\n",
       "      <td>JOB1362684439042</td>\n",
       "      <td>COMP45</td>\n",
       "      <td>JUNIOR</td>\n",
       "      <td>DOCTORAL</td>\n",
       "      <td>COMPSCI</td>\n",
       "      <td>FINANCE</td>\n",
       "      <td>24</td>\n",
       "      <td>0</td>\n",
       "      <td>225</td>\n",
       "    </tr>\n",
       "    <tr>\n",
       "      <th>100042</th>\n",
       "      <td>JOB1362684507729</td>\n",
       "      <td>COMP17</td>\n",
       "      <td>JUNIOR</td>\n",
       "      <td>DOCTORAL</td>\n",
       "      <td>BUSINESS</td>\n",
       "      <td>FINANCE</td>\n",
       "      <td>23</td>\n",
       "      <td>8</td>\n",
       "      <td>248</td>\n",
       "    </tr>\n",
       "    <tr>\n",
       "      <th>160333</th>\n",
       "      <td>JOB1362684568020</td>\n",
       "      <td>COMP18</td>\n",
       "      <td>JUNIOR</td>\n",
       "      <td>DOCTORAL</td>\n",
       "      <td>BUSINESS</td>\n",
       "      <td>FINANCE</td>\n",
       "      <td>22</td>\n",
       "      <td>3</td>\n",
       "      <td>223</td>\n",
       "    </tr>\n",
       "    <tr>\n",
       "      <th>303778</th>\n",
       "      <td>JOB1362684711465</td>\n",
       "      <td>COMP51</td>\n",
       "      <td>JUNIOR</td>\n",
       "      <td>MASTERS</td>\n",
       "      <td>ENGINEERING</td>\n",
       "      <td>WEB</td>\n",
       "      <td>24</td>\n",
       "      <td>2</td>\n",
       "      <td>226</td>\n",
       "    </tr>\n",
       "    <tr>\n",
       "      <th>348354</th>\n",
       "      <td>JOB1362684756041</td>\n",
       "      <td>COMP56</td>\n",
       "      <td>JUNIOR</td>\n",
       "      <td>DOCTORAL</td>\n",
       "      <td>ENGINEERING</td>\n",
       "      <td>OIL</td>\n",
       "      <td>23</td>\n",
       "      <td>25</td>\n",
       "      <td>226</td>\n",
       "    </tr>\n",
       "    <tr>\n",
       "      <th>500739</th>\n",
       "      <td>JOB1362684908426</td>\n",
       "      <td>COMP40</td>\n",
       "      <td>JUNIOR</td>\n",
       "      <td>DOCTORAL</td>\n",
       "      <td>ENGINEERING</td>\n",
       "      <td>OIL</td>\n",
       "      <td>21</td>\n",
       "      <td>0</td>\n",
       "      <td>227</td>\n",
       "    </tr>\n",
       "    <tr>\n",
       "      <th>627534</th>\n",
       "      <td>JOB1362685035221</td>\n",
       "      <td>COMP5</td>\n",
       "      <td>JUNIOR</td>\n",
       "      <td>DOCTORAL</td>\n",
       "      <td>ENGINEERING</td>\n",
       "      <td>OIL</td>\n",
       "      <td>24</td>\n",
       "      <td>29</td>\n",
       "      <td>230</td>\n",
       "    </tr>\n",
       "    <tr>\n",
       "      <th>645555</th>\n",
       "      <td>JOB1362685053242</td>\n",
       "      <td>COMP36</td>\n",
       "      <td>JUNIOR</td>\n",
       "      <td>DOCTORAL</td>\n",
       "      <td>BUSINESS</td>\n",
       "      <td>FINANCE</td>\n",
       "      <td>24</td>\n",
       "      <td>1</td>\n",
       "      <td>225</td>\n",
       "    </tr>\n",
       "    <tr>\n",
       "      <th>685775</th>\n",
       "      <td>JOB1362685093462</td>\n",
       "      <td>COMP38</td>\n",
       "      <td>JUNIOR</td>\n",
       "      <td>BACHELORS</td>\n",
       "      <td>ENGINEERING</td>\n",
       "      <td>OIL</td>\n",
       "      <td>24</td>\n",
       "      <td>13</td>\n",
       "      <td>225</td>\n",
       "    </tr>\n",
       "    <tr>\n",
       "      <th>743326</th>\n",
       "      <td>JOB1362685151013</td>\n",
       "      <td>COMP14</td>\n",
       "      <td>JUNIOR</td>\n",
       "      <td>DOCTORAL</td>\n",
       "      <td>BUSINESS</td>\n",
       "      <td>FINANCE</td>\n",
       "      <td>19</td>\n",
       "      <td>0</td>\n",
       "      <td>236</td>\n",
       "    </tr>\n",
       "    <tr>\n",
       "      <th>787674</th>\n",
       "      <td>JOB1362685195361</td>\n",
       "      <td>COMP43</td>\n",
       "      <td>JUNIOR</td>\n",
       "      <td>DOCTORAL</td>\n",
       "      <td>BUSINESS</td>\n",
       "      <td>FINANCE</td>\n",
       "      <td>18</td>\n",
       "      <td>15</td>\n",
       "      <td>232</td>\n",
       "    </tr>\n",
       "    <tr>\n",
       "      <th>796956</th>\n",
       "      <td>JOB1362685204643</td>\n",
       "      <td>COMP30</td>\n",
       "      <td>JUNIOR</td>\n",
       "      <td>MASTERS</td>\n",
       "      <td>BUSINESS</td>\n",
       "      <td>OIL</td>\n",
       "      <td>24</td>\n",
       "      <td>2</td>\n",
       "      <td>228</td>\n",
       "    </tr>\n",
       "    <tr>\n",
       "      <th>855219</th>\n",
       "      <td>JOB1362685262906</td>\n",
       "      <td>COMP13</td>\n",
       "      <td>JUNIOR</td>\n",
       "      <td>MASTERS</td>\n",
       "      <td>ENGINEERING</td>\n",
       "      <td>OIL</td>\n",
       "      <td>22</td>\n",
       "      <td>26</td>\n",
       "      <td>225</td>\n",
       "    </tr>\n",
       "    <tr>\n",
       "      <th>954368</th>\n",
       "      <td>JOB1362685362055</td>\n",
       "      <td>COMP11</td>\n",
       "      <td>JUNIOR</td>\n",
       "      <td>DOCTORAL</td>\n",
       "      <td>BUSINESS</td>\n",
       "      <td>OIL</td>\n",
       "      <td>24</td>\n",
       "      <td>26</td>\n",
       "      <td>223</td>\n",
       "    </tr>\n",
       "  </tbody>\n",
       "</table>\n",
       "</div>"
      ],
      "text/plain": [
       "                   jobId companyId jobType     degree        major industry  \\\n",
       "1222    JOB1362684408909    COMP40  JUNIOR    MASTERS      COMPSCI      OIL   \n",
       "27710   JOB1362684435397    COMP21  JUNIOR   DOCTORAL  ENGINEERING      OIL   \n",
       "31355   JOB1362684439042    COMP45  JUNIOR   DOCTORAL      COMPSCI  FINANCE   \n",
       "100042  JOB1362684507729    COMP17  JUNIOR   DOCTORAL     BUSINESS  FINANCE   \n",
       "160333  JOB1362684568020    COMP18  JUNIOR   DOCTORAL     BUSINESS  FINANCE   \n",
       "303778  JOB1362684711465    COMP51  JUNIOR    MASTERS  ENGINEERING      WEB   \n",
       "348354  JOB1362684756041    COMP56  JUNIOR   DOCTORAL  ENGINEERING      OIL   \n",
       "500739  JOB1362684908426    COMP40  JUNIOR   DOCTORAL  ENGINEERING      OIL   \n",
       "627534  JOB1362685035221     COMP5  JUNIOR   DOCTORAL  ENGINEERING      OIL   \n",
       "645555  JOB1362685053242    COMP36  JUNIOR   DOCTORAL     BUSINESS  FINANCE   \n",
       "685775  JOB1362685093462    COMP38  JUNIOR  BACHELORS  ENGINEERING      OIL   \n",
       "743326  JOB1362685151013    COMP14  JUNIOR   DOCTORAL     BUSINESS  FINANCE   \n",
       "787674  JOB1362685195361    COMP43  JUNIOR   DOCTORAL     BUSINESS  FINANCE   \n",
       "796956  JOB1362685204643    COMP30  JUNIOR    MASTERS     BUSINESS      OIL   \n",
       "855219  JOB1362685262906    COMP13  JUNIOR    MASTERS  ENGINEERING      OIL   \n",
       "954368  JOB1362685362055    COMP11  JUNIOR   DOCTORAL     BUSINESS      OIL   \n",
       "\n",
       "        yearsExperience  milesFromMetropolis  salary  \n",
       "1222                 24                    5     225  \n",
       "27710                24                    3     246  \n",
       "31355                24                    0     225  \n",
       "100042               23                    8     248  \n",
       "160333               22                    3     223  \n",
       "303778               24                    2     226  \n",
       "348354               23                   25     226  \n",
       "500739               21                    0     227  \n",
       "627534               24                   29     230  \n",
       "645555               24                    1     225  \n",
       "685775               24                   13     225  \n",
       "743326               19                    0     236  \n",
       "787674               18                   15     232  \n",
       "796956               24                    2     228  \n",
       "855219               22                   26     225  \n",
       "954368               24                   26     223  "
      ]
     },
     "execution_count": 22,
     "metadata": {},
     "output_type": "execute_result"
    }
   ],
   "source": [
    "EDATrain.loc[(EDATrain.salary > 222.5) &  (EDATrain.jobType == 'JUNIOR')]"
   ]
  },
  {
   "cell_type": "markdown",
   "metadata": {},
   "source": [
    "### Observations\n",
    "- As we check the degree and the industry of those juniors having salary more than upper bond\n",
    "- Salary make sense, as in finance and oil industry the junior position with good education have good salaries\n",
    "- Hence we are not removing outliers from having more salary than upperbond."
   ]
  },
  {
   "cell_type": "markdown",
   "metadata": {},
   "source": [
    "### Lets check correlation between the features"
   ]
  },
  {
   "cell_type": "code",
   "execution_count": 23,
   "metadata": {},
   "outputs": [
    {
     "data": {
      "text/plain": [
       "Index(['jobId', 'companyId', 'jobType', 'degree', 'major', 'industry',\n",
       "       'yearsExperience', 'milesFromMetropolis', 'salary'],\n",
       "      dtype='object')"
      ]
     },
     "execution_count": 23,
     "metadata": {},
     "output_type": "execute_result"
    }
   ],
   "source": [
    "EDATrain.columns"
   ]
  },
  {
   "cell_type": "code",
   "execution_count": 24,
   "metadata": {},
   "outputs": [
    {
     "data": {
      "text/html": [
       "<div>\n",
       "<style scoped>\n",
       "    .dataframe tbody tr th:only-of-type {\n",
       "        vertical-align: middle;\n",
       "    }\n",
       "\n",
       "    .dataframe tbody tr th {\n",
       "        vertical-align: top;\n",
       "    }\n",
       "\n",
       "    .dataframe thead th {\n",
       "        text-align: right;\n",
       "    }\n",
       "</style>\n",
       "<table border=\"1\" class=\"dataframe\">\n",
       "  <thead>\n",
       "    <tr style=\"text-align: right;\">\n",
       "      <th></th>\n",
       "      <th>yearsExperience</th>\n",
       "      <th>milesFromMetropolis</th>\n",
       "      <th>salary</th>\n",
       "    </tr>\n",
       "  </thead>\n",
       "  <tbody>\n",
       "    <tr>\n",
       "      <th>yearsExperience</th>\n",
       "      <td>1.000000</td>\n",
       "      <td>0.000672</td>\n",
       "      <td>0.375013</td>\n",
       "    </tr>\n",
       "    <tr>\n",
       "      <th>milesFromMetropolis</th>\n",
       "      <td>0.000672</td>\n",
       "      <td>1.000000</td>\n",
       "      <td>-0.297686</td>\n",
       "    </tr>\n",
       "    <tr>\n",
       "      <th>salary</th>\n",
       "      <td>0.375013</td>\n",
       "      <td>-0.297686</td>\n",
       "      <td>1.000000</td>\n",
       "    </tr>\n",
       "  </tbody>\n",
       "</table>\n",
       "</div>"
      ],
      "text/plain": [
       "                     yearsExperience  milesFromMetropolis    salary\n",
       "yearsExperience             1.000000             0.000672  0.375013\n",
       "milesFromMetropolis         0.000672             1.000000 -0.297686\n",
       "salary                      0.375013            -0.297686  1.000000"
      ]
     },
     "execution_count": 24,
     "metadata": {},
     "output_type": "execute_result"
    }
   ],
   "source": [
    "EDATrain.corr()"
   ]
  },
  {
   "cell_type": "code",
   "execution_count": 25,
   "metadata": {},
   "outputs": [],
   "source": [
    "def plot_variables(df,var): \n",
    "    '''\n",
    "    produce plot for each features\n",
    "    plot1(left), the distribution of samples on the feature\n",
    "    plot2(right), the dependance of salary on the feature\n",
    "    '''\n",
    "    plt.figure(figsize = (14, 4))\n",
    "    plt.subplot(1, 2, 1)\n",
    "    if df[var].dtype == 'int64':\n",
    "        df[var].value_counts().sort_index().plot()\n",
    "    else:\n",
    "        #change the object datatype of each variable to category type and order their level by the mean salary\n",
    "        mean = df.groupby(var)[\"salary\"].mean()\n",
    "        df[var] = df[var].astype('category')\n",
    "        level = mean.sort_values().index.tolist()\n",
    "        df[var].cat.reorder_categories(level, inplace=True)\n",
    "        df[var].value_counts().plot()        \n",
    "    plt.xticks(rotation=45)\n",
    "    plt.xlabel(var)\n",
    "    plt.ylabel('Count')\n",
    "    \n",
    "    plt.subplot(1, 2, 2)\n",
    "    if df[var].dtype == 'int64' or var == \"companyId\": # there are many companyId and better to see with line\n",
    "        #plot the mean salary for each category and shade the line between the (mean - std, mean + std)\n",
    "        mean = df.groupby(var)[\"salary\"].mean()\n",
    "        std = df.groupby(var)[\"salary\"].std()\n",
    "        mean.plot()\n",
    "        plt.fill_between(range(len(std.index)), mean.values-std.values, mean.values + std.values,alpha = 0.1)\n",
    "    else:\n",
    "        sns.boxplot(x= var, y=\"salary\", data= df)\n",
    "    \n",
    "    plt.xticks(rotation=45)\n",
    "    plt.ylabel('Salary')\n",
    "    plt.show()"
   ]
  },
  {
   "cell_type": "code",
   "execution_count": 26,
   "metadata": {},
   "outputs": [
    {
     "data": {
      "image/png": "[encoded data removed]",
      "text/plain": [
       "<Figure size 1008x288 with 2 Axes>"
      ]
     },
     "metadata": {
      "needs_background": "light"
     },
     "output_type": "display_data"
    }
   ],
   "source": [
    "plot_variables(EDATrain,\"companyId\")"
   ]
  },
  {
   "cell_type": "code",
   "execution_count": 27,
   "metadata": {},
   "outputs": [
    {
     "data": {
      "image/png": "[encoded data removed]",
      "text/plain": [
       "<Figure size 1008x288 with 2 Axes>"
      ]
     },
     "metadata": {
      "needs_background": "light"
     },
     "output_type": "display_data"
    }
   ],
   "source": [
    "plot_variables(EDATrain,\"jobType\")"
   ]
  },
  {
   "cell_type": "markdown",
   "metadata": {},
   "source": [
    "### Observation:\n",
    "- Salary vs Job type : jobtype is highly correlated with salary.\n",
    "- As jobtype or position is increase salary is increase"
   ]
  },
  {
   "cell_type": "code",
   "execution_count": 28,
   "metadata": {},
   "outputs": [
    {
     "data": {
      "image/png": "[encoded data removed]",
      "text/plain": [
       "<Figure size 1008x288 with 2 Axes>"
      ]
     },
     "metadata": {
      "needs_background": "light"
     },
     "output_type": "display_data"
    }
   ],
   "source": [
    "plot_variables(EDATrain,\"degree\")"
   ]
  },
  {
   "cell_type": "markdown",
   "metadata": {},
   "source": [
    "### Observation:\n",
    "- Salary vs Degree: Degree is correlated with salary.\n",
    "- As degree is high salary is also high.\n",
    "- But, for bachelors, masters and doctoral, median salary is same.\n",
    "- It's true after several years in organisation and getting promoted to higher position salary increase."
   ]
  },
  {
   "cell_type": "code",
   "execution_count": 29,
   "metadata": {},
   "outputs": [
    {
     "data": {
      "image/png": "[encoded data removed]",
      "text/plain": [
       "<Figure size 1008x288 with 2 Axes>"
      ]
     },
     "metadata": {
      "needs_background": "light"
     },
     "output_type": "display_data"
    }
   ],
   "source": [
    "plot_variables(EDATrain,\"major\")"
   ]
  },
  {
   "cell_type": "markdown",
   "metadata": {},
   "source": [
    "### Observation:\n",
    "- Salary vs major: major is correlated with salary.\n",
    "- But, for business, engineering, CompsCi, maths salary is more.\n"
   ]
  },
  {
   "cell_type": "code",
   "execution_count": 30,
   "metadata": {},
   "outputs": [
    {
     "data": {
      "image/png": "[encoded data removed]",
      "text/plain": [
       "<Figure size 1008x288 with 2 Axes>"
      ]
     },
     "metadata": {
      "needs_background": "light"
     },
     "output_type": "display_data"
    }
   ],
   "source": [
    "plot_variables(EDATrain,\"industry\")"
   ]
  },
  {
   "cell_type": "markdown",
   "metadata": {},
   "source": [
    "### Observation:\n",
    "- Salary vs Industry: Industry is correlated with salary.\n",
    "- Maximum salary have in Finance and Oil industry."
   ]
  },
  {
   "cell_type": "code",
   "execution_count": 31,
   "metadata": {},
   "outputs": [
    {
     "data": {
      "image/png": "[encoded data removed]",
      "text/plain": [
       "<Figure size 1008x288 with 2 Axes>"
      ]
     },
     "metadata": {
      "needs_background": "light"
     },
     "output_type": "display_data"
    }
   ],
   "source": [
    "plot_variables(EDATrain,\"yearsExperience\")"
   ]
  },
  {
   "cell_type": "markdown",
   "metadata": {},
   "source": [
    "### Observation:\n",
    "- Salary vs Years Experience: yearsExperience is correlated with salary.\n",
    "- As years of experience is more the salary is more, data match with real life scenarios."
   ]
  },
  {
   "cell_type": "code",
   "execution_count": 32,
   "metadata": {},
   "outputs": [
    {
     "data": {
      "image/png": "[encoded data removed]",
      "text/plain": [
       "<Figure size 1008x288 with 2 Axes>"
      ]
     },
     "metadata": {
      "needs_background": "light"
     },
     "output_type": "display_data"
    }
   ],
   "source": [
    "plot_variables(EDATrain,\"milesFromMetropolis\")"
   ]
  },
  {
   "cell_type": "markdown",
   "metadata": {},
   "source": [
    "### Observation:\n",
    "- Data is distorted hence, unable to say its correlated or not.\n"
   ]
  },
  {
   "cell_type": "code",
   "execution_count": 33,
   "metadata": {},
   "outputs": [
    {
     "data": {
      "text/plain": [
       "(999995, 9)"
      ]
     },
     "execution_count": 33,
     "metadata": {},
     "output_type": "execute_result"
    }
   ],
   "source": [
    "EDATrain.shape"
   ]
  },
  {
   "cell_type": "code",
   "execution_count": 34,
   "metadata": {},
   "outputs": [
    {
     "data": {
      "text/plain": [
       "Index(['jobId', 'companyId', 'jobType', 'degree', 'major', 'industry',\n",
       "       'yearsExperience', 'milesFromMetropolis', 'salary'],\n",
       "      dtype='object')"
      ]
     },
     "execution_count": 34,
     "metadata": {},
     "output_type": "execute_result"
    }
   ],
   "source": [
    "EDATrain.columns"
   ]
  },
  {
   "cell_type": "markdown",
   "metadata": {},
   "source": [
    "### Visualise the corelation between columns"
   ]
  },
  {
   "cell_type": "code",
   "execution_count": 35,
   "metadata": {},
   "outputs": [],
   "source": [
    "VisualData = EDATrain.copy()"
   ]
  },
  {
   "cell_type": "code",
   "execution_count": 36,
   "metadata": {},
   "outputs": [
    {
     "data": {
      "text/plain": [
       "jobId                    object\n",
       "companyId              category\n",
       "jobType                category\n",
       "degree                 category\n",
       "major                  category\n",
       "industry               category\n",
       "yearsExperience           int64\n",
       "milesFromMetropolis       int64\n",
       "salary                    int64\n",
       "dtype: object"
      ]
     },
     "execution_count": 36,
     "metadata": {},
     "output_type": "execute_result"
    }
   ],
   "source": [
    "VisualData.dtypes"
   ]
  },
  {
   "cell_type": "code",
   "execution_count": 37,
   "metadata": {},
   "outputs": [],
   "source": [
    "VisualData = VisualData.drop(['jobId'],axis=1)"
   ]
  },
  {
   "cell_type": "code",
   "execution_count": 38,
   "metadata": {},
   "outputs": [],
   "source": [
    "from sklearn.preprocessing import LabelEncoder"
   ]
  },
  {
   "cell_type": "code",
   "execution_count": 39,
   "metadata": {},
   "outputs": [],
   "source": [
    "def Encode_Data(dataframe):    \n",
    "    for col in dataframe.columns:        \n",
    "        if dataframe[col].dtype.name == \"category\" or \"object\":\n",
    "            le = LabelEncoder()\n",
    "            dataframe[col]=le.fit_transform(dataframe[col])\n",
    "    return dataframe"
   ]
  },
  {
   "cell_type": "code",
   "execution_count": 40,
   "metadata": {},
   "outputs": [],
   "source": [
    "EncodedData = Encode_Data(VisualData)"
   ]
  },
  {
   "cell_type": "code",
   "execution_count": 41,
   "metadata": {},
   "outputs": [
    {
     "data": {
      "text/html": [
       "<div>\n",
       "<style scoped>\n",
       "    .dataframe tbody tr th:only-of-type {\n",
       "        vertical-align: middle;\n",
       "    }\n",
       "\n",
       "    .dataframe tbody tr th {\n",
       "        vertical-align: top;\n",
       "    }\n",
       "\n",
       "    .dataframe thead th {\n",
       "        text-align: right;\n",
       "    }\n",
       "</style>\n",
       "<table border=\"1\" class=\"dataframe\">\n",
       "  <thead>\n",
       "    <tr style=\"text-align: right;\">\n",
       "      <th></th>\n",
       "      <th>companyId</th>\n",
       "      <th>jobType</th>\n",
       "      <th>degree</th>\n",
       "      <th>major</th>\n",
       "      <th>industry</th>\n",
       "      <th>yearsExperience</th>\n",
       "      <th>milesFromMetropolis</th>\n",
       "      <th>salary</th>\n",
       "    </tr>\n",
       "  </thead>\n",
       "  <tbody>\n",
       "    <tr>\n",
       "      <th>0</th>\n",
       "      <td>31</td>\n",
       "      <td>1</td>\n",
       "      <td>3</td>\n",
       "      <td>6</td>\n",
       "      <td>3</td>\n",
       "      <td>10</td>\n",
       "      <td>83</td>\n",
       "      <td>113</td>\n",
       "    </tr>\n",
       "    <tr>\n",
       "      <th>1</th>\n",
       "      <td>11</td>\n",
       "      <td>0</td>\n",
       "      <td>2</td>\n",
       "      <td>7</td>\n",
       "      <td>6</td>\n",
       "      <td>3</td>\n",
       "      <td>73</td>\n",
       "      <td>84</td>\n",
       "    </tr>\n",
       "    <tr>\n",
       "      <th>2</th>\n",
       "      <td>48</td>\n",
       "      <td>7</td>\n",
       "      <td>1</td>\n",
       "      <td>8</td>\n",
       "      <td>3</td>\n",
       "      <td>10</td>\n",
       "      <td>38</td>\n",
       "      <td>120</td>\n",
       "    </tr>\n",
       "    <tr>\n",
       "      <th>3</th>\n",
       "      <td>32</td>\n",
       "      <td>5</td>\n",
       "      <td>1</td>\n",
       "      <td>2</td>\n",
       "      <td>0</td>\n",
       "      <td>8</td>\n",
       "      <td>17</td>\n",
       "      <td>125</td>\n",
       "    </tr>\n",
       "    <tr>\n",
       "      <th>4</th>\n",
       "      <td>60</td>\n",
       "      <td>7</td>\n",
       "      <td>0</td>\n",
       "      <td>8</td>\n",
       "      <td>2</td>\n",
       "      <td>8</td>\n",
       "      <td>16</td>\n",
       "      <td>146</td>\n",
       "    </tr>\n",
       "  </tbody>\n",
       "</table>\n",
       "</div>"
      ],
      "text/plain": [
       "   companyId  jobType  degree  major  industry  yearsExperience  \\\n",
       "0         31        1       3      6         3               10   \n",
       "1         11        0       2      7         6                3   \n",
       "2         48        7       1      8         3               10   \n",
       "3         32        5       1      2         0                8   \n",
       "4         60        7       0      8         2                8   \n",
       "\n",
       "   milesFromMetropolis  salary  \n",
       "0                   83     113  \n",
       "1                   73      84  \n",
       "2                   38     120  \n",
       "3                   17     125  \n",
       "4                   16     146  "
      ]
     },
     "execution_count": 41,
     "metadata": {},
     "output_type": "execute_result"
    }
   ],
   "source": [
    "EncodedData.head()"
   ]
  },
  {
   "cell_type": "code",
   "execution_count": 42,
   "metadata": {},
   "outputs": [
    {
     "data": {
      "image/png": "[encoded data removed]",
      "text/plain": [
       "<Figure size 864x720 with 2 Axes>"
      ]
     },
     "metadata": {
      "needs_background": "light"
     },
     "output_type": "display_data"
    }
   ],
   "source": [
    "# Heatmap to check correlation between each feature\n",
    "#a = PrepTrain.drop(['salary'],axis=1)\n",
    "#df = a.join(PrepTrainTarget)\n",
    "plt.figure(figsize=(12,10))\n",
    "corr = EncodedData.corr()\n",
    "sns.heatmap(corr,\n",
    "            xticklabels=corr.columns,\n",
    "            yticklabels=corr.columns,cmap=\"Purples\",annot=True,vmin=-1, vmax=1,linewidths=1,linecolor='black')\n",
    "plt.show()"
   ]
  },
  {
   "cell_type": "markdown",
   "metadata": {},
   "source": [
    "### Observation:\n",
    "- As there is an strong correlation between\n",
    "    - YearsExperience and salary\n",
    "    - Degree and major"
   ]
  },
  {
   "cell_type": "markdown",
   "metadata": {},
   "source": [
    "### Prepare DATA\n",
    "- Create copy of EDATrain data\n",
    "- drop jobID, companyID features from PrepData\n",
    "- Prepare Traget and IV features from PrepData"
   ]
  },
  {
   "cell_type": "code",
   "execution_count": 43,
   "metadata": {},
   "outputs": [],
   "source": [
    "PrepTrain = EDATrain.copy()"
   ]
  },
  {
   "cell_type": "code",
   "execution_count": 44,
   "metadata": {},
   "outputs": [
    {
     "data": {
      "text/plain": [
       "(999995, 9)"
      ]
     },
     "execution_count": 44,
     "metadata": {},
     "output_type": "execute_result"
    }
   ],
   "source": [
    "PrepTrain.shape"
   ]
  },
  {
   "cell_type": "code",
   "execution_count": 45,
   "metadata": {},
   "outputs": [
    {
     "data": {
      "text/plain": [
       "Index(['jobId', 'companyId', 'jobType', 'degree', 'major', 'industry',\n",
       "       'yearsExperience', 'milesFromMetropolis', 'salary'],\n",
       "      dtype='object')"
      ]
     },
     "execution_count": 45,
     "metadata": {},
     "output_type": "execute_result"
    }
   ],
   "source": [
    "PrepTrain.columns"
   ]
  },
  {
   "cell_type": "code",
   "execution_count": 46,
   "metadata": {},
   "outputs": [],
   "source": [
    "PrepTrainTarget = PrepTrain['salary']"
   ]
  },
  {
   "cell_type": "code",
   "execution_count": 47,
   "metadata": {},
   "outputs": [],
   "source": [
    "#drop columns which not play n role in prediction\n",
    "PrepTrainIV = PrepTrain.drop(['salary','jobId','companyId'],axis=1)"
   ]
  },
  {
   "cell_type": "code",
   "execution_count": 48,
   "metadata": {},
   "outputs": [
    {
     "data": {
      "text/plain": [
       "jobType                category\n",
       "degree                 category\n",
       "major                  category\n",
       "industry               category\n",
       "yearsExperience           int64\n",
       "milesFromMetropolis       int64\n",
       "dtype: object"
      ]
     },
     "execution_count": 48,
     "metadata": {},
     "output_type": "execute_result"
    }
   ],
   "source": [
    "PrepTrainIV.dtypes"
   ]
  },
  {
   "cell_type": "code",
   "execution_count": 49,
   "metadata": {},
   "outputs": [
    {
     "data": {
      "text/plain": [
       "SENIOR            125886\n",
       "VICE_PRESIDENT    125234\n",
       "MANAGER           125120\n",
       "CTO               125045\n",
       "JANITOR           124971\n",
       "CEO               124778\n",
       "JUNIOR            124592\n",
       "CFO               124369\n",
       "Name: jobType, dtype: int64"
      ]
     },
     "execution_count": 49,
     "metadata": {},
     "output_type": "execute_result"
    }
   ],
   "source": [
    "#As machine learning model not accept categorical variable we should encode them using one hot encoding\n",
    "#But first check numbers of category available in each feature\n",
    "PrepTrainIV.jobType.value_counts()"
   ]
  },
  {
   "cell_type": "code",
   "execution_count": 50,
   "metadata": {},
   "outputs": [],
   "source": [
    "def VisualCountCatVar(dataframe):\n",
    "    CatCol = dataframe.select_dtypes(include=['category']).columns.tolist()\n",
    "    for i in CatCol:\n",
    "        print(\"------------\",i,\" value counts---------------------\")\n",
    "        print(dataframe[i].value_counts())\n",
    "        \n",
    "    fig = plt.figure(figsize=(14, 18))\n",
    "    \n",
    "    for index, col in enumerate(CatCol):\n",
    "        fig.add_subplot(3, 2, index+1)\n",
    "        dataframe[col].value_counts()[:20].plot(kind='bar', title=col)\n",
    "        plt.tight_layout()"
   ]
  },
  {
   "cell_type": "code",
   "execution_count": 51,
   "metadata": {},
   "outputs": [],
   "source": [
    "def VisualCountCatVar(dataframe):\n",
    "    CatCol = dataframe.select_dtypes(include=['category']).columns.tolist()\n",
    "    fig = plt.figure(figsize=(14, 18))\n",
    "\n",
    "    for index, col in enumerate(CatCol):\n",
    "        print(\"------------\",col,\" value counts---------------------\")\n",
    "        print(dataframe[col].value_counts())\n",
    "        fig.add_subplot(3, 2, index+1)\n",
    "        dataframe[col].value_counts()[:20].plot(kind='bar', title=col)\n",
    "        plt.tight_layout()\n",
    "        \n",
    "    print(\"\\n\\n------------Number of categories in each columns---------------------\")\n",
    "    for i in CatCol:\n",
    "        a = dataframe[i].cat.categories\n",
    "        print(\"There are {} categories in {}\".format(len(a),i))\n"
   ]
  },
  {
   "cell_type": "code",
   "execution_count": 52,
   "metadata": {
    "scrolled": false
   },
   "outputs": [
    {
     "name": "stdout",
     "output_type": "stream",
     "text": [
      "------------ jobType  value counts---------------------\n",
      "SENIOR            125886\n",
      "VICE_PRESIDENT    125234\n",
      "MANAGER           125120\n",
      "CTO               125045\n",
      "JANITOR           124971\n",
      "CEO               124778\n",
      "JUNIOR            124592\n",
      "CFO               124369\n",
      "Name: jobType, dtype: int64\n",
      "------------ degree  value counts---------------------\n",
      "HIGH_SCHOOL    236975\n",
      "NONE           236853\n",
      "BACHELORS      175495\n",
      "DOCTORAL       175362\n",
      "MASTERS        175310\n",
      "Name: degree, dtype: int64\n",
      "------------ major  value counts---------------------\n",
      "NONE           532353\n",
      "CHEMISTRY       58875\n",
      "LITERATURE      58684\n",
      "ENGINEERING     58594\n",
      "BUSINESS        58518\n",
      "PHYSICS         58410\n",
      "COMPSCI         58382\n",
      "BIOLOGY         58379\n",
      "MATH            57800\n",
      "Name: major, dtype: int64\n",
      "------------ industry  value counts---------------------\n",
      "WEB          143205\n",
      "AUTO         142941\n",
      "FINANCE      142866\n",
      "EDUCATION    142819\n",
      "OIL          142770\n",
      "HEALTH       142755\n",
      "SERVICE      142639\n",
      "Name: industry, dtype: int64\n",
      "\n",
      "\n",
      "------------Number of categories in each columns---------------------\n",
      "There are 8 categories in jobType\n",
      "There are 5 categories in degree\n",
      "There are 9 categories in major\n",
      "There are 7 categories in industry\n"
     ]
    },
    {
     "data": {
      "image/png": "[encoded data removed]",
      "text/plain": [
       "<Figure size 1008x1296 with 4 Axes>"
      ]
     },
     "metadata": {
      "needs_background": "light"
     },
     "output_type": "display_data"
    }
   ],
   "source": [
    "VisualCountCatVar(PrepTrainIV)"
   ]
  },
  {
   "cell_type": "markdown",
   "metadata": {},
   "source": [
    "### Analysis\n",
    "from above results we can infer below information:\n",
    "- There are 4 categorical column and each have \n",
    "    - 8 categories in jobType\n",
    "    - 5 categories in degree\n",
    "    - 9 categories in major\n",
    "    - 7 categories in industry\n",
    "- It means total 29 dummies will be created\n",
    "- But we use one hot encoding and remove one category from each category to reduce 4 more features\n",
    "- Hence, total 25 new features(dummies) will be created.\n",
    "- Already there are 6 column out of which 4 categorical and 2 integer\n",
    "   - 2 integer columns + 25 dummies\n",
    "   - Hence, total 27 features will be there."
   ]
  },
  {
   "cell_type": "markdown",
   "metadata": {},
   "source": [
    "## One hot encoding"
   ]
  },
  {
   "cell_type": "code",
   "execution_count": 53,
   "metadata": {},
   "outputs": [
    {
     "name": "stdout",
     "output_type": "stream",
     "text": [
      "(999995, 6)\n",
      "Index(['jobType', 'degree', 'major', 'industry', 'yearsExperience',\n",
      "       'milesFromMetropolis'],\n",
      "      dtype='object')\n"
     ]
    }
   ],
   "source": [
    "print(PrepTrainIV.shape)\n",
    "print(PrepTrainIV.columns)"
   ]
  },
  {
   "cell_type": "code",
   "execution_count": 54,
   "metadata": {},
   "outputs": [],
   "source": [
    "PrepTrainIV = pd.get_dummies(PrepTrainIV, drop_first=True)"
   ]
  },
  {
   "cell_type": "code",
   "execution_count": 55,
   "metadata": {},
   "outputs": [
    {
     "name": "stdout",
     "output_type": "stream",
     "text": [
      "(999995, 27)\n",
      "Index(['yearsExperience', 'milesFromMetropolis', 'jobType_JUNIOR',\n",
      "       'jobType_SENIOR', 'jobType_MANAGER', 'jobType_VICE_PRESIDENT',\n",
      "       'jobType_CFO', 'jobType_CTO', 'jobType_CEO', 'degree_HIGH_SCHOOL',\n",
      "       'degree_BACHELORS', 'degree_MASTERS', 'degree_DOCTORAL',\n",
      "       'major_LITERATURE', 'major_BIOLOGY', 'major_CHEMISTRY', 'major_PHYSICS',\n",
      "       'major_COMPSCI', 'major_MATH', 'major_BUSINESS', 'major_ENGINEERING',\n",
      "       'industry_SERVICE', 'industry_AUTO', 'industry_HEALTH', 'industry_WEB',\n",
      "       'industry_FINANCE', 'industry_OIL'],\n",
      "      dtype='object')\n"
     ]
    }
   ],
   "source": [
    "print(PrepTrainIV.shape)\n",
    "print(PrepTrainIV.columns)"
   ]
  },
  {
   "cell_type": "code",
   "execution_count": 56,
   "metadata": {},
   "outputs": [
    {
     "data": {
      "text/plain": [
       "Index(['jobId', 'companyId', 'jobType', 'degree', 'major', 'industry',\n",
       "       'yearsExperience', 'milesFromMetropolis', 'salary'],\n",
       "      dtype='object')"
      ]
     },
     "execution_count": 56,
     "metadata": {},
     "output_type": "execute_result"
    }
   ],
   "source": [
    "PrepTrain.columns"
   ]
  },
  {
   "cell_type": "markdown",
   "metadata": {},
   "source": [
    "## Now dataset is ready\n",
    "- Independent variables : PrepTrainIV\n",
    "- Dependent Variable : PrepTrainTarget"
   ]
  },
  {
   "cell_type": "markdown",
   "metadata": {},
   "source": [
    "### ---- 5 Establish a baseline ----"
   ]
  },
  {
   "cell_type": "code",
   "execution_count": 57,
   "metadata": {},
   "outputs": [],
   "source": [
    "#select a reasonable metric (MSE in this case)\n",
    "#create an extremely simple model and measure its efficacy\n",
    "#e.g. use \"average salary\" for each industry as your model and then measure MSE\n",
    "#during 5-fold cross-validation"
   ]
  },
  {
   "cell_type": "code",
   "execution_count": 58,
   "metadata": {},
   "outputs": [
    {
     "data": {
      "text/plain": [
       "Index(['yearsExperience', 'milesFromMetropolis', 'jobType_JUNIOR',\n",
       "       'jobType_SENIOR', 'jobType_MANAGER', 'jobType_VICE_PRESIDENT',\n",
       "       'jobType_CFO', 'jobType_CTO', 'jobType_CEO', 'degree_HIGH_SCHOOL',\n",
       "       'degree_BACHELORS', 'degree_MASTERS', 'degree_DOCTORAL',\n",
       "       'major_LITERATURE', 'major_BIOLOGY', 'major_CHEMISTRY', 'major_PHYSICS',\n",
       "       'major_COMPSCI', 'major_MATH', 'major_BUSINESS', 'major_ENGINEERING',\n",
       "       'industry_SERVICE', 'industry_AUTO', 'industry_HEALTH', 'industry_WEB',\n",
       "       'industry_FINANCE', 'industry_OIL'],\n",
       "      dtype='object')"
      ]
     },
     "execution_count": 58,
     "metadata": {},
     "output_type": "execute_result"
    }
   ],
   "source": [
    "PrepTrainIV.columns"
   ]
  },
  {
   "cell_type": "code",
   "execution_count": 59,
   "metadata": {},
   "outputs": [
    {
     "data": {
      "text/plain": [
       "0    130\n",
       "1    101\n",
       "2    137\n",
       "3    142\n",
       "4    163\n",
       "Name: salary, dtype: int64"
      ]
     },
     "execution_count": 59,
     "metadata": {},
     "output_type": "execute_result"
    }
   ],
   "source": [
    "PrepTrainTarget.head()"
   ]
  },
  {
   "cell_type": "code",
   "execution_count": 60,
   "metadata": {},
   "outputs": [],
   "source": [
    "#Import necesseary libraries\n",
    "from sklearn.model_selection import train_test_split, cross_validate \n",
    "from sklearn.metrics import make_scorer,accuracy_score, confusion_matrix\n",
    "\n",
    "from sklearn.linear_model import LinearRegression\n",
    "from sklearn.ensemble import RandomForestRegressor \n",
    "from sklearn import linear_model\n",
    "from sklearn.naive_bayes import GaussianNB\n",
    "from sklearn.tree import DecisionTreeRegressor\n",
    "from sklearn.ensemble import GradientBoostingRegressor\n",
    "\n"
   ]
  },
  {
   "cell_type": "code",
   "execution_count": 59,
   "metadata": {},
   "outputs": [],
   "source": [
    "X_BaseModelTrain, X_BaseModelTest, Y_BaseModelTrain, Y_BaseModelTest = train_test_split(PrepTrainIV,PrepTrainTarget, test_size=0.30, random_state = 0)\n"
   ]
  },
  {
   "cell_type": "code",
   "execution_count": 60,
   "metadata": {},
   "outputs": [],
   "source": [
    "# Adding models into RegressorModels list"
   ]
  },
  {
   "cell_type": "code",
   "execution_count": 61,
   "metadata": {},
   "outputs": [],
   "source": [
    "RegressorModels = []\n",
    "num_procs = 4\n",
    "\n",
    "model1 = LinearRegression()\n",
    "RegressorModels.append(model1)\n",
    "\n",
    "model2 = RandomForestRegressor(n_estimators = 100, n_jobs = num_procs, max_depth = 25, min_samples_split = 60) \n",
    "RegressorModels.append(model2)\n",
    "\n",
    "model3 = linear_model.Lasso(alpha=0.1)\n",
    "RegressorModels.append(model3)\n",
    "\n",
    "model4 = GaussianNB()\n",
    "RegressorModels.append(model4)\n",
    "\n",
    "model5 = DecisionTreeRegressor(max_depth = 15)\n",
    "RegressorModels.append(model5)\n",
    "\n",
    "model6 = GradientBoostingRegressor(n_estimators = 50, max_depth = 10) \n",
    "RegressorModels.append(model6)\n"
   ]
  },
  {
   "cell_type": "code",
   "execution_count": 93,
   "metadata": {},
   "outputs": [
    {
     "name": "stdout",
     "output_type": "stream",
     "text": [
      "------------- LinearRegression() -----------------\n",
      "Mean square error for model  LinearRegression() 384.4343474362457\n",
      "Cross Validation Std deviation 0.0\n",
      "------------- RandomForestRegressor(max_depth=25, min_samples_split=60, n_jobs=4) -----------------\n",
      "Mean square error for model  RandomForestRegressor(max_depth=25, min_samples_split=60, n_jobs=4) 372.6816680980277\n",
      "Cross Validation Std deviation 0.0\n",
      "------------- Lasso(alpha=0.1) -----------------\n",
      "Mean square error for model  Lasso(alpha=0.1) 394.5425194377651\n",
      "Cross Validation Std deviation 0.0\n",
      "------------- GaussianNB() -----------------\n",
      "Mean square error for model  GaussianNB() 10264.269250858399\n",
      "Cross Validation Std deviation 0.0\n",
      "------------- DecisionTreeRegressor(max_depth=15) -----------------\n",
      "Mean square error for model  DecisionTreeRegressor(max_depth=15) 440.41684804654676\n",
      "Cross Validation Std deviation 0.0\n",
      "------------- GradientBoostingRegressor(max_depth=10, n_estimators=50) -----------------\n",
      "Mean square error for model  GradientBoostingRegressor(max_depth=10, n_estimators=50) 363.70886390805515\n",
      "Cross Validation Std deviation 0.0\n"
     ]
    }
   ],
   "source": [
    "for clf in RegressorModels:\n",
    "    print(\"-------------\",clf,\"-----------------\")\n",
    "    clf.fit(X_BaseModelTrain, Y_BaseModelTrain)\n",
    "    y_BaseModelPred= clf.predict(X_BaseModelTest)\n",
    "    #cv_results = cross_validate(clf, X_BaseModelTrain,Y_BaseModelTrain, cv=10)\n",
    "    scores = cross_validate(clf, X_BaseModelTrain,Y_BaseModelTrain, cv=10,\n",
    "                        scoring=('r2', 'neg_mean_squared_error'),\n",
    "                        return_train_score=True)\n",
    "    NegRMSE = -1.0*np.mean(scores['test_neg_mean_squared_error'])\n",
    "    print(\"Mean square error for model \",clf, NegRMSE)\n",
    "    print(\"Cross Validation Std deviation\",np.std(NegRMSE))"
   ]
  },
  {
   "cell_type": "markdown",
   "metadata": {},
   "source": [
    "### Observation:\n",
    "The RMSE of above gives results:\n",
    "- LinearRegression: 384.4343474362457\n",
    "- RandomForestRegressor: 372.5786564517086\n",
    "- Lasso: 394.5425194377651\n",
    "- GaussianNB: 10264.269250858399\n",
    "- DecisionTreeRegressor: 440.4879866101536\n",
    "- GradientBoostingRegressor: 363.689670789014\n",
    "\n",
    "-- Hence, RandomForestRegressor and GradientBosstingRegressor comparitive give good results."
   ]
  },
  {
   "cell_type": "markdown",
   "metadata": {},
   "source": [
    "### ---- 6 Hypothesize solution ----"
   ]
  },
  {
   "cell_type": "code",
   "execution_count": null,
   "metadata": {},
   "outputs": [],
   "source": [
    "#brainstorm 3 models that you think may improve results over the baseline model based\n",
    "#on your "
   ]
  },
  {
   "cell_type": "markdown",
   "metadata": {},
   "source": [
    "Brainstorm 3 models that you think may improve results over the baseline model based on your EDA and explain why they're reasonable solutions here.\n",
    "\n",
    "Also write down any new features that you think you should try adding to the model based on your EDA, e.g. interaction variables, summary statistics for each group, etc"
   ]
  },
  {
   "cell_type": "markdown",
   "metadata": {},
   "source": [
    "## Part 3 - DEVELOP"
   ]
  },
  {
   "cell_type": "markdown",
   "metadata": {},
   "source": [
    "You will cycle through creating features, tuning models, and training/validing models (steps 7-9) until you've reached your efficacy goal\n",
    "\n",
    "#### Your metric will be MSE and your goal is:\n",
    " - <360 for entry-level data science roles\n",
    " - <320 for senior data science roles"
   ]
  },
  {
   "cell_type": "markdown",
   "metadata": {},
   "source": [
    "### ---- 7 Engineer features  ----"
   ]
  },
  {
   "cell_type": "code",
   "execution_count": null,
   "metadata": {},
   "outputs": [],
   "source": [
    "#make sure that data is ready for modeling\n",
    "#create any new features needed to potentially enhance model\n",
    "\n"
   ]
  },
  {
   "cell_type": "code",
   "execution_count": 61,
   "metadata": {},
   "outputs": [],
   "source": [
    "# Assign the Dependent/Predictive variable to \"Y\"\n",
    "Y = PrepTrainTarget.copy()\n",
    "# Assign all the other variables/features except DV to independent variable \"X\"\n",
    "X = PrepTrainIV.copy()"
   ]
  },
  {
   "cell_type": "code",
   "execution_count": 62,
   "metadata": {},
   "outputs": [],
   "source": [
    "#-------------FEATURE SELECTION-----------------"
   ]
  },
  {
   "cell_type": "code",
   "execution_count": null,
   "metadata": {},
   "outputs": [],
   "source": []
  },
  {
   "cell_type": "code",
   "execution_count": 70,
   "metadata": {},
   "outputs": [],
   "source": [
    "#-------------1.PEARSON CORRELATION-------------\n",
    "def Pcor_selector(X, y,num_feats):\n",
    "    cor_list = []\n",
    "    feature_name = X.columns.tolist()\n",
    "    # calculate the correlation with y for each feature\n",
    "    for i in X.columns.tolist():\n",
    "        cor = np.corrcoef(X[i], y)[0, 1]\n",
    "        cor_list.append(cor)\n",
    "    # replace NaN with 0\n",
    "    cor_list = [0 if np.isnan(i) else i for i in cor_list]\n",
    "    # feature name\n",
    "    cor_feature = X.iloc[:,np.argsort(np.abs(cor_list))[-num_feats:]].columns.tolist()\n",
    "    # feature selection? 0 for not select, 1 for select\n",
    "    cor_support = [True if i in cor_feature else False for i in feature_name]\n",
    "    return cor_support, cor_feature\n",
    "\n",
    "#-------------2.CHI-SQUARE CORRELATION-------------\n",
    "\n",
    "def ChiSQ(X, Y, num_feats):\n",
    "    \n",
    "    from sklearn.feature_selection import SelectKBest\n",
    "    from sklearn.feature_selection import chi2\n",
    "    from numpy import set_printoptions\n",
    "    selector = SelectKBest(chi2, k = 8)\n",
    "    #New dataframe with the selected features for later use in the classifier. fit() method works too, if you want only the feature names and their corresponding scores\n",
    "    X_new = selector.fit_transform(X, Y)\n",
    "    names = X.columns.values[selector.get_support()]\n",
    "    scores = selector.scores_[selector.get_support()]\n",
    "    names_scores = list(zip(names, scores))\n",
    "    ns_df = pd.DataFrame(data = names_scores, columns=['Feat_names', 'F_Scores'])\n",
    "    #Sort the dataframe for better visualization\n",
    "    ns_df_sorted = ns_df.sort_values(['F_Scores', 'Feat_names'], ascending = [False, True])\n",
    "    ns_df_sorted['Feat_names']\n",
    "    col_names = ns_df_sorted['Feat_names'].tolist()\n",
    "    return col_names\n",
    "\n",
    "#--------3. Wrapper ---> Recursive Feature Elmination (RFE)--------------\n",
    "\n",
    "def RFE(X, Y, num_feats):\n",
    "    \n",
    "    from sklearn.feature_selection import RFE\n",
    "    model = LinearRegression()\n",
    "    rfe = RFE(model, num_feats)\n",
    "    fit = rfe.fit(X, Y)\n",
    "    rank = pd.DataFrame(fit.ranking_,columns = ['rank'])\n",
    "    column = pd.DataFrame(X.columns, columns = ['col'])\n",
    "    Feature_Extraction = pd.concat([column,rank],axis=1)\n",
    "    Feature_Extraction.sort_values(by=['rank'], inplace=True)\n",
    "    # Check the rank of all the features\n",
    "    Feature_Extraction = Feature_Extraction[Feature_Extraction['rank'] == 1] \n",
    "    chi_col_names = Feature_Extraction['col'].tolist()\n",
    "    return chi_col_names\n",
    "\n",
    "\n",
    "#--------4. Embbeded ---> LASSO --------------\n",
    "def Lasso(X, Y, num_feats):\n",
    "    from sklearn.linear_model import LassoCV\n",
    "    reg = LassoCV()\n",
    "    a = reg.fit(X, Y)\n",
    "    print(\"Best alpha using built-in LassoCV: %f\" % reg.alpha_)\n",
    "    print(\"Best score using built-in LassoCV: %f\" %reg.score(X,Y))\n",
    "    coef = pd.Series(reg.coef_, index = X.columns)\n",
    "    print(\"Lasso picked \" + str(sum(coef != 0)) + \" variables and eliminated the other \" +  str(sum(coef == 0)) + \" variables\")\n",
    "    Features = coef[coef != 0]\n",
    "    Features = Features.sort_values(ascending = False)\n",
    "    Features = Features.index\n",
    "    count = num_feats\n",
    "    FeaturesList=[]\n",
    "    for i in Features:\n",
    "        if (count != 0):\n",
    "            FeaturesList.append(i)\n",
    "        else:\n",
    "            break\n",
    "        count = count-1\n",
    "    return FeaturesList\n",
    "\n",
    "#--------5. Embbeded ---> RandomForest regressor--------------\n",
    "def RFR(X, Y, num_feats):\n",
    "    from sklearn.ensemble import RandomForestRegressor\n",
    "\n",
    "    model = RandomForestRegressor()\n",
    "    # fit the model\n",
    "    model.fit(X, Y)\n",
    "    # get importance\n",
    "    importance = model.feature_importances_\n",
    "    # summarize feature importance\n",
    "    feats = {} # a dict to hold feature_name: feature_importance\n",
    "    SelectedFeatures = []\n",
    "    count = num_feats\n",
    "    for feature, importance in zip(X.columns, model.feature_importances_):\n",
    "        feats[feature] = importance #add the name/value pair \n",
    "\n",
    "    FeatureList = pd.DataFrame(feats.items())\n",
    "\n",
    "    FeatureList = FeatureList.sort_values(by=[1], ascending=False)\n",
    "    for i in FeatureList[0]:\n",
    "        if (count != 0):\n",
    "            SelectedFeatures.append(i)\n",
    "        else:\n",
    "            break\n",
    "        count = count-1\n",
    "\n",
    "    return SelectedFeatures"
   ]
  },
  {
   "cell_type": "code",
   "execution_count": 133,
   "metadata": {},
   "outputs": [],
   "source": [
    "#------------Select Number of features -----------\n",
    "NumFeatures = 18"
   ]
  },
  {
   "cell_type": "code",
   "execution_count": 134,
   "metadata": {},
   "outputs": [
    {
     "name": "stdout",
     "output_type": "stream",
     "text": [
      "18 selected features\n"
     ]
    },
    {
     "data": {
      "text/plain": [
       "Index(['major_COMPSCI', 'jobType_SENIOR', 'major_MATH', 'degree_BACHELORS',\n",
       "       'industry_SERVICE', 'major_BUSINESS', 'major_ENGINEERING',\n",
       "       'industry_FINANCE', 'industry_OIL', 'degree_MASTERS', 'jobType_CFO',\n",
       "       'jobType_CTO', 'jobType_JUNIOR', 'degree_HIGH_SCHOOL',\n",
       "       'degree_DOCTORAL', 'jobType_CEO', 'milesFromMetropolis',\n",
       "       'yearsExperience'],\n",
       "      dtype='object')"
      ]
     },
     "execution_count": 134,
     "metadata": {},
     "output_type": "execute_result"
    }
   ],
   "source": [
    "#---- Pearson Corelation-----\n",
    "cor_support, cor_feature = Pcor_selector(X, Y,num_feats=NumFeatures)\n",
    "print(str(len(cor_feature)), 'selected features')\n",
    "\n",
    "PCor_IV = X[cor_feature]\n",
    "PCor_DV = Y\n",
    "PCor_IV.columns"
   ]
  },
  {
   "cell_type": "code",
   "execution_count": 135,
   "metadata": {},
   "outputs": [],
   "source": [
    "#---- Chi square-----\n",
    "#ChiSQ_feature = ChiSQ(X, Y,num_feats=NumFeatures)\n",
    "#ChiSQ_IV = X[ChiSQ_feature]\n",
    "#ChiSQ_DV = Y\n",
    "#ChiSQ_IV.columns"
   ]
  },
  {
   "cell_type": "code",
   "execution_count": 136,
   "metadata": {},
   "outputs": [
    {
     "data": {
      "text/plain": [
       "Index(['industry_OIL', 'major_ENGINEERING', 'major_BUSINESS', 'major_MATH',\n",
       "       'industry_FINANCE', 'degree_DOCTORAL', 'industry_AUTO',\n",
       "       'degree_BACHELORS', 'degree_MASTERS', 'jobType_CTO', 'jobType_CFO',\n",
       "       'jobType_VICE_PRESIDENT', 'jobType_MANAGER', 'jobType_SENIOR',\n",
       "       'jobType_JUNIOR', 'industry_WEB', 'jobType_CEO', 'industry_HEALTH'],\n",
       "      dtype='object')"
      ]
     },
     "execution_count": 136,
     "metadata": {},
     "output_type": "execute_result"
    }
   ],
   "source": [
    "#---- RFE - Random Forest Elimination -----\n",
    "RFE_feature = RFE(X, Y,num_feats=NumFeatures)\n",
    "RFE_IV = X[RFE_feature]\n",
    "RFE_DV = Y\n",
    "RFE_IV.columns"
   ]
  },
  {
   "cell_type": "code",
   "execution_count": 137,
   "metadata": {},
   "outputs": [
    {
     "name": "stdout",
     "output_type": "stream",
     "text": [
      "Best alpha using built-in LassoCV: 0.332832\n",
      "Best score using built-in LassoCV: 0.707530\n",
      "Lasso picked 18 variables and eliminated the other 9 variables\n"
     ]
    },
    {
     "data": {
      "text/plain": [
       "Index(['jobType_CEO', 'jobType_CFO', 'jobType_CTO', 'jobType_VICE_PRESIDENT',\n",
       "       'degree_DOCTORAL', 'industry_OIL', 'industry_FINANCE', 'degree_MASTERS',\n",
       "       'jobType_MANAGER', 'degree_BACHELORS', 'industry_WEB', 'jobType_SENIOR',\n",
       "       'industry_HEALTH', 'major_ENGINEERING', 'major_BUSINESS',\n",
       "       'yearsExperience', 'milesFromMetropolis', 'industry_SERVICE'],\n",
       "      dtype='object')"
      ]
     },
     "execution_count": 137,
     "metadata": {},
     "output_type": "execute_result"
    }
   ],
   "source": [
    "#-------- Lasso ------------------\n",
    "Lasso_feature = Lasso(X, Y,num_feats=NumFeatures)\n",
    "LASSO_IV = X[Lasso_feature]\n",
    "LASSO_DV = Y\n",
    "LASSO_IV.columns"
   ]
  },
  {
   "cell_type": "code",
   "execution_count": 138,
   "metadata": {},
   "outputs": [
    {
     "data": {
      "text/plain": [
       "Index(['milesFromMetropolis', 'yearsExperience', 'jobType_CEO', 'jobType_CFO',\n",
       "       'jobType_CTO', 'jobType_VICE_PRESIDENT', 'jobType_MANAGER',\n",
       "       'industry_FINANCE', 'industry_OIL', 'jobType_SENIOR', 'jobType_JUNIOR',\n",
       "       'degree_DOCTORAL', 'degree_MASTERS', 'degree_BACHELORS', 'industry_WEB',\n",
       "       'major_ENGINEERING', 'industry_HEALTH', 'major_BUSINESS'],\n",
       "      dtype='object')"
      ]
     },
     "execution_count": 138,
     "metadata": {},
     "output_type": "execute_result"
    }
   ],
   "source": [
    "#-------- Random Forest Regressor ------------------\n",
    "RFR_Features = RFR(X, Y,num_feats=NumFeatures)\n",
    "RF_IV = X[RFR_Features]\n",
    "RF_DV = Y\n",
    "RF_IV.columns"
   ]
  },
  {
   "cell_type": "code",
   "execution_count": null,
   "metadata": {},
   "outputs": [],
   "source": []
  },
  {
   "cell_type": "markdown",
   "metadata": {},
   "source": [
    "### ---- 8 Create models ----"
   ]
  },
  {
   "cell_type": "markdown",
   "metadata": {},
   "source": [
    "\n",
    "- In part 2 random forest regressor and Gradient boosting works good compare to other models\n",
    "- Hence, here we use above features on Random forest regressor and Gradient boosting models"
   ]
  },
  {
   "cell_type": "code",
   "execution_count": 139,
   "metadata": {},
   "outputs": [],
   "source": [
    "#Split dataset i.e selected features from each model\n",
    "\n",
    "from sklearn.model_selection import train_test_split \n",
    "# Spliting the dataset as 80% Training & 20% Testing data using sklearn selection train_test_split function\n",
    "X_PCorTrain, X_PCorTest, Y_PCorTrain, Y_PCorTest = train_test_split(PCor_IV, PCor_DV, test_size = 0.30, random_state = 0)\n",
    "#X_ChiSQTrain, X_ChiSQTest, Y_ChiSQTrain, Y_ChiSQTest = train_test_split(ChiSQ_IV, ChiSQ_DV, test_size = 0.30, random_state = 0)\n",
    "X_RFETrain, X_RFETest, Y_RFETrain, Y_RFETest = train_test_split(RFE_IV, RFE_DV, test_size = 0.30, random_state = 0)\n",
    "X_LASSOTrain, X_LASSOTest, Y_LASSOTrain, Y_LASSOTest = train_test_split(LASSO_IV, LASSO_DV, test_size = 0.30, random_state = 0)\n",
    "X_RFTrain, X_RFTest, Y_RFTrain, Y_RFTest = train_test_split(RF_IV, RF_DV, test_size = 0.30, random_state = 0)"
   ]
  },
  {
   "cell_type": "code",
   "execution_count": 140,
   "metadata": {},
   "outputs": [],
   "source": [
    "#Create model instances and add those models into selectedmodels array\n",
    "SelectedModels = []\n",
    "num_procs = 4\n",
    "\n",
    "model1 = LinearRegression()\n",
    "SelectedModels.append(model1)\n",
    "\n",
    "model2 = RandomForestRegressor(n_estimators = 100, n_jobs = num_procs, max_depth = 25, min_samples_split = 60) \n",
    "SelectedModels.append(model2)\n",
    "\n",
    "model3 = linear_model.Lasso(alpha=0.1)\n",
    "SelectedModels.append(model3)\n",
    "\n",
    "model4 = GaussianNB()\n",
    "SelectedModels.append(model4)\n",
    "\n",
    "model5 = DecisionTreeRegressor(max_depth = 15)\n",
    "SelectedModels.append(model5)\n",
    "\n",
    "#model6 = GradientBoostingRegressor(n_estimators = 50, max_depth = 10) \n",
    "#SelectedModels.append(model6)"
   ]
  },
  {
   "cell_type": "markdown",
   "metadata": {},
   "source": [
    "### ---- 9 Test models ----"
   ]
  },
  {
   "cell_type": "code",
   "execution_count": 141,
   "metadata": {},
   "outputs": [],
   "source": [
    "#------ 8 FEATURES ------"
   ]
  },
  {
   "cell_type": "code",
   "execution_count": 142,
   "metadata": {},
   "outputs": [],
   "source": [
    "#do 5-fold cross validation on models and measure MSE\n",
    "RMSEValues = {}\n",
    "def run_best_model(SelectedModels,x_train, y_train, x_test):\n",
    "    for clf in SelectedModels:\n",
    "        print(\"-------------\",clf,\"-----------------\")\n",
    "        clf.fit(x_train, y_train)\n",
    "        y_BaseModelPred= clf.predict(x_test)\n",
    "        #cv_results = cross_validate(clf, X_BaseModelTrain,Y_BaseModelTrain, cv=10)\n",
    "        scores = cross_validate(clf, x_train,y_train, cv=5,\n",
    "                            scoring=('r2', 'neg_mean_squared_error'),\n",
    "                            return_train_score=True)\n",
    "        NegRMSE = -1.0*np.mean(scores['test_neg_mean_squared_error'])\n",
    "        print(\"Mean square error for model \",clf, NegRMSE)\n",
    "        modelname = str(clf)\n",
    "        modelname = modelname[ 0 : 8 ]\n",
    "        RMSEValues[str(modelname)] = int(NegRMSE)\n",
    "        print(\"Cross Validation Std deviation\",np.std(NegRMSE))\n",
    "    return RMSEValues;"
   ]
  },
  {
   "cell_type": "code",
   "execution_count": 143,
   "metadata": {},
   "outputs": [],
   "source": [
    "def Plot_Graph(dictionary,model):\n",
    "    print(\"\\n\\n------ \", model ,\" ------------\\n\")\n",
    "    fig = plt.figure()\n",
    "    ax = fig.add_axes([0,0,1,1])\n",
    "    width = [0.1,0.2,0.3,0.4,0.5]\n",
    "    \n",
    "\n",
    "    values = dictionary.values()\n",
    "    keys = dictionary.keys()\n",
    "    \n",
    "    ax.bar(keys, values, width= width)\n",
    "    plt.xlabel(model, fontweight='bold', color = 'orange', fontsize='17', horizontalalignment='center')\n",
    "    plt.show()"
   ]
  },
  {
   "cell_type": "code",
   "execution_count": 128,
   "metadata": {},
   "outputs": [
    {
     "name": "stdout",
     "output_type": "stream",
     "text": [
      "------------- LinearRegression() -----------------\n",
      "Mean square error for model  LinearRegression() 740.6846452488761\n",
      "Cross Validation Std deviation 0.0\n",
      "------------- RandomForestRegressor(max_depth=25, min_samples_split=60, n_jobs=4) -----------------\n",
      "Mean square error for model  RandomForestRegressor(max_depth=25, min_samples_split=60, n_jobs=4) 731.3241428899761\n",
      "Cross Validation Std deviation 0.0\n",
      "------------- Lasso(alpha=0.1) -----------------\n",
      "Mean square error for model  Lasso(alpha=0.1) 741.1641956664259\n",
      "Cross Validation Std deviation 0.0\n",
      "------------- GaussianNB() -----------------\n",
      "Mean square error for model  GaussianNB() 7404.022473918926\n",
      "Cross Validation Std deviation 0.0\n",
      "------------- DecisionTreeRegressor(max_depth=15) -----------------\n",
      "Mean square error for model  DecisionTreeRegressor(max_depth=15) 745.4949555436384\n",
      "Cross Validation Std deviation 0.0\n",
      "\n",
      "\n",
      "------  Pearson Features Features  ------------\n",
      "\n"
     ]
    },
    {
     "data": {
      "image/png": "[encoded data removed]",
      "text/plain": [
       "<Figure size 432x288 with 1 Axes>"
      ]
     },
     "metadata": {
      "needs_background": "light"
     },
     "output_type": "display_data"
    }
   ],
   "source": [
    "#------ Pearson Features ------------\n",
    "PerRMSEValues8Features = run_best_model(SelectedModels, X_PCorTrain, Y_PCorTrain, X_PCorTest)\n",
    "Plot_Graph(PerRMSEValues8Features,'Pearson Features Features')"
   ]
  },
  {
   "cell_type": "code",
   "execution_count": 129,
   "metadata": {},
   "outputs": [],
   "source": [
    "#------------ ChiSquare -------------\n",
    "#run_best_model(SelectedModels, X_ChiSQTrain, Y_ChiSQTrain, X_ChiSQTest)"
   ]
  },
  {
   "cell_type": "code",
   "execution_count": 130,
   "metadata": {},
   "outputs": [
    {
     "name": "stdout",
     "output_type": "stream",
     "text": [
      "------------- LinearRegression() -----------------\n",
      "Mean square error for model  LinearRegression() 904.6294057699812\n",
      "Cross Validation Std deviation 0.0\n",
      "------------- RandomForestRegressor(max_depth=25, min_samples_split=60, n_jobs=4) -----------------\n",
      "Mean square error for model  RandomForestRegressor(max_depth=25, min_samples_split=60, n_jobs=4) 901.2316561363689\n",
      "Cross Validation Std deviation 0.0\n",
      "------------- Lasso(alpha=0.1) -----------------\n",
      "Mean square error for model  Lasso(alpha=0.1) 905.9215368664491\n",
      "Cross Validation Std deviation 0.0\n",
      "------------- GaussianNB() -----------------\n",
      "Mean square error for model  GaussianNB() 17053.664830256716\n",
      "Cross Validation Std deviation 0.0\n",
      "------------- DecisionTreeRegressor(max_depth=15) -----------------\n",
      "Mean square error for model  DecisionTreeRegressor(max_depth=15) 901.2328884624769\n",
      "Cross Validation Std deviation 0.0\n",
      "\n",
      "\n",
      "------  RFE Features  ------------\n",
      "\n"
     ]
    },
    {
     "data": {
      "image/png": "[encoded data removed]",
      "text/plain": [
       "<Figure size 432x288 with 1 Axes>"
      ]
     },
     "metadata": {
      "needs_background": "light"
     },
     "output_type": "display_data"
    }
   ],
   "source": [
    "#------------ RFE -------------\n",
    "RFERMSEValues8Features = run_best_model(SelectedModels, X_RFETrain, Y_RFETrain, X_RFETest)\n",
    "Plot_Graph(RFERMSEValues8Features,'RFE Features')"
   ]
  },
  {
   "cell_type": "code",
   "execution_count": 131,
   "metadata": {},
   "outputs": [
    {
     "name": "stdout",
     "output_type": "stream",
     "text": [
      "------------- LinearRegression() -----------------\n",
      "Mean square error for model  LinearRegression() 903.6860952915146\n",
      "Cross Validation Std deviation 0.0\n",
      "------------- RandomForestRegressor(max_depth=25, min_samples_split=60, n_jobs=4) -----------------\n",
      "Mean square error for model  RandomForestRegressor(max_depth=25, min_samples_split=60, n_jobs=4) 898.0786774217391\n",
      "Cross Validation Std deviation 0.0\n",
      "------------- Lasso(alpha=0.1) -----------------\n",
      "Mean square error for model  Lasso(alpha=0.1) 904.6345763929406\n",
      "Cross Validation Std deviation 0.0\n",
      "------------- GaussianNB() -----------------\n",
      "Mean square error for model  GaussianNB() 16187.458466888314\n",
      "Cross Validation Std deviation 0.0\n",
      "------------- DecisionTreeRegressor(max_depth=15) -----------------\n",
      "Mean square error for model  DecisionTreeRegressor(max_depth=15) 898.0812617244734\n",
      "Cross Validation Std deviation 0.0\n",
      "\n",
      "\n",
      "------  Lasso Features  ------------\n",
      "\n"
     ]
    },
    {
     "data": {
      "image/png": "[encoded data removed]",
      "text/plain": [
       "<Figure size 432x288 with 1 Axes>"
      ]
     },
     "metadata": {
      "needs_background": "light"
     },
     "output_type": "display_data"
    }
   ],
   "source": [
    "#------------ Lasso -------------\n",
    "LassoRMSEValues8Features = run_best_model(SelectedModels, X_LASSOTrain, Y_LASSOTrain, X_LASSOTest)\n",
    "Plot_Graph(LassoRMSEValues8Features,'Lasso Features')"
   ]
  },
  {
   "cell_type": "code",
   "execution_count": 132,
   "metadata": {},
   "outputs": [
    {
     "name": "stdout",
     "output_type": "stream",
     "text": [
      "------------- LinearRegression() -----------------\n",
      "Mean square error for model  LinearRegression() 665.8523316755653\n",
      "Cross Validation Std deviation 0.0\n",
      "------------- RandomForestRegressor(max_depth=25, min_samples_split=60, n_jobs=4) -----------------\n",
      "Mean square error for model  RandomForestRegressor(max_depth=25, min_samples_split=60, n_jobs=4) 661.099455036967\n",
      "Cross Validation Std deviation 0.0\n",
      "------------- Lasso(alpha=0.1) -----------------\n",
      "Mean square error for model  Lasso(alpha=0.1) 667.0003001965403\n",
      "Cross Validation Std deviation 0.0\n",
      "------------- GaussianNB() -----------------\n",
      "Mean square error for model  GaussianNB() 7040.797743670608\n",
      "Cross Validation Std deviation 0.0\n",
      "------------- DecisionTreeRegressor(max_depth=15) -----------------\n",
      "Mean square error for model  DecisionTreeRegressor(max_depth=15) 673.269962716241\n",
      "Cross Validation Std deviation 0.0\n",
      "\n",
      "\n",
      "------  Random Forest Regressor Features  ------------\n",
      "\n"
     ]
    },
    {
     "data": {
      "image/png": "[encoded data removed]",
      "text/plain": [
       "<Figure size 432x288 with 1 Axes>"
      ]
     },
     "metadata": {
      "needs_background": "light"
     },
     "output_type": "display_data"
    }
   ],
   "source": [
    "#------------ Random Forest Regressor -------------\n",
    "RFRRMSEValues8Features = run_best_model(SelectedModels, X_RFTrain, Y_RFTrain, X_RFTest)\n",
    "Plot_Graph(RFRRMSEValues8Features,'Random Forest Regressor Features')"
   ]
  },
  {
   "cell_type": "code",
   "execution_count": null,
   "metadata": {},
   "outputs": [],
   "source": [
    "#------------- 18 features -------------"
   ]
  },
  {
   "cell_type": "code",
   "execution_count": 144,
   "metadata": {},
   "outputs": [
    {
     "name": "stdout",
     "output_type": "stream",
     "text": [
      "------------- LinearRegression() -----------------\n",
      "Mean square error for model  LinearRegression() 533.8863876004136\n",
      "Cross Validation Std deviation 0.0\n",
      "------------- RandomForestRegressor(max_depth=25, min_samples_split=60, n_jobs=4) -----------------\n",
      "Mean square error for model  RandomForestRegressor(max_depth=25, min_samples_split=60, n_jobs=4) 503.1294224419738\n",
      "Cross Validation Std deviation 0.0\n",
      "------------- Lasso(alpha=0.1) -----------------\n",
      "Mean square error for model  Lasso(alpha=0.1) 535.9429018452871\n",
      "Cross Validation Std deviation 0.0\n",
      "------------- GaussianNB() -----------------\n",
      "Mean square error for model  GaussianNB() 9056.215709193984\n",
      "Cross Validation Std deviation 0.0\n",
      "------------- DecisionTreeRegressor(max_depth=15) -----------------\n",
      "Mean square error for model  DecisionTreeRegressor(max_depth=15) 549.4766490371312\n",
      "Cross Validation Std deviation 0.0\n",
      "\n",
      "\n",
      "------  Pearson Features Features  ------------\n",
      "\n"
     ]
    },
    {
     "data": {
      "image/png": "[encoded data removed]",
      "text/plain": [
       "<Figure size 432x288 with 1 Axes>"
      ]
     },
     "metadata": {
      "needs_background": "light"
     },
     "output_type": "display_data"
    }
   ],
   "source": [
    "#------ Pearson Features ------------\n",
    "PerRMSEValues18Features = run_best_model(SelectedModels, X_PCorTrain, Y_PCorTrain, X_PCorTest)\n",
    "Plot_Graph(PerRMSEValues18Features,'Pearson Features Features')"
   ]
  },
  {
   "cell_type": "code",
   "execution_count": 145,
   "metadata": {},
   "outputs": [
    {
     "name": "stdout",
     "output_type": "stream",
     "text": [
      "\n",
      "\n",
      "------  Pearson Features Features  ------------\n",
      "\n"
     ]
    },
    {
     "data": {
      "image/png": "[encoded data removed]",
      "text/plain": [
       "<Figure size 432x288 with 1 Axes>"
      ]
     },
     "metadata": {
      "needs_background": "light"
     },
     "output_type": "display_data"
    }
   ],
   "source": [
    "Plot_Graph(PerRMSEValues18Features,'Pearson Features Features')"
   ]
  },
  {
   "cell_type": "code",
   "execution_count": 146,
   "metadata": {},
   "outputs": [
    {
     "data": {
      "text/plain": [
       "{'LinearRe': 533,\n",
       " 'RandomFo': 503,\n",
       " 'Lasso(al': 535,\n",
       " 'Gaussian': 9056,\n",
       " 'Decision': 549}"
      ]
     },
     "execution_count": 146,
     "metadata": {},
     "output_type": "execute_result"
    }
   ],
   "source": [
    "PerRMSEValues18Features"
   ]
  },
  {
   "cell_type": "code",
   "execution_count": 147,
   "metadata": {},
   "outputs": [
    {
     "name": "stdout",
     "output_type": "stream",
     "text": [
      "------------- LinearRegression() -----------------\n",
      "Mean square error for model  LinearRegression() 735.2595388101508\n",
      "Cross Validation Std deviation 0.0\n",
      "------------- RandomForestRegressor(max_depth=25, min_samples_split=60, n_jobs=4) -----------------\n",
      "Mean square error for model  RandomForestRegressor(max_depth=25, min_samples_split=60, n_jobs=4) 727.5612885943747\n",
      "Cross Validation Std deviation 0.0\n",
      "------------- Lasso(alpha=0.1) -----------------\n",
      "Mean square error for model  Lasso(alpha=0.1) 741.3932180334481\n",
      "Cross Validation Std deviation 0.0\n",
      "------------- GaussianNB() -----------------\n",
      "Mean square error for model  GaussianNB() 15447.928463453462\n",
      "Cross Validation Std deviation 0.0\n",
      "------------- DecisionTreeRegressor(max_depth=15) -----------------\n",
      "Mean square error for model  DecisionTreeRegressor(max_depth=15) 727.7127735485808\n",
      "Cross Validation Std deviation 0.0\n",
      "\n",
      "\n",
      "------  RFE Features  ------------\n",
      "\n"
     ]
    },
    {
     "data": {
      "image/png": "[encoded data removed]",
      "text/plain": [
       "<Figure size 432x288 with 1 Axes>"
      ]
     },
     "metadata": {
      "needs_background": "light"
     },
     "output_type": "display_data"
    }
   ],
   "source": [
    "#------------ RFE -------------\n",
    "RFERMSEValues18Features = run_best_model(SelectedModels, X_RFETrain, Y_RFETrain, X_RFETest)\n",
    "Plot_Graph(RFERMSEValues18Features,'RFE Features')"
   ]
  },
  {
   "cell_type": "code",
   "execution_count": 148,
   "metadata": {},
   "outputs": [
    {
     "name": "stdout",
     "output_type": "stream",
     "text": [
      "------------- LinearRegression() -----------------\n",
      "Mean square error for model  LinearRegression() 406.97357242796033\n",
      "Cross Validation Std deviation 0.0\n",
      "------------- RandomForestRegressor(max_depth=25, min_samples_split=60, n_jobs=4) -----------------\n",
      "Mean square error for model  RandomForestRegressor(max_depth=25, min_samples_split=60, n_jobs=4) 392.6064467624432\n",
      "Cross Validation Std deviation 0.0\n",
      "------------- Lasso(alpha=0.1) -----------------\n",
      "Mean square error for model  Lasso(alpha=0.1) 409.82028934633473\n",
      "Cross Validation Std deviation 0.0\n",
      "------------- GaussianNB() -----------------\n",
      "Mean square error for model  GaussianNB() 10335.174017063591\n",
      "Cross Validation Std deviation 0.0\n",
      "------------- DecisionTreeRegressor(max_depth=15) -----------------\n",
      "Mean square error for model  DecisionTreeRegressor(max_depth=15) 451.84095712472663\n",
      "Cross Validation Std deviation 0.0\n",
      "\n",
      "\n",
      "------  Lasso Features  ------------\n",
      "\n"
     ]
    },
    {
     "data": {
      "image/png": "[encoded data removed]",
      "text/plain": [
       "<Figure size 432x288 with 1 Axes>"
      ]
     },
     "metadata": {
      "needs_background": "light"
     },
     "output_type": "display_data"
    }
   ],
   "source": [
    "#------------ Lasso -------------\n",
    "LassoRMSEValues18Features = run_best_model(SelectedModels, X_LASSOTrain, Y_LASSOTrain, X_LASSOTest)\n",
    "Plot_Graph(LassoRMSEValues18Features,'Lasso Features')"
   ]
  },
  {
   "cell_type": "code",
   "execution_count": 149,
   "metadata": {},
   "outputs": [
    {
     "name": "stdout",
     "output_type": "stream",
     "text": [
      "\n",
      "\n",
      "------  Lasso Features  ------------\n",
      "\n"
     ]
    },
    {
     "data": {
      "image/png": "[encoded data removed]",
      "text/plain": [
       "<Figure size 432x288 with 1 Axes>"
      ]
     },
     "metadata": {
      "needs_background": "light"
     },
     "output_type": "display_data"
    }
   ],
   "source": [
    "Plot_Graph(LassoRMSEValues18Features,'Lasso Features')"
   ]
  },
  {
   "cell_type": "code",
   "execution_count": 150,
   "metadata": {},
   "outputs": [
    {
     "data": {
      "text/plain": [
       "{'LinearRe': 406,\n",
       " 'RandomFo': 392,\n",
       " 'Lasso(al': 409,\n",
       " 'Gaussian': 10335,\n",
       " 'Decision': 451}"
      ]
     },
     "execution_count": 150,
     "metadata": {},
     "output_type": "execute_result"
    }
   ],
   "source": [
    "LassoRMSEValues18Features"
   ]
  },
  {
   "cell_type": "code",
   "execution_count": 151,
   "metadata": {},
   "outputs": [
    {
     "name": "stdout",
     "output_type": "stream",
     "text": [
      "------------- LinearRegression() -----------------\n",
      "Mean square error for model  LinearRegression() 398.04668212515685\n",
      "Cross Validation Std deviation 0.0\n",
      "------------- RandomForestRegressor(max_depth=25, min_samples_split=60, n_jobs=4) -----------------\n",
      "Mean square error for model  RandomForestRegressor(max_depth=25, min_samples_split=60, n_jobs=4) 387.00234097453335\n",
      "Cross Validation Std deviation 0.0\n",
      "------------- Lasso(alpha=0.1) -----------------\n",
      "Mean square error for model  Lasso(alpha=0.1) 403.46004338512193\n",
      "Cross Validation Std deviation 0.0\n",
      "------------- GaussianNB() -----------------\n",
      "Mean square error for model  GaussianNB() 10518.605595097873\n",
      "Cross Validation Std deviation 0.0\n",
      "------------- DecisionTreeRegressor(max_depth=15) -----------------\n",
      "Mean square error for model  DecisionTreeRegressor(max_depth=15) 445.9270355597252\n",
      "Cross Validation Std deviation 0.0\n",
      "\n",
      "\n",
      "------  Random Forest Regressor Features  ------------\n",
      "\n"
     ]
    },
    {
     "data": {
      "image/png": "[encoded data removed]",
      "text/plain": [
       "<Figure size 432x288 with 1 Axes>"
      ]
     },
     "metadata": {
      "needs_background": "light"
     },
     "output_type": "display_data"
    }
   ],
   "source": [
    "#------------ Random Forest Regressor -------------\n",
    "RFRRMSEValues18Features = run_best_model(SelectedModels, X_RFTrain, Y_RFTrain, X_RFTest)\n",
    "Plot_Graph(RFRRMSEValues18Features,'Random Forest Regressor Features')"
   ]
  },
  {
   "cell_type": "code",
   "execution_count": null,
   "metadata": {},
   "outputs": [],
   "source": []
  },
  {
   "cell_type": "markdown",
   "metadata": {},
   "source": [
    "### ---- 10 Select best model  ----"
   ]
  },
  {
   "cell_type": "code",
   "execution_count": null,
   "metadata": {},
   "outputs": [],
   "source": [
    "#select the model with the lowest error as your \"prodcuction\" model"
   ]
  },
  {
   "cell_type": "markdown",
   "metadata": {},
   "source": [
    "## Part 4 - DEPLOY"
   ]
  },
  {
   "cell_type": "markdown",
   "metadata": {},
   "source": [
    "### ---- 11 Automate pipeline ----"
   ]
  },
  {
   "cell_type": "code",
   "execution_count": null,
   "metadata": {},
   "outputs": [],
   "source": [
    "#write script that trains model on entire training set, saves model to disk,\n",
    "#and scores the \"test\" dataset"
   ]
  },
  {
   "cell_type": "markdown",
   "metadata": {},
   "source": [
    "### ---- 12 Deploy solution ----"
   ]
  },
  {
   "cell_type": "code",
   "execution_count": 16,
   "metadata": {},
   "outputs": [],
   "source": [
    "#save your prediction to a csv file or optionally save them as a table in a SQL database\n",
    "#additionally, you want to save a visualization and summary of your prediction and feature importances\n",
    "#these visualizations and summaries will be extremely useful to business stakeholders"
   ]
  },
  {
   "cell_type": "markdown",
   "metadata": {},
   "source": [
    "### ---- 13 Measure efficacy ----"
   ]
  },
  {
   "cell_type": "markdown",
   "metadata": {},
   "source": [
    "We'll skip this step since we don't have the outcomes for the test data"
   ]
  },
  {
   "cell_type": "code",
   "execution_count": null,
   "metadata": {},
   "outputs": [],
   "source": []
  },
  {
   "cell_type": "code",
   "execution_count": null,
   "metadata": {},
   "outputs": [],
   "source": []
  },
  {
   "cell_type": "code",
   "execution_count": null,
   "metadata": {},
   "outputs": [],
   "source": []
  },
  {
   "cell_type": "code",
   "execution_count": null,
   "metadata": {},
   "outputs": [],
   "source": []
  }
 ],
 "metadata": {
  "kernelspec": {
   "display_name": "Python 3",
   "language": "python",
   "name": "python3"
  },
  "language_info": {
   "codemirror_mode": {
    "name": "ipython",
    "version": 3
   },
   "file_extension": ".py",
   "mimetype": "text/x-python",
   "name": "python",
   "nbconvert_exporter": "python",
   "pygments_lexer": "ipython3",
   "version": "3.7.7"
  }
 },
 "nbformat": 4,
 "nbformat_minor": 2
}
