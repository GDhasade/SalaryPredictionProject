{
 "cells": [
  {
   "cell_type": "markdown",
   "metadata": {},
   "source": [
    "# Salary Predictions Based on Job Descriptions"
   ]
  },
  {
   "cell_type": "markdown",
   "metadata": {},
   "source": [
    "# Part 1 - DEFINE"
   ]
  },
  {
   "cell_type": "markdown",
   "metadata": {},
   "source": [
    "### ---- 1 Define the problem ----"
   ]
  },
  {
   "cell_type": "markdown",
   "metadata": {},
   "source": [
    "##### Project Goal:\n",
    "\n",
    "The goal of this project is to examine the dataset of job postings, and predict salaries for a new set of postings. - This will involve building a model to predict the salaries given in the test dataset.\n",
    "\n",
    "##### Practical use:\n",
    "HR Department of a large company or a Consulting groups that needs real-time solutions in order to make effective employment offers to potential hires.\n",
    "\n",
    "It also finds use in getting to understand current realities in the job market and how businesses can leverage this in order to secure high quality talent, while keeping recuritment cost low.\n",
    "\n",
    "The primary tool used for this project is Python 3, along with an extensive array of libraries and packages available for the manipulation of data,and development of predictive modeling algorithms.\n",
    "\n",
    "##### Project Structure:\n",
    "\n",
    "###### Defining the Problem: \n",
    "Creating \"Data\" and \"Plots\" classes and objects to aid us in extracting, manipulating the given data Exploratory Data Analysis This involves looking at the Data Summaries and Visualizations in order to:\n",
    "\n",
    "Examine the Data Discover patterns and relationships between the features Identify the types of data Clean up the Data Creating classes and objects for Feature Engineering, and Model Selection This will help us preprocess and create new features from existing ones. Here we shall also select the best model for prediction. The algorithms chosen for this are:\n",
    "\n",
    "Linear Regression Random Forest Regressor Gradient Boosting Regressor The Evaluation metric used for these models is the Mean Squared Error.\n",
    "\n",
    "Also we shall look at the Feature Importances, and how each feature performs with the best model selected in making predictions.\n",
    "\n",
    "Saving the results for Deployment Defining the problem Our twofold goal in this project is to:\n",
    "\n",
    "Load and Explore Data Develop and train a suitable prediction model"
   ]
  },
  {
   "cell_type": "markdown",
   "metadata": {},
   "source": [
    "Write the problem in your own words here"
   ]
  },
  {
   "cell_type": "code",
   "execution_count": 1,
   "metadata": {},
   "outputs": [],
   "source": [
    "#import necessary required libraries\n",
    "import numpy as np\n",
    "import pandas as pd\n",
    "import matplotlib.pyplot as plt\n",
    "%matplotlib inline\n",
    "import seaborn as sns\n",
    "\n",
    "import warnings\n",
    "warnings.filterwarnings('ignore')\n",
    "#etc\n",
    "\n",
    "#Author info\n",
    "__author__ = \"Ganesh Dnyaneshwar Dhasade\"\n",
    "__email__ = \"g.dhasade16@gmail.com\""
   ]
  },
  {
   "cell_type": "markdown",
   "metadata": {},
   "source": [
    "## Part 2 - DISCOVER"
   ]
  },
  {
   "cell_type": "markdown",
   "metadata": {},
   "source": [
    "### ---- 2 Load the data ----\n",
    "\n",
    "- Received data having 2 files \n",
    "    1. Contains job features \n",
    "    2. Contains salaries for each job.\n",
    "- In both sheets, JobID is common column\n",
    "- First we import both files and merge them into one single dataframe with reference to jobID"
   ]
  },
  {
   "cell_type": "code",
   "execution_count": 2,
   "metadata": {},
   "outputs": [],
   "source": [
    "#load the data into a Pandas dataframe\n",
    "DataFrame1 = pd.read_csv(\"/Users/ganesh_dhasade/Documents/DSDJ/Salary_Prediction_Project/SalaryPredictionProject/data/train_features.csv\")\n",
    "DataFrame2 = pd.read_csv(\"/Users/ganesh_dhasade/Documents/DSDJ/Salary_Prediction_Project/SalaryPredictionProject/data/train_salaries.csv\")\n",
    "TestData = pd.read_csv(\"/Users/ganesh_dhasade/Documents/DSDJ/Salary_Prediction_Project/SalaryPredictionProject/data/test_features.csv\")\n",
    "#Megre both dataframe into one\n",
    "CompleteDataFrame = DataFrame1.merge(DataFrame2, on='jobId')\n",
    "\n",
    "\n"
   ]
  },
  {
   "cell_type": "markdown",
   "metadata": {},
   "source": [
    "### ---- 3 Clean the data ----"
   ]
  },
  {
   "cell_type": "markdown",
   "metadata": {},
   "source": [
    "### ---- Train Dataset -----"
   ]
  },
  {
   "cell_type": "code",
   "execution_count": 10,
   "metadata": {},
   "outputs": [],
   "source": [
    "#look for duplicate data, invalid data (e.g. salaries <=0), or corrupt data and remove it\n",
    "#Create copy of clean dataset for cleaning\n",
    "CleanDataFrame1 = CompleteDataFrame.copy()\n",
    "TestDataFrame1 = TestData.copy()"
   ]
  },
  {
   "cell_type": "markdown",
   "metadata": {},
   "source": [
    "###### Check data type of both dataset"
   ]
  },
  {
   "cell_type": "code",
   "execution_count": 21,
   "metadata": {},
   "outputs": [
    {
     "data": {
      "text/plain": [
       "jobId                  object\n",
       "companyId              object\n",
       "jobType                object\n",
       "degree                 object\n",
       "major                  object\n",
       "industry               object\n",
       "yearsExperience         int64\n",
       "milesFromMetropolis     int64\n",
       "salary                  int64\n",
       "dtype: object"
      ]
     },
     "execution_count": 21,
     "metadata": {},
     "output_type": "execute_result"
    }
   ],
   "source": [
    "CleanDataFrame1.dtypes"
   ]
  },
  {
   "cell_type": "code",
   "execution_count": 12,
   "metadata": {},
   "outputs": [
    {
     "data": {
      "text/plain": [
       "jobId                  object\n",
       "companyId              object\n",
       "jobType                object\n",
       "degree                 object\n",
       "major                  object\n",
       "industry               object\n",
       "yearsExperience         int64\n",
       "milesFromMetropolis     int64\n",
       "dtype: object"
      ]
     },
     "execution_count": 12,
     "metadata": {},
     "output_type": "execute_result"
    }
   ],
   "source": [
    "TestDataFrame1.dtypes"
   ]
  },
  {
   "cell_type": "markdown",
   "metadata": {},
   "source": [
    "###### Check data size of both dataset"
   ]
  },
  {
   "cell_type": "markdown",
   "metadata": {},
   "source": [
    "###### Functions used while cleaning dataset"
   ]
  },
  {
   "cell_type": "code",
   "execution_count": 60,
   "metadata": {},
   "outputs": [],
   "source": [
    "def Check_Invalid_Data(dataframe):\n",
    "    cols = dataframe.select_dtypes(exclude=['O']).columns.tolist()\n",
    "    for column in cols:\n",
    "        InvCountEqualZero = 0\n",
    "        CountLessThanZero = 0\n",
    "        for rows in dataframe[column]:\n",
    "            if(rows == 0 ):\n",
    "                InvCountEqualZero = InvCountEqualZero + 1\n",
    "            if(rows < 0 ):\n",
    "                CountLessThanZero = CountLessThanZero + 1\n",
    "        print(\"---------------------\",column,\"---------------------\")\n",
    "        print(\"There are {} invalid rows i.e contains ZERO.\".format(InvCountEqualZero,column))\n",
    "        print(\"There are {} invalid rows i.e contains less than ZERO / Negative Values.\".format(CountLessThanZero))\n",
    "        \n",
    "def Check_Null_Values(dataframe):\n",
    "    print(CleanDataFrame1.isnull().sum())\n",
    "    sns.heatmap(dataframe.isnull(),yticklabels=False, cmap='viridis')"
   ]
  },
  {
   "cell_type": "code",
   "execution_count": 14,
   "metadata": {},
   "outputs": [
    {
     "name": "stdout",
     "output_type": "stream",
     "text": [
      "(1000000, 9)\n",
      "(1000000, 8)\n"
     ]
    }
   ],
   "source": [
    "print(CleanDataFrame1.shape)\n",
    "print(TestDataFrame1.shape)"
   ]
  },
  {
   "cell_type": "code",
   "execution_count": 49,
   "metadata": {},
   "outputs": [
    {
     "name": "stdout",
     "output_type": "stream",
     "text": [
      "--------------------- yearsExperience ---------------------\n",
      "There are 39839 invalid rows i.e contains ZERO.\n",
      "There are 0 invalid rows i.e contains less than ZERO / Negative Values.\n",
      "--------------------- milesFromMetropolis ---------------------\n",
      "There are 10123 invalid rows i.e contains ZERO.\n",
      "There are 0 invalid rows i.e contains less than ZERO / Negative Values.\n",
      "--------------------- salary ---------------------\n",
      "There are 5 invalid rows i.e contains ZERO.\n",
      "There are 0 invalid rows i.e contains less than ZERO / Negative Values.\n"
     ]
    }
   ],
   "source": [
    "Check_Invalid_Data(CleanDataFrame1)"
   ]
  },
  {
   "cell_type": "markdown",
   "metadata": {},
   "source": [
    "### Observations\n",
    "- As there are zero rows negative values in all numeric columns.\n",
    "- Years of Experience can be zero for fresher also Miles From Metropolis can be zero who live in city.\n",
    "- But, There are 5 invalid entries in salary column and all having value 0 which is not expected.\n",
    "- Hence need to handle those 5 values"
   ]
  },
  {
   "cell_type": "markdown",
   "metadata": {},
   "source": [
    "##### Now, check how may null values in dataframes"
   ]
  },
  {
   "cell_type": "code",
   "execution_count": 61,
   "metadata": {},
   "outputs": [
    {
     "name": "stdout",
     "output_type": "stream",
     "text": [
      "jobId                  0\n",
      "companyId              0\n",
      "jobType                0\n",
      "degree                 0\n",
      "major                  0\n",
      "industry               0\n",
      "yearsExperience        0\n",
      "milesFromMetropolis    0\n",
      "salary                 0\n",
      "dtype: int64\n"
     ]
    },
    {
     "data": {
      "image/png": "[encoded data removed]",
      "text/plain": [
       "<Figure size 432x288 with 2 Axes>"
      ]
     },
     "metadata": {
      "needs_background": "light"
     },
     "output_type": "display_data"
    }
   ],
   "source": [
    "Check_Null_Values(CleanDataFrame1)"
   ]
  },
  {
   "cell_type": "code",
   "execution_count": 62,
   "metadata": {},
   "outputs": [
    {
     "name": "stdout",
     "output_type": "stream",
     "text": [
      "jobId                  0\n",
      "companyId              0\n",
      "jobType                0\n",
      "degree                 0\n",
      "major                  0\n",
      "industry               0\n",
      "yearsExperience        0\n",
      "milesFromMetropolis    0\n",
      "salary                 0\n",
      "dtype: int64\n"
     ]
    },
    {
     "data": {
      "image/png": "[encoded data removed]",
      "text/plain": [
       "<Figure size 432x288 with 2 Axes>"
      ]
     },
     "metadata": {
      "needs_background": "light"
     },
     "output_type": "display_data"
    }
   ],
   "source": [
    "Check_Null_Values(TestDataFrame1)"
   ]
  },
  {
   "cell_type": "markdown",
   "metadata": {},
   "source": [
    "#### Observation\n",
    "- In both dataset zero null values in any column."
   ]
  },
  {
   "cell_type": "code",
   "execution_count": 9,
   "metadata": {
    "scrolled": true
   },
   "outputs": [
    {
     "name": "stdout",
     "output_type": "stream",
     "text": [
      "<class 'pandas.core.frame.DataFrame'>\n",
      "Int64Index: 1000000 entries, 0 to 999999\n",
      "Data columns (total 9 columns):\n",
      "jobId                  1000000 non-null object\n",
      "companyId              1000000 non-null object\n",
      "jobType                1000000 non-null object\n",
      "degree                 1000000 non-null object\n",
      "major                  1000000 non-null object\n",
      "industry               1000000 non-null object\n",
      "yearsExperience        1000000 non-null int64\n",
      "milesFromMetropolis    1000000 non-null int64\n",
      "salary                 1000000 non-null int64\n",
      "dtypes: int64(3), object(6)\n",
      "memory usage: 76.3+ MB\n"
     ]
    }
   ],
   "source": [
    "# check datatype of each features\n",
    "CleanDataFrame.info()"
   ]
  },
  {
   "cell_type": "markdown",
   "metadata": {},
   "source": [
    "There are 3 numerical columns </n>\n",
    "and 6 categorical columns & doesn't have any null value"
   ]
  },
  {
   "cell_type": "markdown",
   "metadata": {},
   "source": [
    "### ---- 4 Explore the data (EDA) ----"
   ]
  },
  {
   "cell_type": "code",
   "execution_count": 11,
   "metadata": {},
   "outputs": [],
   "source": [
    "#summarize each feature variable\n",
    "#summarize the target variable\n",
    "#look for correlation between each feature and the target\n",
    "#look for correlation between features"
   ]
  },
  {
   "cell_type": "code",
   "execution_count": 69,
   "metadata": {},
   "outputs": [],
   "source": [
    "CleanDataFrame2 = CleanDataFrame1.copy()\n",
    "TestDataFrame2 = TestDataFrame1.copy()"
   ]
  },
  {
   "cell_type": "markdown",
   "metadata": {},
   "source": [
    "#### Functions Required for EDA"
   ]
  },
  {
   "cell_type": "code",
   "execution_count": 87,
   "metadata": {},
   "outputs": [],
   "source": [
    "def Check_Type_Of_Features_Info(dataframe):\n",
    "    print('\\n-------------------------- Categorical Features Information -------------------------------------')\n",
    "    Cat_Cols = dataframe.select_dtypes(include=['O']).columns.tolist()\n",
    "    print('Categorical Columns list: {}'.format(Cat_Cols))\n",
    "    print('\\n\\nColumns info: \\n{}'.format(dataframe.describe(include='O')))\n",
    "\n",
    "    print('\\n\\n-------------------------- Numerical Features Information----------------------------')\n",
    "    Num_Cols = dataframe.select_dtypes(exclude=['O']).columns.tolist()\n",
    "    print('Numerical Columns list: {}'.format(Num_Cols))\n",
    "    print('\\n\\nColumns info: \\n{}'.format(dataframe.describe()))\n",
    "    \n",
    "def Visualise_Outliers(dataframe):\n",
    "    cols = dataframe.select_dtypes(exclude=['O']).columns.tolist()\n",
    "    fig = plt.figure(figsize=(14, 18))\n",
    "    \n",
    "    for index, column in enumerate(cols):\n",
    "        fig.add_subplot(len(column), len(cols), index+1)\n",
    "        sns.boxplot(x=dataframe[column])\n",
    "        \n",
    "        \n",
    "def Outlier_Range(dataframe,colname):\n",
    "    DescriptiveStats = dataframe[colname].describe()\n",
    " \n",
    "    IQR = DescriptiveStats['75%'] - DescriptiveStats['25%']\n",
    "\n",
    "    upper = DescriptiveStats['75%'] + 1.5 * IQR\n",
    "\n",
    "    lower = DescriptiveStats['25%'] - 1.5 * IQR\n",
    "\n",
    "    print('The upper bounds for suspected outliers are {} '.format(upper))\n",
    "    print('The lower bounds for suspected outliers are {}'.format(lower))"
   ]
  },
  {
   "cell_type": "code",
   "execution_count": 70,
   "metadata": {},
   "outputs": [
    {
     "name": "stdout",
     "output_type": "stream",
     "text": [
      "\n",
      "-------------------------- Categorical Features Information -------------------------------------\n",
      "Categorical Columns list: ['jobId', 'companyId', 'jobType', 'degree', 'major', 'industry']\n",
      "\n",
      "\n",
      "Columns info: \n",
      "                   jobId companyId  jobType       degree    major industry\n",
      "count            1000000   1000000  1000000      1000000  1000000  1000000\n",
      "unique           1000000        63        8            5        9        7\n",
      "top     JOB1362684531195    COMP39   SENIOR  HIGH_SCHOOL     NONE      WEB\n",
      "freq                   1     16193   125886       236976   532355   143206\n",
      "\n",
      "\n",
      "-------------------------- Numerical Features Information----------------------------\n",
      "Numerical Columns list: ['yearsExperience', 'milesFromMetropolis', 'salary']\n",
      "\n",
      "\n",
      "Columns info: \n",
      "       yearsExperience  milesFromMetropolis          salary\n",
      "count   1000000.000000       1000000.000000  1000000.000000\n",
      "mean         11.992386            49.529260      116.061818\n",
      "std           7.212391            28.877733       38.717936\n",
      "min           0.000000             0.000000        0.000000\n",
      "25%           6.000000            25.000000       88.000000\n",
      "50%          12.000000            50.000000      114.000000\n",
      "75%          18.000000            75.000000      141.000000\n",
      "max          24.000000            99.000000      301.000000\n"
     ]
    }
   ],
   "source": [
    "Check_Type_Of_Features_Info(CleanDataFrame2)"
   ]
  },
  {
   "cell_type": "markdown",
   "metadata": {},
   "source": [
    "### Observation:\n",
    "- Here, Target feature is Salary column rest others will be independent features (we exclude jobID, companyID features as they are unique identity key)\n",
    "- Except salary colum other two features having median and mean close to each other\n",
    "- Salary: \n",
    "    - Mean is greater than median shows its right skewed/ positive sekwed and contains outliers"
   ]
  },
  {
   "cell_type": "code",
   "execution_count": 71,
   "metadata": {},
   "outputs": [
    {
     "name": "stdout",
     "output_type": "stream",
     "text": [
      "\n",
      "-------------------------- Categorical Features Information -------------------------------------\n",
      "Categorical Columns list: ['jobId', 'companyId', 'jobType', 'degree', 'major', 'industry']\n",
      "\n",
      "\n",
      "Columns info: \n",
      "                   jobId companyId         jobType       degree    major  \\\n",
      "count            1000000   1000000         1000000      1000000  1000000   \n",
      "unique           1000000        63               8            5        9   \n",
      "top     JOB1362686195939    COMP13  VICE_PRESIDENT  HIGH_SCHOOL     NONE   \n",
      "freq                   1     16130          125434       238255   534068   \n",
      "\n",
      "       industry  \n",
      "count   1000000  \n",
      "unique        7  \n",
      "top     SERVICE  \n",
      "freq     143161  \n",
      "\n",
      "\n",
      "-------------------------- Numerical Features Information----------------------------\n",
      "Numerical Columns list: ['yearsExperience', 'milesFromMetropolis']\n",
      "\n",
      "\n",
      "Columns info: \n",
      "       yearsExperience  milesFromMetropolis\n",
      "count   1000000.000000       1000000.000000\n",
      "mean         12.002104            49.526414\n",
      "std           7.213179            28.889713\n",
      "min           0.000000             0.000000\n",
      "25%           6.000000            25.000000\n",
      "50%          12.000000            50.000000\n",
      "75%          18.000000            75.000000\n",
      "max          24.000000            99.000000\n"
     ]
    }
   ],
   "source": [
    "Check_Type_Of_Features_Info(TestDataFrame2)"
   ]
  },
  {
   "cell_type": "markdown",
   "metadata": {},
   "source": [
    "### Observation:\n",
    "- Here, all feature vairables will be independent features \n",
    "- We will exclude/remove jobID, companyID features as they are unique identity key\n"
   ]
  },
  {
   "cell_type": "markdown",
   "metadata": {},
   "source": [
    "###  Visualize box plot for all numerical columns to check outliers"
   ]
  },
  {
   "cell_type": "code",
   "execution_count": 80,
   "metadata": {},
   "outputs": [
    {
     "data": {
      "image/png": "[encoded data removed]",
      "text/plain": [
       "<Figure size 1008x1296 with 3 Axes>"
      ]
     },
     "metadata": {
      "needs_background": "light"
     },
     "output_type": "display_data"
    }
   ],
   "source": [
    "Visualise_Outliers(CleanDataFrame2)\n",
    "#sns.boxplot(x=EDATrain[\"yearsExperience\"])"
   ]
  },
  {
   "cell_type": "markdown",
   "metadata": {},
   "source": [
    "### Remove outlier we use box plot outlier calculation formula\n",
    "- As we can see above 3 visualizations in box plot \"SALARY\" column having outliers\n",
    "- Remove the outliers rows from the dataset\n",
    "- As there are only 5 rows out of 1million datarows we can delete\n",
    "- refer to get more about formula: https://www.simplypsychology.org/boxplots.html#:~:text=When%20reviewing%20a%20box%20plot,whiskers%20of%20the%20box%20plot.&text=For%20example%2C%20outside%201.5%20times,Q3%20%2B%201.5%20*%20IQR).\n",
    "- So basically use formula:\n",
    "     - outside 1.5 times the interquartile range above the upper quartile and \n",
    "     - below the lower quartile (Q1 - 1.5 * IQR or Q3 + 1.5 * IQR)."
   ]
  },
  {
   "cell_type": "code",
   "execution_count": 88,
   "metadata": {},
   "outputs": [
    {
     "name": "stdout",
     "output_type": "stream",
     "text": [
      "The upper bounds for suspected outliers are 220.5 \n",
      "The lower bounds for suspected outliers are 8.5\n"
     ]
    }
   ],
   "source": [
    "Outlier_Range(CleanDataFrame2,\"salary\")"
   ]
  },
  {
   "cell_type": "markdown",
   "metadata": {},
   "source": [
    "#### Analysis for upper and lower bonds value in SALARY column"
   ]
  },
  {
   "cell_type": "code",
   "execution_count": 89,
   "metadata": {},
   "outputs": [
    {
     "data": {
      "text/html": [
       "<div>\n",
       "<style scoped>\n",
       "    .dataframe tbody tr th:only-of-type {\n",
       "        vertical-align: middle;\n",
       "    }\n",
       "\n",
       "    .dataframe tbody tr th {\n",
       "        vertical-align: top;\n",
       "    }\n",
       "\n",
       "    .dataframe thead th {\n",
       "        text-align: right;\n",
       "    }\n",
       "</style>\n",
       "<table border=\"1\" class=\"dataframe\">\n",
       "  <thead>\n",
       "    <tr style=\"text-align: right;\">\n",
       "      <th></th>\n",
       "      <th>jobId</th>\n",
       "      <th>companyId</th>\n",
       "      <th>jobType</th>\n",
       "      <th>degree</th>\n",
       "      <th>major</th>\n",
       "      <th>industry</th>\n",
       "      <th>yearsExperience</th>\n",
       "      <th>milesFromMetropolis</th>\n",
       "      <th>salary</th>\n",
       "    </tr>\n",
       "  </thead>\n",
       "  <tbody>\n",
       "    <tr>\n",
       "      <td>30559</td>\n",
       "      <td>JOB1362684438246</td>\n",
       "      <td>COMP44</td>\n",
       "      <td>JUNIOR</td>\n",
       "      <td>DOCTORAL</td>\n",
       "      <td>MATH</td>\n",
       "      <td>AUTO</td>\n",
       "      <td>11</td>\n",
       "      <td>7</td>\n",
       "      <td>0</td>\n",
       "    </tr>\n",
       "    <tr>\n",
       "      <td>495984</td>\n",
       "      <td>JOB1362684903671</td>\n",
       "      <td>COMP34</td>\n",
       "      <td>JUNIOR</td>\n",
       "      <td>NONE</td>\n",
       "      <td>NONE</td>\n",
       "      <td>OIL</td>\n",
       "      <td>1</td>\n",
       "      <td>25</td>\n",
       "      <td>0</td>\n",
       "    </tr>\n",
       "    <tr>\n",
       "      <td>652076</td>\n",
       "      <td>JOB1362685059763</td>\n",
       "      <td>COMP25</td>\n",
       "      <td>CTO</td>\n",
       "      <td>HIGH_SCHOOL</td>\n",
       "      <td>NONE</td>\n",
       "      <td>AUTO</td>\n",
       "      <td>6</td>\n",
       "      <td>60</td>\n",
       "      <td>0</td>\n",
       "    </tr>\n",
       "    <tr>\n",
       "      <td>816129</td>\n",
       "      <td>JOB1362685223816</td>\n",
       "      <td>COMP42</td>\n",
       "      <td>MANAGER</td>\n",
       "      <td>DOCTORAL</td>\n",
       "      <td>ENGINEERING</td>\n",
       "      <td>FINANCE</td>\n",
       "      <td>18</td>\n",
       "      <td>6</td>\n",
       "      <td>0</td>\n",
       "    </tr>\n",
       "    <tr>\n",
       "      <td>828156</td>\n",
       "      <td>JOB1362685235843</td>\n",
       "      <td>COMP40</td>\n",
       "      <td>VICE_PRESIDENT</td>\n",
       "      <td>MASTERS</td>\n",
       "      <td>ENGINEERING</td>\n",
       "      <td>WEB</td>\n",
       "      <td>3</td>\n",
       "      <td>29</td>\n",
       "      <td>0</td>\n",
       "    </tr>\n",
       "  </tbody>\n",
       "</table>\n",
       "</div>"
      ],
      "text/plain": [
       "                   jobId companyId         jobType       degree        major  \\\n",
       "30559   JOB1362684438246    COMP44          JUNIOR     DOCTORAL         MATH   \n",
       "495984  JOB1362684903671    COMP34          JUNIOR         NONE         NONE   \n",
       "652076  JOB1362685059763    COMP25             CTO  HIGH_SCHOOL         NONE   \n",
       "816129  JOB1362685223816    COMP42         MANAGER     DOCTORAL  ENGINEERING   \n",
       "828156  JOB1362685235843    COMP40  VICE_PRESIDENT      MASTERS  ENGINEERING   \n",
       "\n",
       "       industry  yearsExperience  milesFromMetropolis  salary  \n",
       "30559      AUTO               11                    7       0  \n",
       "495984      OIL                1                   25       0  \n",
       "652076     AUTO                6                   60       0  \n",
       "816129  FINANCE               18                    6       0  \n",
       "828156      WEB                3                   29       0  "
      ]
     },
     "execution_count": 89,
     "metadata": {},
     "output_type": "execute_result"
    }
   ],
   "source": [
    "CleanDataFrame2[CleanDataFrame2.salary < 8.5]\n"
   ]
  },
  {
   "cell_type": "code",
   "execution_count": 90,
   "metadata": {},
   "outputs": [
    {
     "data": {
      "text/html": [
       "<div>\n",
       "<style scoped>\n",
       "    .dataframe tbody tr th:only-of-type {\n",
       "        vertical-align: middle;\n",
       "    }\n",
       "\n",
       "    .dataframe tbody tr th {\n",
       "        vertical-align: top;\n",
       "    }\n",
       "\n",
       "    .dataframe thead th {\n",
       "        text-align: right;\n",
       "    }\n",
       "</style>\n",
       "<table border=\"1\" class=\"dataframe\">\n",
       "  <thead>\n",
       "    <tr style=\"text-align: right;\">\n",
       "      <th></th>\n",
       "      <th>jobId</th>\n",
       "      <th>companyId</th>\n",
       "      <th>jobType</th>\n",
       "      <th>degree</th>\n",
       "      <th>major</th>\n",
       "      <th>industry</th>\n",
       "      <th>yearsExperience</th>\n",
       "      <th>milesFromMetropolis</th>\n",
       "      <th>salary</th>\n",
       "    </tr>\n",
       "  </thead>\n",
       "  <tbody>\n",
       "    <tr>\n",
       "      <td>266</td>\n",
       "      <td>JOB1362684407953</td>\n",
       "      <td>COMP30</td>\n",
       "      <td>CEO</td>\n",
       "      <td>MASTERS</td>\n",
       "      <td>BIOLOGY</td>\n",
       "      <td>OIL</td>\n",
       "      <td>23</td>\n",
       "      <td>60</td>\n",
       "      <td>223</td>\n",
       "    </tr>\n",
       "    <tr>\n",
       "      <td>362</td>\n",
       "      <td>JOB1362684408049</td>\n",
       "      <td>COMP38</td>\n",
       "      <td>CTO</td>\n",
       "      <td>MASTERS</td>\n",
       "      <td>NONE</td>\n",
       "      <td>HEALTH</td>\n",
       "      <td>24</td>\n",
       "      <td>3</td>\n",
       "      <td>223</td>\n",
       "    </tr>\n",
       "    <tr>\n",
       "      <td>560</td>\n",
       "      <td>JOB1362684408247</td>\n",
       "      <td>COMP53</td>\n",
       "      <td>CEO</td>\n",
       "      <td>MASTERS</td>\n",
       "      <td>BIOLOGY</td>\n",
       "      <td>WEB</td>\n",
       "      <td>22</td>\n",
       "      <td>7</td>\n",
       "      <td>248</td>\n",
       "    </tr>\n",
       "    <tr>\n",
       "      <td>670</td>\n",
       "      <td>JOB1362684408357</td>\n",
       "      <td>COMP26</td>\n",
       "      <td>CEO</td>\n",
       "      <td>MASTERS</td>\n",
       "      <td>MATH</td>\n",
       "      <td>AUTO</td>\n",
       "      <td>23</td>\n",
       "      <td>9</td>\n",
       "      <td>240</td>\n",
       "    </tr>\n",
       "    <tr>\n",
       "      <td>719</td>\n",
       "      <td>JOB1362684408406</td>\n",
       "      <td>COMP54</td>\n",
       "      <td>VICE_PRESIDENT</td>\n",
       "      <td>DOCTORAL</td>\n",
       "      <td>BIOLOGY</td>\n",
       "      <td>OIL</td>\n",
       "      <td>21</td>\n",
       "      <td>14</td>\n",
       "      <td>225</td>\n",
       "    </tr>\n",
       "    <tr>\n",
       "      <td>...</td>\n",
       "      <td>...</td>\n",
       "      <td>...</td>\n",
       "      <td>...</td>\n",
       "      <td>...</td>\n",
       "      <td>...</td>\n",
       "      <td>...</td>\n",
       "      <td>...</td>\n",
       "      <td>...</td>\n",
       "      <td>...</td>\n",
       "    </tr>\n",
       "    <tr>\n",
       "      <td>998516</td>\n",
       "      <td>JOB1362685406203</td>\n",
       "      <td>COMP29</td>\n",
       "      <td>CFO</td>\n",
       "      <td>MASTERS</td>\n",
       "      <td>ENGINEERING</td>\n",
       "      <td>WEB</td>\n",
       "      <td>14</td>\n",
       "      <td>46</td>\n",
       "      <td>227</td>\n",
       "    </tr>\n",
       "    <tr>\n",
       "      <td>999249</td>\n",
       "      <td>JOB1362685406936</td>\n",
       "      <td>COMP30</td>\n",
       "      <td>CEO</td>\n",
       "      <td>NONE</td>\n",
       "      <td>NONE</td>\n",
       "      <td>OIL</td>\n",
       "      <td>17</td>\n",
       "      <td>10</td>\n",
       "      <td>223</td>\n",
       "    </tr>\n",
       "    <tr>\n",
       "      <td>999280</td>\n",
       "      <td>JOB1362685406967</td>\n",
       "      <td>COMP2</td>\n",
       "      <td>CFO</td>\n",
       "      <td>BACHELORS</td>\n",
       "      <td>BUSINESS</td>\n",
       "      <td>SERVICE</td>\n",
       "      <td>21</td>\n",
       "      <td>0</td>\n",
       "      <td>228</td>\n",
       "    </tr>\n",
       "    <tr>\n",
       "      <td>999670</td>\n",
       "      <td>JOB1362685407357</td>\n",
       "      <td>COMP20</td>\n",
       "      <td>CEO</td>\n",
       "      <td>DOCTORAL</td>\n",
       "      <td>LITERATURE</td>\n",
       "      <td>SERVICE</td>\n",
       "      <td>24</td>\n",
       "      <td>14</td>\n",
       "      <td>233</td>\n",
       "    </tr>\n",
       "    <tr>\n",
       "      <td>999893</td>\n",
       "      <td>JOB1362685407580</td>\n",
       "      <td>COMP9</td>\n",
       "      <td>CEO</td>\n",
       "      <td>DOCTORAL</td>\n",
       "      <td>ENGINEERING</td>\n",
       "      <td>FINANCE</td>\n",
       "      <td>17</td>\n",
       "      <td>33</td>\n",
       "      <td>237</td>\n",
       "    </tr>\n",
       "  </tbody>\n",
       "</table>\n",
       "<p>7117 rows × 9 columns</p>\n",
       "</div>"
      ],
      "text/plain": [
       "                   jobId companyId         jobType     degree        major  \\\n",
       "266     JOB1362684407953    COMP30             CEO    MASTERS      BIOLOGY   \n",
       "362     JOB1362684408049    COMP38             CTO    MASTERS         NONE   \n",
       "560     JOB1362684408247    COMP53             CEO    MASTERS      BIOLOGY   \n",
       "670     JOB1362684408357    COMP26             CEO    MASTERS         MATH   \n",
       "719     JOB1362684408406    COMP54  VICE_PRESIDENT   DOCTORAL      BIOLOGY   \n",
       "...                  ...       ...             ...        ...          ...   \n",
       "998516  JOB1362685406203    COMP29             CFO    MASTERS  ENGINEERING   \n",
       "999249  JOB1362685406936    COMP30             CEO       NONE         NONE   \n",
       "999280  JOB1362685406967     COMP2             CFO  BACHELORS     BUSINESS   \n",
       "999670  JOB1362685407357    COMP20             CEO   DOCTORAL   LITERATURE   \n",
       "999893  JOB1362685407580     COMP9             CEO   DOCTORAL  ENGINEERING   \n",
       "\n",
       "       industry  yearsExperience  milesFromMetropolis  salary  \n",
       "266         OIL               23                   60     223  \n",
       "362      HEALTH               24                    3     223  \n",
       "560         WEB               22                    7     248  \n",
       "670        AUTO               23                    9     240  \n",
       "719         OIL               21                   14     225  \n",
       "...         ...              ...                  ...     ...  \n",
       "998516      WEB               14                   46     227  \n",
       "999249      OIL               17                   10     223  \n",
       "999280  SERVICE               21                    0     228  \n",
       "999670  SERVICE               24                   14     233  \n",
       "999893  FINANCE               17                   33     237  \n",
       "\n",
       "[7117 rows x 9 columns]"
      ]
     },
     "execution_count": 90,
     "metadata": {},
     "output_type": "execute_result"
    }
   ],
   "source": [
    "# Lets check the rows and its value of outliers whose value is more than upper boud i.e 220.5\n",
    "CleanDataFrame2[CleanDataFrame2.salary > 220.5]"
   ]
  },
  {
   "cell_type": "code",
   "execution_count": 92,
   "metadata": {},
   "outputs": [
    {
     "data": {
      "text/plain": [
       "CEO               2893\n",
       "CFO               1308\n",
       "CTO               1298\n",
       "VICE_PRESIDENT     520\n",
       "MANAGER            188\n",
       "SENIOR              50\n",
       "JUNIOR              16\n",
       "Name: jobType, dtype: int64"
      ]
     },
     "execution_count": 92,
     "metadata": {},
     "output_type": "execute_result"
    }
   ],
   "source": [
    "#check potential outlier above upper bound\n",
    "CleanDataFrame2.loc[CleanDataFrame2.salary > 222.5, 'jobType'].value_counts()\n"
   ]
  },
  {
   "cell_type": "markdown",
   "metadata": {},
   "source": [
    "### Interpretation / Inference\n",
    "- As there are 7117 rows where salary more than upper bond, so need to go deep and check those rows.\n",
    "- In any organisation, top most positions are less as compare to low positons\n",
    "- Hence, as we see most of top most position (like CEO, CTO, CFO etc.) salary are more as compare to low positon (Jr., associates etc)\n",
    "- Hence, we will not remove those rows as they play an important role in dataset.\n",
    "- But, as in above results shows 16 juniors also crossing the upperbond, hence lets check the salary of juinors"
   ]
  },
  {
   "cell_type": "code",
   "execution_count": 94,
   "metadata": {},
   "outputs": [
    {
     "data": {
      "text/html": [
       "<div>\n",
       "<style scoped>\n",
       "    .dataframe tbody tr th:only-of-type {\n",
       "        vertical-align: middle;\n",
       "    }\n",
       "\n",
       "    .dataframe tbody tr th {\n",
       "        vertical-align: top;\n",
       "    }\n",
       "\n",
       "    .dataframe thead th {\n",
       "        text-align: right;\n",
       "    }\n",
       "</style>\n",
       "<table border=\"1\" class=\"dataframe\">\n",
       "  <thead>\n",
       "    <tr style=\"text-align: right;\">\n",
       "      <th></th>\n",
       "      <th>jobId</th>\n",
       "      <th>companyId</th>\n",
       "      <th>jobType</th>\n",
       "      <th>degree</th>\n",
       "      <th>major</th>\n",
       "      <th>industry</th>\n",
       "      <th>yearsExperience</th>\n",
       "      <th>milesFromMetropolis</th>\n",
       "      <th>salary</th>\n",
       "    </tr>\n",
       "  </thead>\n",
       "  <tbody>\n",
       "    <tr>\n",
       "      <td>1222</td>\n",
       "      <td>JOB1362684408909</td>\n",
       "      <td>COMP40</td>\n",
       "      <td>JUNIOR</td>\n",
       "      <td>MASTERS</td>\n",
       "      <td>COMPSCI</td>\n",
       "      <td>OIL</td>\n",
       "      <td>24</td>\n",
       "      <td>5</td>\n",
       "      <td>225</td>\n",
       "    </tr>\n",
       "    <tr>\n",
       "      <td>27710</td>\n",
       "      <td>JOB1362684435397</td>\n",
       "      <td>COMP21</td>\n",
       "      <td>JUNIOR</td>\n",
       "      <td>DOCTORAL</td>\n",
       "      <td>ENGINEERING</td>\n",
       "      <td>OIL</td>\n",
       "      <td>24</td>\n",
       "      <td>3</td>\n",
       "      <td>246</td>\n",
       "    </tr>\n",
       "    <tr>\n",
       "      <td>31355</td>\n",
       "      <td>JOB1362684439042</td>\n",
       "      <td>COMP45</td>\n",
       "      <td>JUNIOR</td>\n",
       "      <td>DOCTORAL</td>\n",
       "      <td>COMPSCI</td>\n",
       "      <td>FINANCE</td>\n",
       "      <td>24</td>\n",
       "      <td>0</td>\n",
       "      <td>225</td>\n",
       "    </tr>\n",
       "    <tr>\n",
       "      <td>100042</td>\n",
       "      <td>JOB1362684507729</td>\n",
       "      <td>COMP17</td>\n",
       "      <td>JUNIOR</td>\n",
       "      <td>DOCTORAL</td>\n",
       "      <td>BUSINESS</td>\n",
       "      <td>FINANCE</td>\n",
       "      <td>23</td>\n",
       "      <td>8</td>\n",
       "      <td>248</td>\n",
       "    </tr>\n",
       "    <tr>\n",
       "      <td>160333</td>\n",
       "      <td>JOB1362684568020</td>\n",
       "      <td>COMP18</td>\n",
       "      <td>JUNIOR</td>\n",
       "      <td>DOCTORAL</td>\n",
       "      <td>BUSINESS</td>\n",
       "      <td>FINANCE</td>\n",
       "      <td>22</td>\n",
       "      <td>3</td>\n",
       "      <td>223</td>\n",
       "    </tr>\n",
       "    <tr>\n",
       "      <td>303778</td>\n",
       "      <td>JOB1362684711465</td>\n",
       "      <td>COMP51</td>\n",
       "      <td>JUNIOR</td>\n",
       "      <td>MASTERS</td>\n",
       "      <td>ENGINEERING</td>\n",
       "      <td>WEB</td>\n",
       "      <td>24</td>\n",
       "      <td>2</td>\n",
       "      <td>226</td>\n",
       "    </tr>\n",
       "    <tr>\n",
       "      <td>348354</td>\n",
       "      <td>JOB1362684756041</td>\n",
       "      <td>COMP56</td>\n",
       "      <td>JUNIOR</td>\n",
       "      <td>DOCTORAL</td>\n",
       "      <td>ENGINEERING</td>\n",
       "      <td>OIL</td>\n",
       "      <td>23</td>\n",
       "      <td>25</td>\n",
       "      <td>226</td>\n",
       "    </tr>\n",
       "    <tr>\n",
       "      <td>500739</td>\n",
       "      <td>JOB1362684908426</td>\n",
       "      <td>COMP40</td>\n",
       "      <td>JUNIOR</td>\n",
       "      <td>DOCTORAL</td>\n",
       "      <td>ENGINEERING</td>\n",
       "      <td>OIL</td>\n",
       "      <td>21</td>\n",
       "      <td>0</td>\n",
       "      <td>227</td>\n",
       "    </tr>\n",
       "    <tr>\n",
       "      <td>627534</td>\n",
       "      <td>JOB1362685035221</td>\n",
       "      <td>COMP5</td>\n",
       "      <td>JUNIOR</td>\n",
       "      <td>DOCTORAL</td>\n",
       "      <td>ENGINEERING</td>\n",
       "      <td>OIL</td>\n",
       "      <td>24</td>\n",
       "      <td>29</td>\n",
       "      <td>230</td>\n",
       "    </tr>\n",
       "    <tr>\n",
       "      <td>645555</td>\n",
       "      <td>JOB1362685053242</td>\n",
       "      <td>COMP36</td>\n",
       "      <td>JUNIOR</td>\n",
       "      <td>DOCTORAL</td>\n",
       "      <td>BUSINESS</td>\n",
       "      <td>FINANCE</td>\n",
       "      <td>24</td>\n",
       "      <td>1</td>\n",
       "      <td>225</td>\n",
       "    </tr>\n",
       "    <tr>\n",
       "      <td>685775</td>\n",
       "      <td>JOB1362685093462</td>\n",
       "      <td>COMP38</td>\n",
       "      <td>JUNIOR</td>\n",
       "      <td>BACHELORS</td>\n",
       "      <td>ENGINEERING</td>\n",
       "      <td>OIL</td>\n",
       "      <td>24</td>\n",
       "      <td>13</td>\n",
       "      <td>225</td>\n",
       "    </tr>\n",
       "    <tr>\n",
       "      <td>743326</td>\n",
       "      <td>JOB1362685151013</td>\n",
       "      <td>COMP14</td>\n",
       "      <td>JUNIOR</td>\n",
       "      <td>DOCTORAL</td>\n",
       "      <td>BUSINESS</td>\n",
       "      <td>FINANCE</td>\n",
       "      <td>19</td>\n",
       "      <td>0</td>\n",
       "      <td>236</td>\n",
       "    </tr>\n",
       "    <tr>\n",
       "      <td>787674</td>\n",
       "      <td>JOB1362685195361</td>\n",
       "      <td>COMP43</td>\n",
       "      <td>JUNIOR</td>\n",
       "      <td>DOCTORAL</td>\n",
       "      <td>BUSINESS</td>\n",
       "      <td>FINANCE</td>\n",
       "      <td>18</td>\n",
       "      <td>15</td>\n",
       "      <td>232</td>\n",
       "    </tr>\n",
       "    <tr>\n",
       "      <td>796956</td>\n",
       "      <td>JOB1362685204643</td>\n",
       "      <td>COMP30</td>\n",
       "      <td>JUNIOR</td>\n",
       "      <td>MASTERS</td>\n",
       "      <td>BUSINESS</td>\n",
       "      <td>OIL</td>\n",
       "      <td>24</td>\n",
       "      <td>2</td>\n",
       "      <td>228</td>\n",
       "    </tr>\n",
       "    <tr>\n",
       "      <td>855219</td>\n",
       "      <td>JOB1362685262906</td>\n",
       "      <td>COMP13</td>\n",
       "      <td>JUNIOR</td>\n",
       "      <td>MASTERS</td>\n",
       "      <td>ENGINEERING</td>\n",
       "      <td>OIL</td>\n",
       "      <td>22</td>\n",
       "      <td>26</td>\n",
       "      <td>225</td>\n",
       "    </tr>\n",
       "    <tr>\n",
       "      <td>954368</td>\n",
       "      <td>JOB1362685362055</td>\n",
       "      <td>COMP11</td>\n",
       "      <td>JUNIOR</td>\n",
       "      <td>DOCTORAL</td>\n",
       "      <td>BUSINESS</td>\n",
       "      <td>OIL</td>\n",
       "      <td>24</td>\n",
       "      <td>26</td>\n",
       "      <td>223</td>\n",
       "    </tr>\n",
       "  </tbody>\n",
       "</table>\n",
       "</div>"
      ],
      "text/plain": [
       "                   jobId companyId jobType     degree        major industry  \\\n",
       "1222    JOB1362684408909    COMP40  JUNIOR    MASTERS      COMPSCI      OIL   \n",
       "27710   JOB1362684435397    COMP21  JUNIOR   DOCTORAL  ENGINEERING      OIL   \n",
       "31355   JOB1362684439042    COMP45  JUNIOR   DOCTORAL      COMPSCI  FINANCE   \n",
       "100042  JOB1362684507729    COMP17  JUNIOR   DOCTORAL     BUSINESS  FINANCE   \n",
       "160333  JOB1362684568020    COMP18  JUNIOR   DOCTORAL     BUSINESS  FINANCE   \n",
       "303778  JOB1362684711465    COMP51  JUNIOR    MASTERS  ENGINEERING      WEB   \n",
       "348354  JOB1362684756041    COMP56  JUNIOR   DOCTORAL  ENGINEERING      OIL   \n",
       "500739  JOB1362684908426    COMP40  JUNIOR   DOCTORAL  ENGINEERING      OIL   \n",
       "627534  JOB1362685035221     COMP5  JUNIOR   DOCTORAL  ENGINEERING      OIL   \n",
       "645555  JOB1362685053242    COMP36  JUNIOR   DOCTORAL     BUSINESS  FINANCE   \n",
       "685775  JOB1362685093462    COMP38  JUNIOR  BACHELORS  ENGINEERING      OIL   \n",
       "743326  JOB1362685151013    COMP14  JUNIOR   DOCTORAL     BUSINESS  FINANCE   \n",
       "787674  JOB1362685195361    COMP43  JUNIOR   DOCTORAL     BUSINESS  FINANCE   \n",
       "796956  JOB1362685204643    COMP30  JUNIOR    MASTERS     BUSINESS      OIL   \n",
       "855219  JOB1362685262906    COMP13  JUNIOR    MASTERS  ENGINEERING      OIL   \n",
       "954368  JOB1362685362055    COMP11  JUNIOR   DOCTORAL     BUSINESS      OIL   \n",
       "\n",
       "        yearsExperience  milesFromMetropolis  salary  \n",
       "1222                 24                    5     225  \n",
       "27710                24                    3     246  \n",
       "31355                24                    0     225  \n",
       "100042               23                    8     248  \n",
       "160333               22                    3     223  \n",
       "303778               24                    2     226  \n",
       "348354               23                   25     226  \n",
       "500739               21                    0     227  \n",
       "627534               24                   29     230  \n",
       "645555               24                    1     225  \n",
       "685775               24                   13     225  \n",
       "743326               19                    0     236  \n",
       "787674               18                   15     232  \n",
       "796956               24                    2     228  \n",
       "855219               22                   26     225  \n",
       "954368               24                   26     223  "
      ]
     },
     "execution_count": 94,
     "metadata": {},
     "output_type": "execute_result"
    }
   ],
   "source": [
    "CleanDataFrame2.loc[(CleanDataFrame2.salary > 222.5) &  (CleanDataFrame2.jobType == 'JUNIOR')]"
   ]
  },
  {
   "cell_type": "markdown",
   "metadata": {},
   "source": [
    "### Observations\n",
    "- As we check the degree and the industry of those juniors having salary more than upper bond\n",
    "- Salary make sense, as in finance and oil industry the junior position with good education have good salaries\n",
    "- Hence we are not removing outliers from having more salary than upperbond.\n",
    "- We will remove only those outlier values having salary less than lowerbond i.e 0"
   ]
  },
  {
   "cell_type": "code",
   "execution_count": 95,
   "metadata": {},
   "outputs": [
    {
     "data": {
      "text/plain": [
       "(999995, 9)"
      ]
     },
     "execution_count": 95,
     "metadata": {},
     "output_type": "execute_result"
    }
   ],
   "source": [
    "# So we have 5 rows whose salary is 0 and yeah those are outliers lets remove those rows\n",
    "CleanDataFrame3 = CleanDataFrame2[CleanDataFrame2.salary > 8.5]\n",
    "CleanDataFrame3.shape"
   ]
  },
  {
   "cell_type": "markdown",
   "metadata": {},
   "source": [
    "### Lets check correlation between the features"
   ]
  },
  {
   "cell_type": "code",
   "execution_count": 96,
   "metadata": {},
   "outputs": [
    {
     "data": {
      "text/plain": [
       "Index(['jobId', 'companyId', 'jobType', 'degree', 'major', 'industry',\n",
       "       'yearsExperience', 'milesFromMetropolis', 'salary'],\n",
       "      dtype='object')"
      ]
     },
     "execution_count": 96,
     "metadata": {},
     "output_type": "execute_result"
    }
   ],
   "source": [
    "CleanDataFrame3.columns"
   ]
  },
  {
   "cell_type": "code",
   "execution_count": 97,
   "metadata": {},
   "outputs": [
    {
     "data": {
      "text/html": [
       "<div>\n",
       "<style scoped>\n",
       "    .dataframe tbody tr th:only-of-type {\n",
       "        vertical-align: middle;\n",
       "    }\n",
       "\n",
       "    .dataframe tbody tr th {\n",
       "        vertical-align: top;\n",
       "    }\n",
       "\n",
       "    .dataframe thead th {\n",
       "        text-align: right;\n",
       "    }\n",
       "</style>\n",
       "<table border=\"1\" class=\"dataframe\">\n",
       "  <thead>\n",
       "    <tr style=\"text-align: right;\">\n",
       "      <th></th>\n",
       "      <th>yearsExperience</th>\n",
       "      <th>milesFromMetropolis</th>\n",
       "      <th>salary</th>\n",
       "    </tr>\n",
       "  </thead>\n",
       "  <tbody>\n",
       "    <tr>\n",
       "      <td>yearsExperience</td>\n",
       "      <td>1.000000</td>\n",
       "      <td>0.000672</td>\n",
       "      <td>0.375013</td>\n",
       "    </tr>\n",
       "    <tr>\n",
       "      <td>milesFromMetropolis</td>\n",
       "      <td>0.000672</td>\n",
       "      <td>1.000000</td>\n",
       "      <td>-0.297686</td>\n",
       "    </tr>\n",
       "    <tr>\n",
       "      <td>salary</td>\n",
       "      <td>0.375013</td>\n",
       "      <td>-0.297686</td>\n",
       "      <td>1.000000</td>\n",
       "    </tr>\n",
       "  </tbody>\n",
       "</table>\n",
       "</div>"
      ],
      "text/plain": [
       "                     yearsExperience  milesFromMetropolis    salary\n",
       "yearsExperience             1.000000             0.000672  0.375013\n",
       "milesFromMetropolis         0.000672             1.000000 -0.297686\n",
       "salary                      0.375013            -0.297686  1.000000"
      ]
     },
     "execution_count": 97,
     "metadata": {},
     "output_type": "execute_result"
    }
   ],
   "source": [
    "CleanDataFrame3.corr()"
   ]
  },
  {
   "cell_type": "code",
   "execution_count": 98,
   "metadata": {},
   "outputs": [],
   "source": [
    "def plot_variables(df,var): \n",
    "    '''\n",
    "    produce plot for each features\n",
    "    plot1(left), the distribution of samples on the feature\n",
    "    plot2(right), the dependance of salary on the feature\n",
    "    '''\n",
    "    plt.figure(figsize = (14, 4))\n",
    "    plt.subplot(1, 2, 1)\n",
    "    if df[var].dtype == 'int64':\n",
    "        df[var].value_counts().sort_index().plot()\n",
    "    else:\n",
    "        #change the object datatype of each variable to category type and order their level by the mean salary\n",
    "        mean = df.groupby(var)[\"salary\"].mean()\n",
    "        df[var] = df[var].astype('category')\n",
    "        level = mean.sort_values().index.tolist()\n",
    "        df[var].cat.reorder_categories(level, inplace=True)\n",
    "        df[var].value_counts().plot()        \n",
    "    plt.xticks(rotation=45)\n",
    "    plt.xlabel(var)\n",
    "    plt.ylabel('Count')\n",
    "    \n",
    "    plt.subplot(1, 2, 2)\n",
    "    if df[var].dtype == 'int64' or var == \"companyId\": # there are many companyId and better to see with line\n",
    "        #plot the mean salary for each category and shade the line between the (mean - std, mean + std)\n",
    "        mean = df.groupby(var)[\"salary\"].mean()\n",
    "        std = df.groupby(var)[\"salary\"].std()\n",
    "        mean.plot()\n",
    "        plt.fill_between(range(len(std.index)), mean.values-std.values, mean.values + std.values,alpha = 0.1)\n",
    "    else:\n",
    "        sns.boxplot(x= var, y=\"salary\", data= df)\n",
    "    \n",
    "    plt.xticks(rotation=45)\n",
    "    plt.ylabel('Salary')\n",
    "    plt.show()"
   ]
  },
  {
   "cell_type": "code",
   "execution_count": 100,
   "metadata": {},
   "outputs": [
    {
     "data": {
      "image/png": "[encoded data removed]",
      "text/plain": [
       "<Figure size 1008x288 with 2 Axes>"
      ]
     },
     "metadata": {
      "needs_background": "light"
     },
     "output_type": "display_data"
    }
   ],
   "source": [
    "plot_variables(CleanDataFrame3,\"companyId\")"
   ]
  },
  {
   "cell_type": "code",
   "execution_count": 101,
   "metadata": {},
   "outputs": [
    {
     "data": {
      "image/png": "[encoded data removed]",
      "text/plain": [
       "<Figure size 1008x288 with 2 Axes>"
      ]
     },
     "metadata": {
      "needs_background": "light"
     },
     "output_type": "display_data"
    }
   ],
   "source": [
    "plot_variables(CleanDataFrame3,\"jobType\")"
   ]
  },
  {
   "cell_type": "markdown",
   "metadata": {},
   "source": [
    "### Observation:\n",
    "- Data is distribution is\n",
    "- Salary vs Job type : jobtype is highly correlated with salary.\n",
    "- As jobtype or position is increase salary is increase"
   ]
  },
  {
   "cell_type": "code",
   "execution_count": 102,
   "metadata": {},
   "outputs": [
    {
     "data": {
      "image/png": "[encoded data removed]",
      "text/plain": [
       "<Figure size 1008x288 with 2 Axes>"
      ]
     },
     "metadata": {
      "needs_background": "light"
     },
     "output_type": "display_data"
    }
   ],
   "source": [
    "plot_variables(CleanDataFrame3,\"degree\")"
   ]
  },
  {
   "cell_type": "markdown",
   "metadata": {},
   "source": [
    "### Observation:\n",
    "- Salary vs Degree: Degree is correlated with salary.\n",
    "- As degree is high salary is also high.\n",
    "- But, for bachelors, masters and doctoral, median salary is same.\n",
    "- It's true after several years in organisation and getting promoted to higher position salary increase."
   ]
  },
  {
   "cell_type": "code",
   "execution_count": 103,
   "metadata": {},
   "outputs": [
    {
     "data": {
      "image/png": "[encoded data removed]",
      "text/plain": [
       "<Figure size 1008x288 with 2 Axes>"
      ]
     },
     "metadata": {
      "needs_background": "light"
     },
     "output_type": "display_data"
    }
   ],
   "source": [
    "plot_variables(CleanDataFrame3,\"major\")"
   ]
  },
  {
   "cell_type": "markdown",
   "metadata": {},
   "source": [
    "### Observation:\n",
    "- \n",
    "- Salary vs major: major is correlated with salary.\n",
    "- But, for business, engineering, CompsCi, maths salary is more.\n"
   ]
  },
  {
   "cell_type": "code",
   "execution_count": 104,
   "metadata": {},
   "outputs": [
    {
     "data": {
      "image/png": "[encoded data removed]",
      "text/plain": [
       "<Figure size 1008x288 with 2 Axes>"
      ]
     },
     "metadata": {
      "needs_background": "light"
     },
     "output_type": "display_data"
    }
   ],
   "source": [
    "plot_variables(CleanDataFrame3,\"industry\")"
   ]
  },
  {
   "cell_type": "markdown",
   "metadata": {},
   "source": [
    "### Observation:\n",
    "- Salary vs Industry: Industry is correlated with salary.\n",
    "- Maximum salary have in Finance and Oil industry."
   ]
  },
  {
   "cell_type": "code",
   "execution_count": 105,
   "metadata": {},
   "outputs": [
    {
     "data": {
      "image/png": "[encoded data removed]",
      "text/plain": [
       "<Figure size 1008x288 with 2 Axes>"
      ]
     },
     "metadata": {
      "needs_background": "light"
     },
     "output_type": "display_data"
    }
   ],
   "source": [
    "plot_variables(CleanDataFrame3,\"yearsExperience\")"
   ]
  },
  {
   "cell_type": "markdown",
   "metadata": {},
   "source": [
    "### Observation:\n",
    "- Salary vs Years Experience: yearsExperience is correlated with salary.\n",
    "- As years of experience is more the salary is more, data match with real life scenarios."
   ]
  },
  {
   "cell_type": "code",
   "execution_count": 106,
   "metadata": {},
   "outputs": [
    {
     "data": {
      "image/png": "[encoded data removed]",
      "text/plain": [
       "<Figure size 1008x288 with 2 Axes>"
      ]
     },
     "metadata": {
      "needs_background": "light"
     },
     "output_type": "display_data"
    }
   ],
   "source": [
    "plot_variables(CleanDataFrame3,\"milesFromMetropolis\")"
   ]
  },
  {
   "cell_type": "markdown",
   "metadata": {},
   "source": [
    "### Observation:\n",
    "- Data is distorted hence, unable to say its correlated or not.\n"
   ]
  },
  {
   "cell_type": "markdown",
   "metadata": {},
   "source": [
    "### Visualise the corelation between columns"
   ]
  },
  {
   "cell_type": "markdown",
   "metadata": {},
   "source": [
    "##### Functions used to display correlation between all columns"
   ]
  },
  {
   "cell_type": "code",
   "execution_count": 119,
   "metadata": {},
   "outputs": [],
   "source": [
    "def Encode_Data(dataframe):   \n",
    "    from sklearn.preprocessing import LabelEncoder\n",
    "    for col in dataframe.columns:        \n",
    "        if dataframe[col].dtype.name == \"category\" or \"object\":\n",
    "            le = LabelEncoder()\n",
    "            dataframe[col]=le.fit_transform(dataframe[col])\n",
    "    return dataframe\n",
    "\n",
    "\n",
    "def Display_Correlation(EncodedData):\n",
    "    plt.figure(figsize=(12,10))\n",
    "    corr = EncodedData.corr()\n",
    "    sns.heatmap(corr,\n",
    "                xticklabels=corr.columns,\n",
    "                yticklabels=corr.columns,cmap=\"Purples\",annot=True,vmin=-1, vmax=1,linewidths=1,linecolor='black')\n",
    "    plt.show()"
   ]
  },
  {
   "cell_type": "code",
   "execution_count": 120,
   "metadata": {},
   "outputs": [],
   "source": [
    "VisualData = CleanDataFrame3.copy()"
   ]
  },
  {
   "cell_type": "code",
   "execution_count": 121,
   "metadata": {},
   "outputs": [
    {
     "data": {
      "text/plain": [
       "jobId                    object\n",
       "companyId              category\n",
       "jobType                category\n",
       "degree                 category\n",
       "major                  category\n",
       "industry               category\n",
       "yearsExperience           int64\n",
       "milesFromMetropolis       int64\n",
       "salary                    int64\n",
       "dtype: object"
      ]
     },
     "execution_count": 121,
     "metadata": {},
     "output_type": "execute_result"
    }
   ],
   "source": [
    "VisualData.dtypes"
   ]
  },
  {
   "cell_type": "code",
   "execution_count": 122,
   "metadata": {},
   "outputs": [],
   "source": [
    "VisualData = VisualData.drop(['jobId'],axis=1)"
   ]
  },
  {
   "cell_type": "code",
   "execution_count": 123,
   "metadata": {},
   "outputs": [],
   "source": [
    "# Encode the data as categorical vairable need to encode into integer form\n",
    "EncodedData = Encode_Data(VisualData)"
   ]
  },
  {
   "cell_type": "code",
   "execution_count": 124,
   "metadata": {},
   "outputs": [
    {
     "data": {
      "text/html": [
       "<div>\n",
       "<style scoped>\n",
       "    .dataframe tbody tr th:only-of-type {\n",
       "        vertical-align: middle;\n",
       "    }\n",
       "\n",
       "    .dataframe tbody tr th {\n",
       "        vertical-align: top;\n",
       "    }\n",
       "\n",
       "    .dataframe thead th {\n",
       "        text-align: right;\n",
       "    }\n",
       "</style>\n",
       "<table border=\"1\" class=\"dataframe\">\n",
       "  <thead>\n",
       "    <tr style=\"text-align: right;\">\n",
       "      <th></th>\n",
       "      <th>companyId</th>\n",
       "      <th>jobType</th>\n",
       "      <th>degree</th>\n",
       "      <th>major</th>\n",
       "      <th>industry</th>\n",
       "      <th>yearsExperience</th>\n",
       "      <th>milesFromMetropolis</th>\n",
       "      <th>salary</th>\n",
       "    </tr>\n",
       "  </thead>\n",
       "  <tbody>\n",
       "    <tr>\n",
       "      <td>0</td>\n",
       "      <td>31</td>\n",
       "      <td>1</td>\n",
       "      <td>3</td>\n",
       "      <td>6</td>\n",
       "      <td>3</td>\n",
       "      <td>10</td>\n",
       "      <td>83</td>\n",
       "      <td>113</td>\n",
       "    </tr>\n",
       "    <tr>\n",
       "      <td>1</td>\n",
       "      <td>11</td>\n",
       "      <td>0</td>\n",
       "      <td>2</td>\n",
       "      <td>7</td>\n",
       "      <td>6</td>\n",
       "      <td>3</td>\n",
       "      <td>73</td>\n",
       "      <td>84</td>\n",
       "    </tr>\n",
       "    <tr>\n",
       "      <td>2</td>\n",
       "      <td>48</td>\n",
       "      <td>7</td>\n",
       "      <td>1</td>\n",
       "      <td>8</td>\n",
       "      <td>3</td>\n",
       "      <td>10</td>\n",
       "      <td>38</td>\n",
       "      <td>120</td>\n",
       "    </tr>\n",
       "    <tr>\n",
       "      <td>3</td>\n",
       "      <td>32</td>\n",
       "      <td>5</td>\n",
       "      <td>1</td>\n",
       "      <td>2</td>\n",
       "      <td>0</td>\n",
       "      <td>8</td>\n",
       "      <td>17</td>\n",
       "      <td>125</td>\n",
       "    </tr>\n",
       "    <tr>\n",
       "      <td>4</td>\n",
       "      <td>60</td>\n",
       "      <td>7</td>\n",
       "      <td>0</td>\n",
       "      <td>8</td>\n",
       "      <td>2</td>\n",
       "      <td>8</td>\n",
       "      <td>16</td>\n",
       "      <td>146</td>\n",
       "    </tr>\n",
       "  </tbody>\n",
       "</table>\n",
       "</div>"
      ],
      "text/plain": [
       "   companyId  jobType  degree  major  industry  yearsExperience  \\\n",
       "0         31        1       3      6         3               10   \n",
       "1         11        0       2      7         6                3   \n",
       "2         48        7       1      8         3               10   \n",
       "3         32        5       1      2         0                8   \n",
       "4         60        7       0      8         2                8   \n",
       "\n",
       "   milesFromMetropolis  salary  \n",
       "0                   83     113  \n",
       "1                   73      84  \n",
       "2                   38     120  \n",
       "3                   17     125  \n",
       "4                   16     146  "
      ]
     },
     "execution_count": 124,
     "metadata": {},
     "output_type": "execute_result"
    }
   ],
   "source": [
    "EncodedData.head()"
   ]
  },
  {
   "cell_type": "code",
   "execution_count": 127,
   "metadata": {},
   "outputs": [
    {
     "data": {
      "image/png": "[encoded data removed]",
      "text/plain": [
       "<Figure size 864x720 with 2 Axes>"
      ]
     },
     "metadata": {
      "needs_background": "light"
     },
     "output_type": "display_data"
    }
   ],
   "source": [
    "#Pass encoded data to visualise correlation between columns\n",
    "Display_Correlation(EncodedData)"
   ]
  },
  {
   "cell_type": "markdown",
   "metadata": {},
   "source": [
    "### Observation:\n",
    "- As there is an strong correlation between\n",
    "    - YearsExperience and salary\n",
    "    - Degree and major"
   ]
  },
  {
   "cell_type": "markdown",
   "metadata": {},
   "source": [
    "# Prepare DATA for machine learning modelling\n",
    "### ---- 5 Prepare Data ----\n",
    "- drop jobID, companyID features from datasets\n",
    "- Prepare Traget and IV features from datasets"
   ]
  },
  {
   "cell_type": "markdown",
   "metadata": {},
   "source": [
    "#### Functions used for preparing data"
   ]
  },
  {
   "cell_type": "code",
   "execution_count": 138,
   "metadata": {},
   "outputs": [],
   "source": [
    "def VisualCountCatVar(dataframe):\n",
    "    CatCol = dataframe.select_dtypes(include=['category']).columns.tolist()\n",
    "    fig = plt.figure(figsize=(14, 18))\n",
    "\n",
    "    for index, col in enumerate(CatCol):\n",
    "        print(\"------------\",col,\" value counts---------------------\")\n",
    "        print(dataframe[col].value_counts())\n",
    "        fig.add_subplot(3, 2, index+1)\n",
    "        dataframe[col].value_counts()[:20].plot(kind='bar', title=col)\n",
    "        plt.tight_layout()\n",
    "        \n",
    "    print(\"\\n\\n------------Number of categories in each columns---------------------\")\n",
    "    for i in CatCol:\n",
    "        a = dataframe[i].cat.categories\n",
    "        print(\"There are {} categories in {}\".format(len(a),i))"
   ]
  },
  {
   "cell_type": "code",
   "execution_count": 130,
   "metadata": {},
   "outputs": [],
   "source": [
    "CleanDataFrame4 = CleanDataFrame3.copy()\n",
    "TestDataFrame4 = TestDataFrame2.copy()"
   ]
  },
  {
   "cell_type": "code",
   "execution_count": 131,
   "metadata": {},
   "outputs": [
    {
     "name": "stdout",
     "output_type": "stream",
     "text": [
      "(999995, 9)\n",
      "(1000000, 8)\n"
     ]
    }
   ],
   "source": [
    "print(CleanDataFrame4.shape)\n",
    "print(TestDataFrame4.shape)"
   ]
  },
  {
   "cell_type": "markdown",
   "metadata": {},
   "source": [
    "#### Instructions\n",
    "- As we deleted 5 rows as salary for those rows are 0\n",
    "- Hence above count indicates data is good.\n",
    "- Now we first delete job_ID, Company_ID from both datasets"
   ]
  },
  {
   "cell_type": "code",
   "execution_count": 132,
   "metadata": {},
   "outputs": [],
   "source": [
    "CleanDataFrame4 = CleanDataFrame4.drop(['jobId','companyId'],axis=1)\n",
    "TestDataFrame4 = TestDataFrame4.drop(['jobId','companyId'],axis=1)"
   ]
  },
  {
   "cell_type": "code",
   "execution_count": 133,
   "metadata": {},
   "outputs": [
    {
     "name": "stdout",
     "output_type": "stream",
     "text": [
      "(999995, 7)\n",
      "(1000000, 6)\n"
     ]
    }
   ],
   "source": [
    "print(CleanDataFrame4.shape)\n",
    "print(TestDataFrame4.shape)"
   ]
  },
  {
   "cell_type": "markdown",
   "metadata": {},
   "source": [
    "##### Instructions\n",
    "- As columns count match\n",
    "- now lets check any duplicate values available in train dataset"
   ]
  },
  {
   "cell_type": "code",
   "execution_count": 134,
   "metadata": {},
   "outputs": [
    {
     "name": "stdout",
     "output_type": "stream",
     "text": [
      "(10810, 7)\n",
      "(295025, 6)\n"
     ]
    }
   ],
   "source": [
    "#Check duplicate values\n",
    "DuplicatedRowsTrain = CleanDataFrame4[CleanDataFrame4.duplicated()]\n",
    "DuplicatedRowsTest = TestDataFrame4[TestDataFrame4.duplicated()]\n",
    "print(DuplicatedRowsTrain.shape)\n",
    "print(DuplicatedRowsTest.shape)"
   ]
  },
  {
   "cell_type": "markdown",
   "metadata": {},
   "source": [
    "#### Actions on duplicate rows\n",
    "- As we are training model on train dataset.\n",
    "- We keep test dataset duplicate rows as it won't impact our predictive model.\n",
    "- Hence, we delete this duplicate rows from train dataset only as it help model to give good RMSE."
   ]
  },
  {
   "cell_type": "code",
   "execution_count": 136,
   "metadata": {},
   "outputs": [
    {
     "name": "stdout",
     "output_type": "stream",
     "text": [
      "(989185, 7)\n"
     ]
    }
   ],
   "source": [
    "CleanDataFrame5 = CleanDataFrame4.drop_duplicates()\n",
    "print(CleanDataFrame5.shape)"
   ]
  },
  {
   "cell_type": "code",
   "execution_count": 140,
   "metadata": {},
   "outputs": [],
   "source": [
    "TestDataFrame5 = TestDataFrame4.copy()"
   ]
  },
  {
   "cell_type": "markdown",
   "metadata": {},
   "source": [
    "## Handle Categorical Features"
   ]
  },
  {
   "cell_type": "code",
   "execution_count": 139,
   "metadata": {
    "scrolled": false
   },
   "outputs": [
    {
     "name": "stdout",
     "output_type": "stream",
     "text": [
      "------------ jobType  value counts---------------------\n",
      "SENIOR            125886\n",
      "VICE_PRESIDENT    125234\n",
      "MANAGER           125120\n",
      "CTO               125045\n",
      "JANITOR           124971\n",
      "CEO               124778\n",
      "JUNIOR            124592\n",
      "CFO               124369\n",
      "Name: jobType, dtype: int64\n",
      "------------ degree  value counts---------------------\n",
      "HIGH_SCHOOL    236975\n",
      "NONE           236853\n",
      "BACHELORS      175495\n",
      "DOCTORAL       175362\n",
      "MASTERS        175310\n",
      "Name: degree, dtype: int64\n",
      "------------ major  value counts---------------------\n",
      "NONE           532353\n",
      "CHEMISTRY       58875\n",
      "LITERATURE      58684\n",
      "ENGINEERING     58594\n",
      "BUSINESS        58518\n",
      "PHYSICS         58410\n",
      "COMPSCI         58382\n",
      "BIOLOGY         58379\n",
      "MATH            57800\n",
      "Name: major, dtype: int64\n",
      "------------ industry  value counts---------------------\n",
      "WEB          143205\n",
      "AUTO         142941\n",
      "FINANCE      142866\n",
      "EDUCATION    142819\n",
      "OIL          142770\n",
      "HEALTH       142755\n",
      "SERVICE      142639\n",
      "Name: industry, dtype: int64\n",
      "\n",
      "\n",
      "------------Number of categories in each columns---------------------\n",
      "There are 8 categories in jobType\n",
      "There are 5 categories in degree\n",
      "There are 9 categories in major\n",
      "There are 7 categories in industry\n"
     ]
    },
    {
     "data": {
      "image/png": "[encoded data removed]",
      "text/plain": [
       "<Figure size 1008x1296 with 4 Axes>"
      ]
     },
     "metadata": {
      "needs_background": "light"
     },
     "output_type": "display_data"
    }
   ],
   "source": [
    "VisualCountCatVar(CleanDataFrame4)"
   ]
  },
  {
   "cell_type": "markdown",
   "metadata": {},
   "source": [
    "## Analysis\n",
    "##### From above results we can infer below information for TRAIN dataset:\n",
    "- There are 4 categorical column and each have \n",
    "    - 8 categories in jobType\n",
    "    - 5 categories in degree\n",
    "    - 9 categories in major\n",
    "    - 7 categories in industry\n",
    "- It means total 29 dummies will be created\n",
    "- But we use one hot encoding and remove one category from each category to reduce 4 more features\n",
    "- Hence, total 25 new features(dummies) will be created.\n",
    "- Already there are 6 column out of which 4 categorical and 3 integer\n",
    "   - 3 integer columns + 25 dummies\n",
    "   - Hence, total 28 features will be there.\n",
    "   \n",
    "##### From above results we can infer below information for TEST dataset:\n",
    "- There are 4 categorical column and each have \n",
    "    - 8 categories in jobType\n",
    "    - 5 categories in degree\n",
    "    - 9 categories in major\n",
    "    - 7 categories in industry\n",
    "- It means total 29 dummies will be created\n",
    "- But we use one hot encoding and remove one category from each category to reduce 4 more features\n",
    "- Hence, total 25 new features(dummies) will be created.\n",
    "- Already there are 6 column out of which 4 categorical and 2 integer\n",
    "   - 2 integer columns + 25 dummies\n",
    "   - Hence, total 27 features will be there."
   ]
  },
  {
   "cell_type": "markdown",
   "metadata": {},
   "source": [
    "## One hot encoding"
   ]
  },
  {
   "cell_type": "code",
   "execution_count": 141,
   "metadata": {},
   "outputs": [],
   "source": [
    "CleanDataFrame6 = pd.get_dummies(CleanDataFrame5, drop_first=True)\n",
    "TestDataFrame6 = pd.get_dummies(TestDataFrame5, drop_first=True)"
   ]
  },
  {
   "cell_type": "code",
   "execution_count": 144,
   "metadata": {},
   "outputs": [
    {
     "name": "stdout",
     "output_type": "stream",
     "text": [
      "\n",
      " Train Dataset (989185, 28)\n",
      "Index(['yearsExperience', 'milesFromMetropolis', 'salary', 'jobType_JUNIOR',\n",
      "       'jobType_SENIOR', 'jobType_MANAGER', 'jobType_VICE_PRESIDENT',\n",
      "       'jobType_CFO', 'jobType_CTO', 'jobType_CEO', 'degree_HIGH_SCHOOL',\n",
      "       'degree_BACHELORS', 'degree_MASTERS', 'degree_DOCTORAL',\n",
      "       'major_LITERATURE', 'major_BIOLOGY', 'major_CHEMISTRY', 'major_PHYSICS',\n",
      "       'major_COMPSCI', 'major_MATH', 'major_BUSINESS', 'major_ENGINEERING',\n",
      "       'industry_SERVICE', 'industry_AUTO', 'industry_HEALTH', 'industry_WEB',\n",
      "       'industry_FINANCE', 'industry_OIL'],\n",
      "      dtype='object')\n",
      "\n",
      " Test Dataset (1000000, 27)\n",
      "Index(['yearsExperience', 'milesFromMetropolis', 'jobType_CFO', 'jobType_CTO',\n",
      "       'jobType_JANITOR', 'jobType_JUNIOR', 'jobType_MANAGER',\n",
      "       'jobType_SENIOR', 'jobType_VICE_PRESIDENT', 'degree_DOCTORAL',\n",
      "       'degree_HIGH_SCHOOL', 'degree_MASTERS', 'degree_NONE', 'major_BUSINESS',\n",
      "       'major_CHEMISTRY', 'major_COMPSCI', 'major_ENGINEERING',\n",
      "       'major_LITERATURE', 'major_MATH', 'major_NONE', 'major_PHYSICS',\n",
      "       'industry_EDUCATION', 'industry_FINANCE', 'industry_HEALTH',\n",
      "       'industry_OIL', 'industry_SERVICE', 'industry_WEB'],\n",
      "      dtype='object')\n"
     ]
    }
   ],
   "source": [
    "print(\"\\n Train Dataset\",CleanDataFrame6.shape)\n",
    "print(CleanDataFrame6.columns)\n",
    "print(\"\\n Test Dataset\", TestDataFrame6.shape)\n",
    "print(TestDataFrame6.columns)"
   ]
  },
  {
   "cell_type": "markdown",
   "metadata": {},
   "source": [
    "# ------ Model building-----"
   ]
  },
  {
   "cell_type": "markdown",
   "metadata": {},
   "source": [
    "### ---- 6 Establish a baseline ----"
   ]
  },
  {
   "cell_type": "code",
   "execution_count": 57,
   "metadata": {},
   "outputs": [],
   "source": [
    "#select a reasonable metric (MSE in this case)\n",
    "#create an extremely simple model and measure its efficacy\n",
    "#e.g. use \"average salary\" for each industry as your model and then measure MSE\n",
    "#during 5-fold cross-validation"
   ]
  },
  {
   "cell_type": "markdown",
   "metadata": {},
   "source": [
    "#### BaseModel\n",
    "- As XGboost is very popular for regression problem\n",
    "- Hence, i am taking XGBoost as base model\n",
    "- Perform 5-fold cross-validation to check RMSE."
   ]
  },
  {
   "cell_type": "code",
   "execution_count": 145,
   "metadata": {},
   "outputs": [
    {
     "name": "stdout",
     "output_type": "stream",
     "text": [
      "TrainIV :  (989185, 27)\n",
      "TrainDV :  (989185,)\n"
     ]
    }
   ],
   "source": [
    "# Create independent and dependent variables in train dataset\n",
    "TrainIV = CleanDataFrame6.drop(['salary'], axis=1)\n",
    "TrainDV = CleanDataFrame6['salary']\n",
    "print(\"TrainIV : \",TrainIV.shape)\n",
    "print(\"TrainDV : \",TrainDV.shape)"
   ]
  },
  {
   "cell_type": "code",
   "execution_count": 153,
   "metadata": {},
   "outputs": [],
   "source": [
    "from sklearn.model_selection import train_test_split, cross_validate \n",
    "from sklearn.metrics import make_scorer,accuracy_score, confusion_matrix\n",
    "from sklearn.metrics import mean_squared_error\n",
    "import xgboost"
   ]
  },
  {
   "cell_type": "code",
   "execution_count": 154,
   "metadata": {},
   "outputs": [],
   "source": [
    "#Split dataset\n",
    "X_BaseModelTrain, X_BaseModelTest, Y_BaseModelTrain, Y_BaseModelTest = train_test_split(TrainIV,TrainDV, test_size=0.30, random_state = 0)\n"
   ]
  },
  {
   "cell_type": "code",
   "execution_count": 155,
   "metadata": {},
   "outputs": [],
   "source": [
    "#Create XGBoost model and fit with train dataset\n",
    "XGBoostBaseModel = xgboost.XGBRegressor()"
   ]
  },
  {
   "cell_type": "code",
   "execution_count": 156,
   "metadata": {},
   "outputs": [
    {
     "name": "stdout",
     "output_type": "stream",
     "text": [
      "[12:43:30] WARNING: src/objective/regression_obj.cu:152: reg:linear is now deprecated in favor of reg:squarederror.\n",
      "Mean square error for Base model is :  431.0294886568374\n"
     ]
    }
   ],
   "source": [
    "XGBoostBaseModel.fit(X_BaseModelTrain, Y_BaseModelTrain)\n",
    "y_BaseModelPred= XGBoostBaseModel.predict(X_BaseModelTest)\n",
    "#cv_results = cross_validate(clf, X_BaseModelTrain,Y_BaseModelTrain, cv=10)\n",
    "BaseModelRMSE = mean_squared_error(Y_BaseModelTest, y_BaseModelPred)\n",
    "\n",
    "print(\"Mean square error for Base model is : \",BaseModelRMSE)"
   ]
  },
  {
   "cell_type": "code",
   "execution_count": 157,
   "metadata": {},
   "outputs": [
    {
     "name": "stdout",
     "output_type": "stream",
     "text": [
      "[12:45:34] WARNING: src/objective/regression_obj.cu:152: reg:linear is now deprecated in favor of reg:squarederror.\n",
      "[12:46:54] WARNING: src/objective/regression_obj.cu:152: reg:linear is now deprecated in favor of reg:squarederror.\n",
      "[12:48:14] WARNING: src/objective/regression_obj.cu:152: reg:linear is now deprecated in favor of reg:squarederror.\n",
      "[12:49:34] WARNING: src/objective/regression_obj.cu:152: reg:linear is now deprecated in favor of reg:squarederror.\n",
      "[12:50:54] WARNING: src/objective/regression_obj.cu:152: reg:linear is now deprecated in favor of reg:squarederror.\n",
      "Mean square error for model  XGBRegressor() 431.1999994680333\n"
     ]
    }
   ],
   "source": [
    "scores = cross_validate(XGBoostBaseModel, X_BaseModelTrain,Y_BaseModelTrain, cv=5,\n",
    "                        scoring=('r2', 'neg_mean_squared_error'),\n",
    "                        return_train_score=True)\n",
    "NegRMSE = -1.0*np.mean(scores['test_neg_mean_squared_error'])\n",
    "print(\"Mean square error for model \",XGBoostBaseModel, NegRMSE)"
   ]
  },
  {
   "cell_type": "markdown",
   "metadata": {},
   "source": [
    "# Part 3 - DEVELOP"
   ]
  },
  {
   "cell_type": "markdown",
   "metadata": {},
   "source": [
    "### ---- 7. Try some other alogrithms ----\n",
    "\n",
    "- LinearRegression\n",
    "- RandomForestRegressor\n",
    "- Lasso\n",
    "- GaussianNB\n",
    "- DecisionTreeRegressor\n",
    "- GradientBoostingRegressor\n",
    "\n",
    "#### we check basic RMSE score for each model and select best scoring model for hyper parameter tunning"
   ]
  },
  {
   "cell_type": "code",
   "execution_count": 158,
   "metadata": {},
   "outputs": [],
   "source": [
    "from sklearn.linear_model import LinearRegression\n",
    "from sklearn.ensemble import RandomForestRegressor \n",
    "from sklearn import linear_model\n",
    "from sklearn.naive_bayes import GaussianNB\n",
    "from sklearn.tree import DecisionTreeRegressor\n",
    "from sklearn.ensemble import GradientBoostingRegressor"
   ]
  },
  {
   "cell_type": "code",
   "execution_count": 159,
   "metadata": {},
   "outputs": [],
   "source": [
    "RegressorModels = []\n",
    "num_procs = 4\n",
    "\n",
    "model1 = LinearRegression()\n",
    "RegressorModels.append(model1)\n",
    "\n",
    "model2 = RandomForestRegressor(n_estimators = 100, n_jobs = num_procs, max_depth = 25, min_samples_split = 60) \n",
    "RegressorModels.append(model2)\n",
    "\n",
    "model3 = linear_model.Lasso(alpha=0.1)\n",
    "RegressorModels.append(model3)\n",
    "\n",
    "model4 = GaussianNB()\n",
    "RegressorModels.append(model4)\n",
    "\n",
    "model5 = DecisionTreeRegressor(max_depth = 15)\n",
    "RegressorModels.append(model5)\n",
    "\n",
    "model6 = GradientBoostingRegressor(n_estimators = 50, max_depth = 10) \n",
    "RegressorModels.append(model6)"
   ]
  },
  {
   "cell_type": "code",
   "execution_count": 60,
   "metadata": {},
   "outputs": [],
   "source": [
    "#Import necesseary libraries\n",
    "from sklearn.model_selection import train_test_split, cross_validate \n",
    "from sklearn.metrics import make_scorer,accuracy_score, confusion_matrix\n",
    "\n",
    "from sklearn.linear_model import LinearRegression\n",
    "from sklearn.ensemble import RandomForestRegressor \n",
    "from sklearn import linear_model\n",
    "from sklearn.naive_bayes import GaussianNB\n",
    "from sklearn.tree import DecisionTreeRegressor\n",
    "from sklearn.ensemble import GradientBoostingRegressor\n",
    "\n"
   ]
  },
  {
   "cell_type": "code",
   "execution_count": 160,
   "metadata": {},
   "outputs": [
    {
     "name": "stdout",
     "output_type": "stream",
     "text": [
      "\n",
      "\n",
      "------------- LinearRegression() -----------------\n",
      "\n",
      "Mean square error for  LinearRegression() is :  386.859155373323\n",
      "\n",
      "\n",
      "------------- RandomForestRegressor(max_depth=25, min_samples_split=60, n_jobs=4) -----------------\n",
      "\n",
      "Mean square error for  RandomForestRegressor(max_depth=25, min_samples_split=60, n_jobs=4) is :  374.888170279677\n",
      "\n",
      "\n",
      "------------- Lasso(alpha=0.1) -----------------\n",
      "\n",
      "Mean square error for  Lasso(alpha=0.1) is :  397.29693372818497\n",
      "\n",
      "\n",
      "------------- GaussianNB() -----------------\n",
      "\n",
      "Mean square error for  GaussianNB() is :  9863.77303912979\n",
      "\n",
      "\n",
      "------------- DecisionTreeRegressor(max_depth=15) -----------------\n",
      "\n",
      "Mean square error for  DecisionTreeRegressor(max_depth=15) is :  439.9962944024124\n",
      "\n",
      "\n",
      "------------- GradientBoostingRegressor(max_depth=10, n_estimators=50) -----------------\n",
      "\n",
      "Mean square error for  GradientBoostingRegressor(max_depth=10, n_estimators=50) is :  366.32870795060876\n"
     ]
    }
   ],
   "source": [
    "for RegressorModelName in RegressorModels:\n",
    "    \n",
    "    print(\"\\n\\n-------------\",RegressorModelName,\"-----------------\\n\")\n",
    "    \n",
    "    RegressorModelName.fit(X_BaseModelTrain, Y_BaseModelTrain)\n",
    "    y_BaseModelPred= RegressorModelName.predict(X_BaseModelTest)\n",
    "    \n",
    "    ModelRMSE = mean_squared_error(Y_BaseModelTest, y_BaseModelPred)\n",
    "\n",
    "    print(\"Mean square error for \",RegressorModelName,\"is : \",ModelRMSE)\n"
   ]
  },
  {
   "cell_type": "markdown",
   "metadata": {},
   "source": [
    "##### Base model XGBoost RMSE:   431.200\n",
    "\n",
    "### Other Models RMSE\n",
    "- LinearRegression :         386.860\n",
    "- RandomForestRegressor:     374.888\n",
    "- Lasso:                     397.296\n",
    "- GaussianNB:                9863.773\n",
    "- DecisionTreeRegressor:     439.996\n",
    "- GradientBoostingRegressor: 366.328\n",
    "\n",
    "#### Here gradient boosting regressor give good performance as compare to others"
   ]
  },
  {
   "cell_type": "markdown",
   "metadata": {},
   "source": [
    "### ------- 8. Select best model  & Hyper parameter optimisation ----------"
   ]
  },
  {
   "cell_type": "code",
   "execution_count": 162,
   "metadata": {},
   "outputs": [],
   "source": [
    "from sklearn.model_selection import cross_validate  #Additional scklearn functions\n",
    "from sklearn.model_selection import learning_curve, GridSearchCV, RandomizedSearchCV   #Perforing grid search\n",
    "\n",
    "Regressor = GradientBoostingRegressor()"
   ]
  },
  {
   "cell_type": "code",
   "execution_count": 163,
   "metadata": {},
   "outputs": [],
   "source": [
    "#Randomized search cv 1\n",
    "n_estimator = [100,500,900,1100,1500]\n",
    "MaxDepth = [2,3,5,10,15]\n",
    "LearningRate = [0.05,0.1,0.15,0.20]\n",
    "MaxFeatures = ['sqrt','log2']\n",
    "SubSample = [.5,.75,1]\n",
    "MinSampleSplit = 500\n",
    "MinSampleLeaf = 50\n",
    "RandomState = 10\n",
    "CrossValidation = 5\n",
    "NumberOfJobs = 4\n",
    "\n",
    "#define hyper parameter grid for randomise serach cv\n",
    "hyperparameter_Grid = {'n_estimators':n_estimator,\n",
    "                     'learning_rate':LearningRate,\n",
    "                     'max_depth':MaxDepth,\n",
    "                     'subsample':SubSample,\n",
    "                    'max_features': MaxFeatures,\n",
    "                    \n",
    "}"
   ]
  },
  {
   "cell_type": "code",
   "execution_count": 164,
   "metadata": {},
   "outputs": [],
   "source": [
    "random_cv = RandomizedSearchCV(estimator = Regressor,\n",
    "                               param_distributions=hyperparameter_Grid,\n",
    "                               cv = 5, n_iter=5,\n",
    "                               scoring = 'neg_mean_absolute_error',\n",
    "                               n_jobs=4,\n",
    "                               verbose=5,\n",
    "                               return_train_score=True,\n",
    "                               random_state=42\n",
    "                              )"
   ]
  },
  {
   "cell_type": "code",
   "execution_count": 165,
   "metadata": {},
   "outputs": [
    {
     "name": "stdout",
     "output_type": "stream",
     "text": [
      "Fitting 5 folds for each of 5 candidates, totalling 25 fits\n"
     ]
    },
    {
     "name": "stderr",
     "output_type": "stream",
     "text": [
      "[Parallel(n_jobs=4)]: Using backend LokyBackend with 4 concurrent workers.\n",
      "[Parallel(n_jobs=4)]: Done  10 tasks      | elapsed: 14.0min\n",
      "[Parallel(n_jobs=4)]: Done  25 out of  25 | elapsed: 29.2min finished\n"
     ]
    },
    {
     "data": {
      "text/plain": [
       "RandomizedSearchCV(cv=5, estimator=GradientBoostingRegressor(), n_iter=5,\n",
       "                   n_jobs=4,\n",
       "                   param_distributions={'learning_rate': [0.05, 0.1, 0.15, 0.2],\n",
       "                                        'max_depth': [2, 3, 5, 10, 15],\n",
       "                                        'max_features': ['sqrt', 'log2'],\n",
       "                                        'n_estimators': [100, 500, 900, 1100,\n",
       "                                                         1500],\n",
       "                                        'subsample': [0.5, 0.75, 1]},\n",
       "                   random_state=42, return_train_score=True,\n",
       "                   scoring='neg_mean_absolute_error', verbose=5)"
      ]
     },
     "execution_count": 165,
     "metadata": {},
     "output_type": "execute_result"
    }
   ],
   "source": [
    "random_cv.fit(X_BaseModelTrain, Y_BaseModelTrain)"
   ]
  },
  {
   "cell_type": "code",
   "execution_count": 166,
   "metadata": {},
   "outputs": [
    {
     "data": {
      "text/plain": [
       "GradientBoostingRegressor(learning_rate=0.05, max_depth=5, max_features='sqrt',\n",
       "                          n_estimators=1100, subsample=1)"
      ]
     },
     "execution_count": 166,
     "metadata": {},
     "output_type": "execute_result"
    }
   ],
   "source": [
    "random_cv.best_estimator_"
   ]
  },
  {
   "cell_type": "code",
   "execution_count": 167,
   "metadata": {},
   "outputs": [],
   "source": [
    "RandomizeParamModel = GradientBoostingRegressor(learning_rate=0.05, max_depth=5, max_features='sqrt',\n",
    "                          n_estimators=1100, subsample=1)"
   ]
  },
  {
   "cell_type": "code",
   "execution_count": 168,
   "metadata": {},
   "outputs": [
    {
     "data": {
      "text/plain": [
       "GradientBoostingRegressor(learning_rate=0.05, max_depth=5, max_features='sqrt',\n",
       "                          n_estimators=1100, subsample=1)"
      ]
     },
     "execution_count": 168,
     "metadata": {},
     "output_type": "execute_result"
    }
   ],
   "source": [
    "RandomizeParamModel.fit(X_BaseModelTrain, Y_BaseModelTrain)"
   ]
  },
  {
   "cell_type": "code",
   "execution_count": 169,
   "metadata": {},
   "outputs": [],
   "source": [
    "y_RandomizeParamModelPrediction = RandomizeParamModel.predict(X_BaseModelTest)"
   ]
  },
  {
   "cell_type": "code",
   "execution_count": 170,
   "metadata": {},
   "outputs": [
    {
     "name": "stdout",
     "output_type": "stream",
     "text": [
      "Mean square error for model  358.9652777303112\n"
     ]
    }
   ],
   "source": [
    "from sklearn.metrics import mean_squared_error\n",
    "\n",
    "GradientBosstingRMSE = mean_squared_error(Y_BaseModelTest, y_RandomizeParamModelPrediction)\n",
    "\n",
    "print(\"Mean square error for model \",GradientBosstingRMSE)"
   ]
  },
  {
   "cell_type": "code",
   "execution_count": 171,
   "metadata": {},
   "outputs": [],
   "source": [
    "import pickle\n",
    "filename = 'RandomizeParamModel.pkl'\n",
    "pickle.dump(RandomizeParamModel,open(filename,'wb'))"
   ]
  },
  {
   "cell_type": "code",
   "execution_count": 172,
   "metadata": {},
   "outputs": [],
   "source": [
    "#giving this randomised serch cv parameters to grid search cv and lets check what he predict"
   ]
  },
  {
   "cell_type": "code",
   "execution_count": 173,
   "metadata": {},
   "outputs": [
    {
     "name": "stdout",
     "output_type": "stream",
     "text": [
      "{'max_depth': [5], 'max_features': ['sqrt'], 'subsample': [1], 'learning_rate': [0.05], 'n_estimators': [900, 1000, 1100, 1200, 1300]}\n"
     ]
    }
   ],
   "source": [
    "param_grid = {\n",
    "    \n",
    "    'max_depth': [random_cv.best_params_['max_depth']],\n",
    "    'max_features': [random_cv.best_params_['max_features']],\n",
    "    'subsample': [random_cv.best_params_['subsample']],\n",
    "    'learning_rate': [random_cv.best_params_['learning_rate']],\n",
    "    #i take 3 values and give additonal values and ask to check with some other values too along with best parameters\n",
    "    'n_estimators': [random_cv.best_params_['n_estimators'] - 200, random_cv.best_params_['n_estimators'] - 100, \n",
    "                     random_cv.best_params_['n_estimators'], \n",
    "                     random_cv.best_params_['n_estimators'] + 100, random_cv.best_params_['n_estimators'] + 200]\n",
    "}\n",
    "\n",
    "print(param_grid)"
   ]
  },
  {
   "cell_type": "code",
   "execution_count": 175,
   "metadata": {},
   "outputs": [
    {
     "name": "stdout",
     "output_type": "stream",
     "text": [
      "Fitting 5 folds for each of 5 candidates, totalling 25 fits\n"
     ]
    },
    {
     "name": "stderr",
     "output_type": "stream",
     "text": [
      "[Parallel(n_jobs=-1)]: Using backend LokyBackend with 8 concurrent workers.\n",
      "[Parallel(n_jobs=-1)]: Done  23 out of  25 | elapsed: 32.7min remaining:  2.8min\n",
      "[Parallel(n_jobs=-1)]: Done  25 out of  25 | elapsed: 36.4min finished\n"
     ]
    },
    {
     "data": {
      "text/plain": [
       "GridSearchCV(cv=5, estimator=GradientBoostingRegressor(), n_jobs=-1,\n",
       "             param_grid={'learning_rate': [0.05], 'max_depth': [5],\n",
       "                         'max_features': ['sqrt'],\n",
       "                         'n_estimators': [900, 1000, 1100, 1200, 1300],\n",
       "                         'subsample': [1]},\n",
       "             verbose=2)"
      ]
     },
     "execution_count": 175,
     "metadata": {},
     "output_type": "execute_result"
    }
   ],
   "source": [
    "#### Fit the grid_search to the data\n",
    "#It will not have option to set the iteration\n",
    "#But it will work.. as number of parameters like here 1*1*1*3*5*5 = 75 iteration\n",
    "Regressor2=GradientBoostingRegressor()\n",
    "grid_search=GridSearchCV(estimator=Regressor2,param_grid=param_grid,cv=5,n_jobs=-1,verbose=2)\n",
    "grid_search.fit(X_BaseModelTrain, Y_BaseModelTrain)\n"
   ]
  },
  {
   "cell_type": "code",
   "execution_count": 176,
   "metadata": {},
   "outputs": [],
   "source": [
    "y_GridCVParamModelPrediction = grid_search.predict(X_BaseModelTest)"
   ]
  },
  {
   "cell_type": "code",
   "execution_count": 177,
   "metadata": {},
   "outputs": [
    {
     "name": "stdout",
     "output_type": "stream",
     "text": [
      "Mean square error for model  358.5399282686439\n"
     ]
    }
   ],
   "source": [
    "from sklearn.metrics import mean_squared_error\n",
    "\n",
    "GradientBosstingGridRMSE = mean_squared_error(Y_BaseModelTest, y_GridCVParamModelPrediction)\n",
    "\n",
    "print(\"Mean square error for model \",GradientBosstingGridRMSE)"
   ]
  },
  {
   "cell_type": "code",
   "execution_count": 178,
   "metadata": {},
   "outputs": [],
   "source": [
    "import pickle\n",
    "filename = 'GridSearchCVModel.pkl'\n",
    "pickle.dump(grid_search,open(filename,'wb'))"
   ]
  },
  {
   "cell_type": "markdown",
   "metadata": {},
   "source": [
    "## Part 4 - DEPLOY"
   ]
  },
  {
   "cell_type": "markdown",
   "metadata": {},
   "source": [
    "### ---- 9 Automate pipeline ----"
   ]
  },
  {
   "cell_type": "code",
   "execution_count": null,
   "metadata": {},
   "outputs": [],
   "source": [
    "#write script that trains model on entire training set, saves model to disk,\n",
    "#and scores the \"test\" dataset"
   ]
  },
  {
   "cell_type": "code",
   "execution_count": 179,
   "metadata": {},
   "outputs": [],
   "source": [
    "#Export model in pickle file with GridSearchCV parameter giving best RMSE score.\n",
    "import pickle\n",
    "filename = 'BestModelSalaryPrediction.pkl'\n",
    "pickle.dump(grid_search,open(filename,'wb'))"
   ]
  },
  {
   "cell_type": "code",
   "execution_count": 180,
   "metadata": {},
   "outputs": [],
   "source": [
    "PredictionTestDataSet = grid_search.predict(TestDataFrame6)"
   ]
  },
  {
   "cell_type": "code",
   "execution_count": 185,
   "metadata": {},
   "outputs": [
    {
     "data": {
      "text/html": [
       "<div>\n",
       "<style scoped>\n",
       "    .dataframe tbody tr th:only-of-type {\n",
       "        vertical-align: middle;\n",
       "    }\n",
       "\n",
       "    .dataframe tbody tr th {\n",
       "        vertical-align: top;\n",
       "    }\n",
       "\n",
       "    .dataframe thead th {\n",
       "        text-align: right;\n",
       "    }\n",
       "</style>\n",
       "<table border=\"1\" class=\"dataframe\">\n",
       "  <thead>\n",
       "    <tr style=\"text-align: right;\">\n",
       "      <th></th>\n",
       "      <th>jobId</th>\n",
       "      <th>companyId</th>\n",
       "      <th>jobType</th>\n",
       "      <th>degree</th>\n",
       "      <th>major</th>\n",
       "      <th>industry</th>\n",
       "      <th>yearsExperience</th>\n",
       "      <th>milesFromMetropolis</th>\n",
       "    </tr>\n",
       "  </thead>\n",
       "  <tbody>\n",
       "    <tr>\n",
       "      <td>0</td>\n",
       "      <td>JOB1362685407687</td>\n",
       "      <td>COMP33</td>\n",
       "      <td>MANAGER</td>\n",
       "      <td>HIGH_SCHOOL</td>\n",
       "      <td>NONE</td>\n",
       "      <td>HEALTH</td>\n",
       "      <td>22</td>\n",
       "      <td>73</td>\n",
       "    </tr>\n",
       "    <tr>\n",
       "      <td>1</td>\n",
       "      <td>JOB1362685407688</td>\n",
       "      <td>COMP13</td>\n",
       "      <td>JUNIOR</td>\n",
       "      <td>NONE</td>\n",
       "      <td>NONE</td>\n",
       "      <td>AUTO</td>\n",
       "      <td>20</td>\n",
       "      <td>47</td>\n",
       "    </tr>\n",
       "    <tr>\n",
       "      <td>2</td>\n",
       "      <td>JOB1362685407689</td>\n",
       "      <td>COMP10</td>\n",
       "      <td>CTO</td>\n",
       "      <td>MASTERS</td>\n",
       "      <td>BIOLOGY</td>\n",
       "      <td>HEALTH</td>\n",
       "      <td>17</td>\n",
       "      <td>9</td>\n",
       "    </tr>\n",
       "    <tr>\n",
       "      <td>3</td>\n",
       "      <td>JOB1362685407690</td>\n",
       "      <td>COMP21</td>\n",
       "      <td>MANAGER</td>\n",
       "      <td>HIGH_SCHOOL</td>\n",
       "      <td>NONE</td>\n",
       "      <td>OIL</td>\n",
       "      <td>14</td>\n",
       "      <td>96</td>\n",
       "    </tr>\n",
       "    <tr>\n",
       "      <td>4</td>\n",
       "      <td>JOB1362685407691</td>\n",
       "      <td>COMP36</td>\n",
       "      <td>JUNIOR</td>\n",
       "      <td>DOCTORAL</td>\n",
       "      <td>BIOLOGY</td>\n",
       "      <td>OIL</td>\n",
       "      <td>10</td>\n",
       "      <td>44</td>\n",
       "    </tr>\n",
       "  </tbody>\n",
       "</table>\n",
       "</div>"
      ],
      "text/plain": [
       "              jobId companyId  jobType       degree    major industry  \\\n",
       "0  JOB1362685407687    COMP33  MANAGER  HIGH_SCHOOL     NONE   HEALTH   \n",
       "1  JOB1362685407688    COMP13   JUNIOR         NONE     NONE     AUTO   \n",
       "2  JOB1362685407689    COMP10      CTO      MASTERS  BIOLOGY   HEALTH   \n",
       "3  JOB1362685407690    COMP21  MANAGER  HIGH_SCHOOL     NONE      OIL   \n",
       "4  JOB1362685407691    COMP36   JUNIOR     DOCTORAL  BIOLOGY      OIL   \n",
       "\n",
       "   yearsExperience  milesFromMetropolis  \n",
       "0               22                   73  \n",
       "1               20                   47  \n",
       "2               17                    9  \n",
       "3               14                   96  \n",
       "4               10                   44  "
      ]
     },
     "execution_count": 185,
     "metadata": {},
     "output_type": "execute_result"
    }
   ],
   "source": [
    "TestDataFrame1.head()"
   ]
  },
  {
   "cell_type": "code",
   "execution_count": 182,
   "metadata": {},
   "outputs": [
    {
     "data": {
      "text/plain": [
       "array([142.65335111, 140.95108187, 135.19303167, ..., 105.13272017,\n",
       "       114.90326135, 156.44893406])"
      ]
     },
     "execution_count": 182,
     "metadata": {},
     "output_type": "execute_result"
    }
   ],
   "source": [
    "PredictionTestDataSet"
   ]
  },
  {
   "cell_type": "code",
   "execution_count": 192,
   "metadata": {},
   "outputs": [],
   "source": [
    "PredictionDataFrame = TestDataFrame1.copy()"
   ]
  },
  {
   "cell_type": "code",
   "execution_count": 193,
   "metadata": {},
   "outputs": [],
   "source": [
    "PredictionDataFrame['Predictions'] = PredictionTestDataSet"
   ]
  },
  {
   "cell_type": "code",
   "execution_count": 194,
   "metadata": {},
   "outputs": [
    {
     "data": {
      "text/html": [
       "<div>\n",
       "<style scoped>\n",
       "    .dataframe tbody tr th:only-of-type {\n",
       "        vertical-align: middle;\n",
       "    }\n",
       "\n",
       "    .dataframe tbody tr th {\n",
       "        vertical-align: top;\n",
       "    }\n",
       "\n",
       "    .dataframe thead th {\n",
       "        text-align: right;\n",
       "    }\n",
       "</style>\n",
       "<table border=\"1\" class=\"dataframe\">\n",
       "  <thead>\n",
       "    <tr style=\"text-align: right;\">\n",
       "      <th></th>\n",
       "      <th>jobId</th>\n",
       "      <th>companyId</th>\n",
       "      <th>jobType</th>\n",
       "      <th>degree</th>\n",
       "      <th>major</th>\n",
       "      <th>industry</th>\n",
       "      <th>yearsExperience</th>\n",
       "      <th>milesFromMetropolis</th>\n",
       "      <th>Predictions</th>\n",
       "    </tr>\n",
       "  </thead>\n",
       "  <tbody>\n",
       "    <tr>\n",
       "      <td>0</td>\n",
       "      <td>JOB1362685407687</td>\n",
       "      <td>COMP33</td>\n",
       "      <td>MANAGER</td>\n",
       "      <td>HIGH_SCHOOL</td>\n",
       "      <td>NONE</td>\n",
       "      <td>HEALTH</td>\n",
       "      <td>22</td>\n",
       "      <td>73</td>\n",
       "      <td>142.653351</td>\n",
       "    </tr>\n",
       "    <tr>\n",
       "      <td>1</td>\n",
       "      <td>JOB1362685407688</td>\n",
       "      <td>COMP13</td>\n",
       "      <td>JUNIOR</td>\n",
       "      <td>NONE</td>\n",
       "      <td>NONE</td>\n",
       "      <td>AUTO</td>\n",
       "      <td>20</td>\n",
       "      <td>47</td>\n",
       "      <td>140.951082</td>\n",
       "    </tr>\n",
       "    <tr>\n",
       "      <td>2</td>\n",
       "      <td>JOB1362685407689</td>\n",
       "      <td>COMP10</td>\n",
       "      <td>CTO</td>\n",
       "      <td>MASTERS</td>\n",
       "      <td>BIOLOGY</td>\n",
       "      <td>HEALTH</td>\n",
       "      <td>17</td>\n",
       "      <td>9</td>\n",
       "      <td>135.193032</td>\n",
       "    </tr>\n",
       "    <tr>\n",
       "      <td>3</td>\n",
       "      <td>JOB1362685407690</td>\n",
       "      <td>COMP21</td>\n",
       "      <td>MANAGER</td>\n",
       "      <td>HIGH_SCHOOL</td>\n",
       "      <td>NONE</td>\n",
       "      <td>OIL</td>\n",
       "      <td>14</td>\n",
       "      <td>96</td>\n",
       "      <td>123.620657</td>\n",
       "    </tr>\n",
       "    <tr>\n",
       "      <td>4</td>\n",
       "      <td>JOB1362685407691</td>\n",
       "      <td>COMP36</td>\n",
       "      <td>JUNIOR</td>\n",
       "      <td>DOCTORAL</td>\n",
       "      <td>BIOLOGY</td>\n",
       "      <td>OIL</td>\n",
       "      <td>10</td>\n",
       "      <td>44</td>\n",
       "      <td>117.002843</td>\n",
       "    </tr>\n",
       "  </tbody>\n",
       "</table>\n",
       "</div>"
      ],
      "text/plain": [
       "              jobId companyId  jobType       degree    major industry  \\\n",
       "0  JOB1362685407687    COMP33  MANAGER  HIGH_SCHOOL     NONE   HEALTH   \n",
       "1  JOB1362685407688    COMP13   JUNIOR         NONE     NONE     AUTO   \n",
       "2  JOB1362685407689    COMP10      CTO      MASTERS  BIOLOGY   HEALTH   \n",
       "3  JOB1362685407690    COMP21  MANAGER  HIGH_SCHOOL     NONE      OIL   \n",
       "4  JOB1362685407691    COMP36   JUNIOR     DOCTORAL  BIOLOGY      OIL   \n",
       "\n",
       "   yearsExperience  milesFromMetropolis  Predictions  \n",
       "0               22                   73   142.653351  \n",
       "1               20                   47   140.951082  \n",
       "2               17                    9   135.193032  \n",
       "3               14                   96   123.620657  \n",
       "4               10                   44   117.002843  "
      ]
     },
     "execution_count": 194,
     "metadata": {},
     "output_type": "execute_result"
    }
   ],
   "source": [
    "PredictionDataFrame.head()"
   ]
  },
  {
   "cell_type": "markdown",
   "metadata": {},
   "source": [
    "### ---- 10 Deploy solution ----"
   ]
  },
  {
   "cell_type": "code",
   "execution_count": 16,
   "metadata": {},
   "outputs": [],
   "source": [
    "#save your prediction to a csv file or optionally save them as a table in a SQL database\n",
    "#additionally, you want to save a visualization and summary of your prediction and feature importances\n",
    "#these visualizations and summaries will be extremely useful to business stakeholders"
   ]
  },
  {
   "cell_type": "code",
   "execution_count": 196,
   "metadata": {},
   "outputs": [],
   "source": [
    "PredictionDataFrame.to_csv(r'SalaryPrediction.csv', index = False)"
   ]
  },
  {
   "cell_type": "markdown",
   "metadata": {},
   "source": [
    "### ---- 11 Measure efficacy ----"
   ]
  },
  {
   "cell_type": "markdown",
   "metadata": {},
   "source": [
    "We'll skip this step since we don't have the outcomes for the test data"
   ]
  },
  {
   "cell_type": "code",
   "execution_count": null,
   "metadata": {},
   "outputs": [],
   "source": []
  },
  {
   "cell_type": "code",
   "execution_count": null,
   "metadata": {},
   "outputs": [],
   "source": []
  },
  {
   "cell_type": "code",
   "execution_count": null,
   "metadata": {},
   "outputs": [],
   "source": []
  },
  {
   "cell_type": "code",
   "execution_count": null,
   "metadata": {},
   "outputs": [],
   "source": []
  }
 ],
 "metadata": {
  "kernelspec": {
   "display_name": "Python 3",
   "language": "python",
   "name": "python3"
  },
  "language_info": {
   "codemirror_mode": {
    "name": "ipython",
    "version": 3
   },
   "file_extension": ".py",
   "mimetype": "text/x-python",
   "name": "python",
   "nbconvert_exporter": "python",
   "pygments_lexer": "ipython3",
   "version": "3.7.4"
  }
 },
 "nbformat": 4,
 "nbformat_minor": 2
}
